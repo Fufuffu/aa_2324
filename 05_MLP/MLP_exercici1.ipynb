{
 "cells": [
  {
   "cell_type": "code",
   "execution_count": 2,
   "metadata": {
    "id": "XxdTVpgVQ6Jp"
   },
   "outputs": [],
   "source": [
    "# -*- coding: utf-8 -*-\n",
    "import torch\n",
    "import math\n",
    "import torch.optim as optim\n",
    "import numpy as np\n",
    "import matplotlib.pyplot as plt\n",
    "from sklearn.model_selection import train_test_split\n",
    "\n",
    "\n",
    "from sklearn.datasets import make_friedman1"
   ]
  },
  {
   "cell_type": "markdown",
   "metadata": {
    "id": "CPAOix_lRtN1"
   },
   "source": [
    "# Exercici de Regressió\n",
    "\n",
    "En aquest primer exercici el que es demana és que repetiu el mateix procés que el tutorial però en un problema una mica més complicat. La vostra xarxa haurà de tenir alguna capa més.\n",
    "\n",
    "## Generació de les dades\n",
    "Emprarem un conjunt de dades que s'autogenera a partir de certs paràmetres, la variable a predir es correspon amb la següent fórmula:\n",
    "\n",
    "$y(X) = 10 * \\sin(\\pi * X[0] * X[1]) + 20 * (X[2] - 0.5)^2 + 10 * X[3] + 5 * X[4] + noise * N(0, 1).$\n",
    "\n",
    "Com podeu observar tenim 5 variables útils i les altres que són independents de `y`.\n",
    "\n",
    "[Més informació](https://projecteuclid.org/journals/annals-of-statistics/volume-19/issue-1/Multivariate-Adaptive-Regression-Splines/10.1214/aos/1176347963.full)\n",
    "\n",
    "**ToDo**\n",
    "\n",
    "- En aquesta passa només heu de separar les dades en conjunt d'entrenament i test. Les etiquetes del conjunt de test s'han de dir `y_test`.\n"
   ]
  },
  {
   "cell_type": "code",
   "execution_count": 3,
   "metadata": {
    "id": "bk0yTJY2Rstp"
   },
   "outputs": [],
   "source": [
    "X, y = make_friedman1(n_samples=2000, n_features=10, noise=0.0, random_state=33)\n",
    "\n",
    "X = torch.from_numpy(X)\n",
    "y =  torch.from_numpy(y)\n",
    "X = X.float()\n",
    "y = y.float()\n",
    "\n",
    "X_train, X_test, y_train, y_test = train_test_split(X, y, test_size=0.33, random_state=42)"
   ]
  },
  {
   "cell_type": "markdown",
   "metadata": {
    "id": "48Xadr-fV11A"
   },
   "source": [
    "## Definició de la xarxa\n",
    "\n",
    "**ToDo**\n",
    "- Heu de definir la xarxa amb la qual voleu treballar, provau amb diferents arquitectures.\n",
    "- Heu de definir la funció de pèrdua, podeu emprar MSE."
   ]
  },
  {
   "cell_type": "code",
   "execution_count": 25,
   "metadata": {
    "id": "7Nuf4lBWRWCX"
   },
   "outputs": [],
   "source": [
    "model = torch.nn.Sequential(    \n",
    "    torch.nn.Linear(10, 5),\n",
    "    torch.nn.Linear(5, 1),\n",
    "    torch.nn.Flatten(0, 1))\n",
    "\n",
    "# The nn package also contains definitions of popular loss functions; in this\n",
    "# case we will use Mean Squared Error (MSE) as our loss function.\n",
    "loss_fn = torch.nn.MSELoss(reduction='sum')\n",
    "\n",
    "learning_rate =  1e-6\n",
    "\n",
    "# Definition of the optimizer: Stochastic Gradient Descent (SGD)\n",
    "# Rep per paràmetre els paràmetres del model i el\n",
    "optimizer = optim.SGD(model.parameters(), lr=learning_rate)"
   ]
  },
  {
   "cell_type": "markdown",
   "metadata": {
    "id": "rB17SF-GWDKV"
   },
   "source": [
    "## Entrenament\n",
    "\n",
    "En aquesta part heu de definir el bucle d'entrenament:\n",
    "\n",
    "**ToDo**\n",
    "\n",
    "  - Predicció.\n",
    "  - Càlcul de la funció de pèrdua.\n",
    "  - Càlcul del descens del gradient.\n",
    "\n",
    "Volem veure un gràfic on es mostri el valor de la funció de pèrdua pel conjunt d'entrenament i del conjunt de test a cada iteració.\n"
   ]
  },
  {
   "cell_type": "code",
   "execution_count": 26,
   "metadata": {
    "id": "AFTYhyLRWE24"
   },
   "outputs": [],
   "source": [
    "iter = 5000\n",
    "\n",
    "for t in range(iter):\n",
    "\n",
    "    # Forward pass: compute predicted y by passing x to the model. Module objects\n",
    "    # override the __call__ operator so you can call them like functions. When\n",
    "    # doing so you pass a Tensor of input data to the Module and it produces\n",
    "    # a Tensor of output data.\n",
    "    y_pred = model(X_train)\n",
    "\n",
    "    # Compute and print loss. We pass Tensors containing the predicted and true\n",
    "    # values of y, and the loss function returns a Tensor containing the\n",
    "    # loss.\n",
    "    loss = loss_fn(y_pred,y_train)\n",
    "    \n",
    "    # Zero the gradients before running the backward pass.\n",
    "    model.zero_grad()\n",
    "\n",
    "    # Backward pass: compute gradient of the loss with respect to all the learnable\n",
    "    # parameters of the model. Internally, the parameters of each Module are stored\n",
    "    # in Tensors with requires_grad=True, so this call will compute gradients for\n",
    "    # all learnable parameters in the model.\n",
    "    loss.backward()\n",
    "\n",
    "    # Update the weights using gradient descent. Each parameter is a Tensor, so\n",
    "    # we can access its gradients like we did before.\n",
    "    with torch.no_grad():\n",
    "        #for param in model.parameters():\n",
    "            #param -= learning_rate * param.grad\n",
    "        optimizer.step()"
   ]
  },
  {
   "cell_type": "markdown",
   "metadata": {
    "id": "v5oZykCgcNqD"
   },
   "source": [
    "## Resultats\n",
    "\n",
    "**ToDo**\n",
    "- Dibuixar el gràfic emprant un gràfic on podrem comparar com de bons són els nostres resultats respecte els"
   ]
  },
  {
   "cell_type": "code",
   "execution_count": 27,
   "metadata": {},
   "outputs": [
    {
     "data": {
      "image/png": "[encoded data removed]",
      "text/plain": [
       "<Figure size 432x288 with 1 Axes>"
      ]
     },
     "metadata": {
      "needs_background": "light"
     },
     "output_type": "display_data"
    }
   ],
   "source": [
    "y_pred = model(X_test)\n",
    "\n",
    "plt.title(\"Resultats visuals\")\n",
    "plt.scatter(y_test, y_pred.detach().numpy(), c=\"red\")\n",
    "plt.plot(y_test, y_test)\n",
    "plt.show()"
   ]
  }
 ],
 "metadata": {
  "colab": {
   "collapsed_sections": [],
   "provenance": []
  },
  "kernelspec": {
   "display_name": "Python 3",
   "language": "python",
   "name": "python3"
  },
  "language_info": {
   "codemirror_mode": {
    "name": "ipython",
    "version": 3
   },
   "file_extension": ".py",
   "mimetype": "text/x-python",
   "name": "python",
   "nbconvert_exporter": "python",
   "pygments_lexer": "ipython3",
   "version": "3.7.3"
  }
 },
 "nbformat": 4,
 "nbformat_minor": 1
}
