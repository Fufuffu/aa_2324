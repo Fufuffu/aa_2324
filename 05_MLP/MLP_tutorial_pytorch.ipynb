{
 "cells": [
  {
   "cell_type": "code",
   "execution_count": 1,
   "metadata": {
    "id": "EJWicB9kWray"
   },
   "outputs": [],
   "source": [
    "# -*- coding: utf-8 -*-\n",
    "import torch\n",
    "import math\n",
    "import torch.optim as optim\n",
    "import numpy as np\n",
    "import matplotlib.pyplot as plt"
   ]
  },
  {
   "cell_type": "markdown",
   "metadata": {
    "id": "zwHy8PyjCjVI"
   },
   "source": [
    "# Introducció\n",
    "\n",
    "Avui començarem a fer feina amb **Pytorch**, ja que la segona part del curs tracta de xarxes neuronals profundes. Aquesta és una biblioteca de programari de codi obert dins l'àmbit d'aprenentatge automàtic, esta escrita en _Python_, _C++_ i _CUDA_, i basada en la biblioteca del programari _Torch_ del llenguatge _LUA_. **PyTorch** va ser desenvolupada inicialment pel departament d'intel·ligència artificial de l'empresa Facebook i l'empresa Uber.\n",
    "\n",
    "Començarem a conèixer aquesta llibreria mitjançant l'execució d'un exemple. Vosaltres a continuació haureu de resoldre dos petits problemes.\n",
    "\n",
    "## Exemple de joguina\n",
    "\n",
    "El problema que volem resoldre és la predicció del valor de la funció sinus per mitjà d'un polinomi de grau 3, es a dir, cercam els coeficients $a$, $b$, $c$ i $d$ de la següent equació: $ y = a + bx + cx^2 + dx^3$ .  Com podem imaginar aquest és un problema de regressió.  Aquest és un problema extremadament senzill i ens permetrà descobrir l'estructura bàsica d'una xarxa emprant **Pytorch**.\n",
    "\n",
    "\n",
    "## Generació de les dades\n",
    "\n",
    "Les dades que necessitarem seran els valors d'entrenament, en concret, generarem 2000 mostres que comprendran els valors de $x$, $x^2$ i $x^3$ entre $-\\Pi$ i $\\Pi$ i els respectius valors de la funció sinus. A més també hem de generar les etiquetes corresponents que, seguint amb les bones pràctiques de l'àrea, anomenarem $y$.\n",
    "\n",
    "\n",
    "**Nota**\n",
    "\n",
    "La funció [unsqueeze](https://pytorch.org/docs/stable/generated/torch.unsqueeze.html) ens permet afegir una dimensió al nostre tensor. En aquest cas concret ens serveix per passar d'un vector a una matriu i així permetre el càlcul posterior amb l'operació `pow`.\n"
   ]
  },
  {
   "cell_type": "code",
   "execution_count": 2,
   "metadata": {
    "colab": {
     "base_uri": "https://localhost:8080/"
    },
    "id": "Tr1xQQvGCk_5",
    "outputId": "aa958ded-4df1-4568-832f-8961b7cb3482"
   },
   "outputs": [
    {
     "name": "stdout",
     "output_type": "stream",
     "text": [
      "Info per entendre que passa:\n",
      "torch.Size([2000])\n",
      "torch.Size([2000, 3])\n",
      "torch.Size([2000])\n"
     ]
    }
   ],
   "source": [
    "# Create Tensors to hold input and outputs.\n",
    "x = torch.linspace(-math.pi, math.pi, 2000)\n",
    "y = torch.sin(x)   # Operacions vectorials\n",
    "# For this example, the output y is a linear function of (x, x^2, x^3), so we can consider it as a linear layer neural network.\n",
    "p = torch.tensor([1, 2, 3])\n",
    "xx = x.unsqueeze(-1).pow(p)\n",
    "\n",
    "print(\"Info per entendre que passa:\")\n",
    "print(x.shape)\n",
    "print(xx.shape)\n",
    "print(y.shape)"
   ]
  },
  {
   "cell_type": "markdown",
   "metadata": {
    "id": "I5ZHoXoTC1aS"
   },
   "source": [
    "## Definició de la xarxa\n",
    "\n",
    "El mòdul [torch.nn](https://pytorch.org/docs/stable/nn.html) conté els blocs basics per la construcció de les xarxes. Utilitzarem `nn.Sequential` per definir el nostre model com una seqüència de capes. Aquest és un mòdul que conté altres mòduls i els aplica en seqüència per produir una sortida. El mòdul lineal `nn.Linear` calcula la sortida de l'entrada mitjançant una funció lineal i opera els tensors interns pel seu pes i biaix. La capa ``nn.Flatten`` \"aplana\" la sortida de la capa lineal a un tensor 1D, perquè coincideixi amb la forma de $y$.\n",
    "\n",
    "A més de la xarxa també definirem els paràmetres de l'entrenament. En aquest cas:\n",
    "\n",
    "- Funció de pèrdua: És la funció que volem minimitzar mitjançant l'entrenament. En aquest cas emprarem el `MSE (Mean Squared Error)`.\n",
    "- Rati d'aprenentatge (_Learning Rate_): Representa la velocitat o el pas amb el qual un model d'aprenentatge automàtic ajusta els pesos i els paràmetres durant el procés d'entrenament.\n",
    "- Algorisme d'Optimització: Tècnica que s'empra per ajustar els pesos i paràmetres d'un model durant el procés d'entrenament. El seu objectiu principal és minimitzar la funció de pèrdua del model. Els optimitzadors determinen com s‟actualitzen els paràmetres del model en funció de l'error calculat (és dependent de la funció de pèrdua elegida)."
   ]
  },
  {
   "cell_type": "code",
   "execution_count": 4,
   "metadata": {
    "id": "noWNoaZDPb-g"
   },
   "outputs": [],
   "source": [
    "model = torch.nn.Sequential(\n",
    "    torch.nn.Linear(3, 1),\n",
    "    torch.nn.Flatten(0, 1))\n",
    "\n",
    "# The nn package also contains definitions of popular loss functions; in this\n",
    "# case we will use Mean Squared Error (MSE) as our loss function.\n",
    "loss_fn = torch.nn.MSELoss(reduction='sum')\n",
    "\n",
    "learning_rate =  1e-6\n",
    "\n",
    "# Definition of the optimizer: Stochastic Gradient Descent (SGD)\n",
    "# Rep per paràmetre els paràmetres del model i el\n",
    "optimizer = optim.SGD(model.parameters(), lr=learning_rate)\n"
   ]
  },
  {
   "cell_type": "markdown",
   "metadata": {
    "id": "dArMpj5MPlH2"
   },
   "source": [
    "## Entrenament\n",
    "\n",
    "Amb **Pytorch** hem de definir el nostre propi bucle d'entrenament, en el qual haurem de realitzar totes les passes d'una iteració:\n",
    "\n",
    "1. Predicció\n",
    "2. Càlcul de la pèrdua\n",
    "3. Còmput del gradient respecte als paràmetres del model.\n",
    "4. Actualitzar els pesos del model"
   ]
  },
  {
   "cell_type": "code",
   "execution_count": 5,
   "metadata": {
    "colab": {
     "base_uri": "https://localhost:8080/",
     "height": 316
    },
    "id": "hI9uoRmmZBwC",
    "outputId": "2da50f6d-0284-4d28-ef63-094233cd2e7c"
   },
   "outputs": [
    {
     "data": {
      "image/png": "[encoded data removed]",
      "text/plain": [
       "<Figure size 432x288 with 1 Axes>"
      ]
     },
     "metadata": {
      "needs_background": "light"
     },
     "output_type": "display_data"
    },
    {
     "name": "stdout",
     "output_type": "stream",
     "text": [
      "Funció estimada\n",
      "  y = 2.203527037636377e-05 + 0.8567087054252625 x + -3.8015582504158374e-06 x^2 + -0.09332581609487534 x^3\n"
     ]
    }
   ],
   "source": [
    "iter = 5000\n",
    "loss_p = np.zeros(iter)  # guardam la pèrdua de cada iteració\n",
    "\n",
    "for t in range(iter):\n",
    "\n",
    "    # Forward pass: compute predicted y by passing x to the model. Module objects\n",
    "    # override the __call__ operator so you can call them like functions. When\n",
    "    # doing so you pass a Tensor of input data to the Module and it produces\n",
    "    # a Tensor of output data.\n",
    "    y_pred = model(xx)\n",
    "\n",
    "    # Compute and print loss. We pass Tensors containing the predicted and true\n",
    "    # values of y, and the loss function returns a Tensor containing the\n",
    "    # loss.\n",
    "    loss = loss_fn(y_pred, y)\n",
    "    loss_p[t] = loss.item()\n",
    "    \n",
    "    # Zero the gradients before running the backward pass.\n",
    "    model.zero_grad()\n",
    "\n",
    "    # Backward pass: compute gradient of the loss with respect to all the learnable\n",
    "    # parameters of the model. Internally, the parameters of each Module are stored\n",
    "    # in Tensors with requires_grad=True, so this call will compute gradients for\n",
    "    # all learnable parameters in the model.\n",
    "    loss.backward()\n",
    "\n",
    "    # Update the weights using gradient descent. Each parameter is a Tensor, so\n",
    "    # we can access its gradients like we did before.\n",
    "    with torch.no_grad():\n",
    "        #for param in model.parameters():\n",
    "            #param -= learning_rate * param.grad\n",
    "        optimizer.step()\n",
    "\n",
    "# You can access the first layer of `model` like accessing the first item of a list\n",
    "linear_layer = model[0]\n",
    "\n",
    "plt.title(\"Funció de pèrdua a cada iteració\")\n",
    "plt.plot(loss_p)\n",
    "plt.show()\n",
    "\n",
    "# For linear layer, its parameters are stored as `weight` and `bias`.\n",
    "print(\"Funció estimada\")\n",
    "print(f'  y = {linear_layer.bias.item()} + {linear_layer.weight[:, 0].item()} x + {linear_layer.weight[:, 1].item()} x^2 + {linear_layer.weight[:, 2].item()} x^3')"
   ]
  },
  {
   "cell_type": "markdown",
   "metadata": {
    "id": "mW3E-MFRO_7T"
   },
   "source": [
    "## Mostram els resultats del nostre aprenentatge\n",
    "\n",
    "Realitzam la predicció en el rang d'entrenament i dibuixam el resultat (vermell) _versus_ la funció original (verd).\n"
   ]
  },
  {
   "cell_type": "code",
   "execution_count": 6,
   "metadata": {
    "colab": {
     "base_uri": "https://localhost:8080/",
     "height": 265
    },
    "id": "pCKQ047ZVSca",
    "outputId": "bb65052c-3fb2-4d2a-8f63-adf012cdbbc2"
   },
   "outputs": [
    {
     "data": {
      "image/png": "[encoded data removed]",
      "text/plain": [
       "<Figure size 432x288 with 1 Axes>"
      ]
     },
     "metadata": {
      "needs_background": "light"
     },
     "output_type": "display_data"
    }
   ],
   "source": [
    "res = np.zeros((2000))\n",
    "\n",
    "llw = linear_layer.weight[:, :]\n",
    "for i, v in enumerate(x):\n",
    "\n",
    "  res[i] = linear_layer.bias.item() + (llw[:, 0].item() * v) + (llw[:, 1].item() * v**2) + (llw[:, 2].item() *  v**3)\n",
    "\n",
    "plt.title(\"\")\n",
    "plt.plot(res, color=\"red\", label=\"aprox\")\n",
    "plt.plot(y, color=\"green\", label=\"sin\")\n",
    "plt.legend()\n",
    "plt.show()"
   ]
  }
 ],
 "metadata": {
  "colab": {
   "collapsed_sections": [],
   "provenance": []
  },
  "kernelspec": {
   "display_name": "Python 3",
   "language": "python",
   "name": "python3"
  },
  "language_info": {
   "codemirror_mode": {
    "name": "ipython",
    "version": 3
   },
   "file_extension": ".py",
   "mimetype": "text/x-python",
   "name": "python",
   "nbconvert_exporter": "python",
   "pygments_lexer": "ipython3",
   "version": "3.7.3"
  }
 },
 "nbformat": 4,
 "nbformat_minor": 1
}
