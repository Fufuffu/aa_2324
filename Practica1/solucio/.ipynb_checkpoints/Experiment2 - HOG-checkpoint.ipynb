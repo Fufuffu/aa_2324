{
 "cells": [
  {
   "cell_type": "markdown",
   "id": "f4dc0511",
   "metadata": {},
   "source": [
    "# Preparam el notebook"
   ]
  },
  {
   "cell_type": "code",
   "execution_count": 1,
   "id": "56d48aed",
   "metadata": {},
   "outputs": [],
   "source": [
    "import os\n",
    "import time\n",
    "import itertools\n",
    "\n",
    "import pandas as pd\n",
    "import numpy as np\n",
    "import seaborn as sns\n",
    "import matplotlib.pyplot as plt\n",
    "\n",
    "from sklearn.feature_extraction import image\n",
    "from sklearn.metrics import accuracy_score, classification_report\n",
    "from sklearn.svm import SVC\n",
    "from sklearn.model_selection import RepeatedStratifiedKFold\n",
    "from sklearn.experimental import enable_halving_search_cv\n",
    "from sklearn.model_selection import HalvingGridSearchCV, train_test_split\n",
    "\n",
    "from skimage.feature import hog\n",
    "from skimage import io\n",
    "from skimage.transform import rotate, resize\n",
    "from skimage.util import random_noise\n",
    "from scipy import ndimage"
   ]
  },
  {
   "cell_type": "markdown",
   "id": "84b3dbba",
   "metadata": {},
   "source": [
    "# Llegim totes les imatges del dataset"
   ]
  },
  {
   "cell_type": "code",
   "execution_count": 2,
   "id": "0df0e040",
   "metadata": {},
   "outputs": [],
   "source": [
    "categories_to_exclude = ['livingroom (case conflict)']\n",
    "\n",
    "def get_image_files_by_folder(root_folder, image_extensions=('jpg', 'jpeg', 'png', 'gif', 'bmp')):\n",
    "    image_files_by_folder = {}\n",
    "\n",
    "    for folder_path, _, files in os.walk(root_folder):\n",
    "        # Aseguram que les categories tinguin el mateix nom\n",
    "        folder_name = os.path.basename(folder_path).lower()\n",
    "        image_files = []\n",
    "\n",
    "        if folder_name in categories_to_exclude:\n",
    "            continue\n",
    "        \n",
    "        for file in files:\n",
    "            file_extension = file.lower().split('.')[-1]\n",
    "            if file_extension in image_extensions:\n",
    "                image_files.append(os.path.join(folder_path, file))\n",
    "\n",
    "        if image_files:\n",
    "            image_files_by_folder[folder_name] = image_files\n",
    "\n",
    "    return image_files_by_folder\n",
    "\n",
    "images_to_load_train = get_image_files_by_folder('data/train')\n",
    "images_to_load_test = get_image_files_by_folder('data/test')"
   ]
  },
  {
   "cell_type": "markdown",
   "id": "378cecbb",
   "metadata": {},
   "source": [
    "# Cream els dataframes"
   ]
  },
  {
   "cell_type": "code",
   "execution_count": 3,
   "id": "1b211f33",
   "metadata": {},
   "outputs": [],
   "source": [
    "def read_and_flatten_images(image_list):\n",
    "    image_data = []\n",
    "    \n",
    "    for image_path in image_list:\n",
    "        img = io.imread(image_path, as_gray=True)\n",
    "        img = resize(img, (200, 200))\n",
    "        image_data.append(img.flatten())\n",
    "    \n",
    "    return image_data\n",
    "\n",
    "def create_dataframe_from_categories(images_to_load):\n",
    "    df = pd.DataFrame()\n",
    "    for label, image_list in images_to_load.items():\n",
    "        image_data = read_and_flatten_images(images_to_load[label])\n",
    "        next_part = pd.DataFrame(image_data)\n",
    "        next_part['label'] = label\n",
    "        df = pd.concat([df, next_part], ignore_index=True)\n",
    "    return df\n",
    "\n",
    "train_df = create_dataframe_from_categories(images_to_load_train)\n",
    "test_df = create_dataframe_from_categories(images_to_load_test)"
   ]
  },
  {
   "cell_type": "code",
   "execution_count": 4,
   "id": "a3605360",
   "metadata": {},
   "outputs": [],
   "source": [
    "train_df_no_label = train_df.drop('label', axis=1)\n",
    "train_labels = train_df['label']\n",
    "\n",
    "def fit_predict_svm(X_train, X_test, y_train, y_test):\n",
    "    svm = SVC(kernel='linear', random_state=1)\n",
    "    svm.fit(X_train, y_train)\n",
    "    y_predicted = svm.predict(X_test)\n",
    "    print(f\"La precisició es de: {accuracy_score(y_test, y_predicted)}\")\n",
    "    \n",
    "    return y_predicted\n",
    "\n",
    "def try_hog(*args, **kwargs):\n",
    "    def apply_hog(row):\n",
    "        image = row.values.reshape(200, 200)\n",
    "        return hog(image, **kwargs)\n",
    "\n",
    "    start_time = time.time()\n",
    "    hog_df = train_df_no_label.apply(apply_hog, axis=1, result_type='expand')\n",
    "    print(f\"Dimensions del DF: {hog_df.shape}\")\n",
    "\n",
    "    X_train, X_validation, y_train, y_validation = train_test_split(hog_df, train_labels, test_size=0.20, random_state=1)\n",
    "    fit_predict_svm(X_train, X_validation, y_train, y_validation)\n",
    "    print(\"HOG + Fit time:\", time.time() - start_time, \"seconds\")"
   ]
  },
  {
   "cell_type": "markdown",
   "id": "26406095",
   "metadata": {},
   "source": [
    "# Entrenam el model i donam una predicció amb diferents paràmetres del HOG"
   ]
  },
  {
   "cell_type": "code",
   "execution_count": 5,
   "id": "3e0369f5",
   "metadata": {},
   "outputs": [
    {
     "name": "stdout",
     "output_type": "stream",
     "text": [
      "Dimensions del DF: (1500, 42849)\n",
      "La precisició es de: 0.6533333333333333\n",
      "HOG + Fit time: 48.27572226524353 seconds\n"
     ]
    }
   ],
   "source": [
    "try_hog()"
   ]
  },
  {
   "cell_type": "code",
   "execution_count": 6,
   "id": "77c84bde",
   "metadata": {},
   "outputs": [
    {
     "name": "stdout",
     "output_type": "stream",
     "text": [
      "Dimensions del DF: (1500, 42849)\n",
      "La precisició es de: 0.67\n",
      "HOG + Fit time: 48.17511796951294 seconds\n"
     ]
    }
   ],
   "source": [
    "# Normalitzat?\n",
    "try_hog(transform_sqrt=True)"
   ]
  },
  {
   "cell_type": "code",
   "execution_count": 7,
   "id": "65e5415f",
   "metadata": {},
   "outputs": [
    {
     "name": "stdout",
     "output_type": "stream",
     "text": [
      "Dimensions del DF: (1500, 57132)\n",
      "La precisició es de: 0.6666666666666666\n",
      "HOG + Fit time: 99.12308979034424 seconds\n"
     ]
    }
   ],
   "source": [
    "# Augmentar orientacions?\n",
    "try_hog(orientations=12, transform_sqrt=True)"
   ]
  },
  {
   "cell_type": "code",
   "execution_count": 8,
   "id": "ccdd3eb0",
   "metadata": {},
   "outputs": [
    {
     "name": "stdout",
     "output_type": "stream",
     "text": [
      "Dimensions del DF: (1500, 38088)\n",
      "La precisició es de: 0.6366666666666667\n",
      "HOG + Fit time: 80.5388879776001 seconds\n"
     ]
    }
   ],
   "source": [
    "# Reduir orientancions?\n",
    "try_hog(orientations=8, transform_sqrt=True)"
   ]
  },
  {
   "cell_type": "code",
   "execution_count": 9,
   "id": "ae7bd8e7",
   "metadata": {},
   "outputs": [
    {
     "name": "stdout",
     "output_type": "stream",
     "text": [
      "Dimensions del DF: (1500, 28566)\n",
      "La precisició es de: 0.63\n",
      "HOG + Fit time: 67.32906126976013 seconds\n"
     ]
    }
   ],
   "source": [
    "# Reduir orientancions?\n",
    "try_hog(orientations=6, transform_sqrt=True)"
   ]
  },
  {
   "cell_type": "code",
   "execution_count": 10,
   "id": "9c0a7524",
   "metadata": {
    "scrolled": true
   },
   "outputs": [
    {
     "name": "stdout",
     "output_type": "stream",
     "text": [
      "Dimensions del DF: (1500, 57600)\n",
      "La precisició es de: 0.65\n",
      "HOG + Fit time: 92.13097381591797 seconds\n"
     ]
    }
   ],
   "source": [
    "# Menys resolucio?\n",
    "try_hog(orientations=9, pixels_per_cell=(10, 10), cells_per_block=(5, 5), transform_sqrt=True)"
   ]
  },
  {
   "cell_type": "code",
   "execution_count": 11,
   "id": "434f0fd1",
   "metadata": {},
   "outputs": [
    {
     "name": "stdout",
     "output_type": "stream",
     "text": [
      "Dimensions del DF: (1500, 108900)\n",
      "La precisició es de: 0.6\n",
      "HOG + Fit time: 146.9048833847046 seconds\n"
     ]
    }
   ],
   "source": [
    "try_hog(orientations=9, pixels_per_cell=(10, 10), cells_per_block=(10, 10), transform_sqrt=True)"
   ]
  },
  {
   "cell_type": "code",
   "execution_count": 12,
   "id": "600c5650",
   "metadata": {},
   "outputs": [
    {
     "name": "stdout",
     "output_type": "stream",
     "text": [
      "Dimensions del DF: (1500, 900)\n",
      "La precisició es de: 0.5666666666666667\n",
      "HOG + Fit time: 14.77531909942627 seconds\n"
     ]
    }
   ],
   "source": [
    "try_hog(orientations=9, pixels_per_cell=(20, 20), cells_per_block=(10, 10))"
   ]
  },
  {
   "cell_type": "code",
   "execution_count": 13,
   "id": "c5ab70e0",
   "metadata": {},
   "outputs": [
    {
     "name": "stdout",
     "output_type": "stream",
     "text": [
      "Dimensions del DF: (1500, 900)\n",
      "La precisició es de: 0.64\n",
      "HOG + Fit time: 12.123485088348389 seconds\n"
     ]
    }
   ],
   "source": [
    "try_hog(orientations=9, pixels_per_cell=(20, 20), cells_per_block=(10, 10), transform_sqrt=True)"
   ]
  },
  {
   "cell_type": "markdown",
   "id": "9ffb0a01",
   "metadata": {},
   "source": [
    "# Es pot reduir més la resolució del HOG?"
   ]
  },
  {
   "cell_type": "code",
   "execution_count": 14,
   "id": "b7d61b06",
   "metadata": {},
   "outputs": [
    {
     "name": "stdout",
     "output_type": "stream",
     "text": [
      "Dimensions del DF: (1500, 0)\n",
      "Error, no es pot augmentar més el tamany de cells_per_block\n"
     ]
    }
   ],
   "source": [
    "try:\n",
    "    try_hog(orientations=9, pixels_per_cell=(20, 20), cells_per_block=(11, 11), transform_sqrt=True)\n",
    "except ValueError:\n",
    "    print(\"Error, no es pot augmentar més el tamany de cells_per_block\")"
   ]
  },
  {
   "cell_type": "code",
   "execution_count": 15,
   "id": "23924802",
   "metadata": {},
   "outputs": [
    {
     "name": "stdout",
     "output_type": "stream",
     "text": [
      "Dimensions del DF: (1500, 0)\n",
      "Error, no es pot augmentar més el tamany de pixels_per_cell\n"
     ]
    }
   ],
   "source": [
    "try:\n",
    "    try_hog(orientations=9, pixels_per_cell=(21, 21), cells_per_block=(10, 10), transform_sqrt=True)\n",
    "except ValueError:\n",
    "    print(\"Error, no es pot augmentar més el tamany de pixels_per_cell\")"
   ]
  },
  {
   "cell_type": "markdown",
   "id": "03693180",
   "metadata": {},
   "source": [
    "# Conclusions\n",
    "\n",
    "El HOG més òptim en termes de precisió és el que fa servir els paràmetres per defecte però aplicant normalització. Tot això, podem veure que és unes 6,5 vegades més lent que un HOG de més baixa resolució com és `pixels_per_cell=(20, 20), cells_per_block=(10, 10)`.\n",
    "\n",
    "És per això que s'ha triat sacrificar un 3% de precisió a canvi d'un millor temps d'execució que permet fer cerques més exhaustives dels hiperparàmetres de l'SVM. El model final hauria de fer servir la parametrització per defecte per a millor rendiment."
   ]
  }
 ],
 "metadata": {
  "kernelspec": {
   "display_name": "Python 3 (ipykernel)",
   "language": "python",
   "name": "python3"
  },
  "language_info": {
   "codemirror_mode": {
    "name": "ipython",
    "version": 3
   },
   "file_extension": ".py",
   "mimetype": "text/x-python",
   "name": "python",
   "nbconvert_exporter": "python",
   "pygments_lexer": "ipython3",
   "version": "3.9.12"
  }
 },
 "nbformat": 4,
 "nbformat_minor": 5
}
