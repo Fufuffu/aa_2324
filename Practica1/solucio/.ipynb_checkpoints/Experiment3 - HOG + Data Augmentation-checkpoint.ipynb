{
 "cells": [
  {
   "cell_type": "markdown",
   "id": "f4dc0511",
   "metadata": {},
   "source": [
    "# Preparam el notebook"
   ]
  },
  {
   "cell_type": "code",
   "execution_count": 1,
   "id": "3b407939",
   "metadata": {},
   "outputs": [],
   "source": [
    "import os\n",
    "import time\n",
    "import itertools\n",
    "\n",
    "import pandas as pd\n",
    "import numpy as np\n",
    "import seaborn as sns\n",
    "import matplotlib.pyplot as plt\n",
    "\n",
    "from sklearn.feature_extraction import image\n",
    "from sklearn.metrics import accuracy_score, classification_report\n",
    "from sklearn.model_selection import train_test_split\n",
    "from sklearn.svm import SVC\n",
    "from sklearn.model_selection import RepeatedStratifiedKFold\n",
    "from sklearn.experimental import enable_halving_search_cv\n",
    "from sklearn.model_selection import HalvingGridSearchCV\n",
    "\n",
    "from skimage.feature import hog\n",
    "from skimage import io\n",
    "from skimage.transform import rotate, resize\n",
    "from skimage.util import random_noise\n",
    "from scipy import ndimage"
   ]
  },
  {
   "cell_type": "markdown",
   "id": "84b3dbba",
   "metadata": {},
   "source": [
    "# Llegim totes les imatges del dataset"
   ]
  },
  {
   "cell_type": "code",
   "execution_count": 2,
   "id": "0df0e040",
   "metadata": {},
   "outputs": [],
   "source": [
    "categories_to_exclude = []\n",
    "\n",
    "def get_image_files_by_folder(root_folder, image_extensions=('jpg', 'jpeg', 'png', 'gif', 'bmp')):\n",
    "    image_files_by_folder = {}\n",
    "\n",
    "    # Walk through the root folder and its subdirectories\n",
    "    for folder_path, _, files in os.walk(root_folder):\n",
    "        folder_name = os.path.basename(folder_path)\n",
    "        image_files = []\n",
    "\n",
    "        if folder_name in categories_to_exclude:\n",
    "            continue\n",
    "        \n",
    "        for file in files:\n",
    "            file_extension = file.lower().split('.')[-1]\n",
    "            if file_extension in image_extensions:\n",
    "                image_files.append(os.path.join(folder_path, file))\n",
    "\n",
    "        if image_files:\n",
    "            image_files_by_folder[folder_name] = image_files\n",
    "\n",
    "    return image_files_by_folder"
   ]
  },
  {
   "cell_type": "code",
   "execution_count": 3,
   "id": "3baf2440",
   "metadata": {},
   "outputs": [
    {
     "data": {
      "text/plain": [
       "dict_keys(['bedroom', 'coast', 'forest', 'highway', 'industrial', 'insidecity', 'kitchen', 'livingroom', 'mountain', 'office', 'opencountry', 'store', 'street', 'suburb', 'tallbuilding'])"
      ]
     },
     "execution_count": 3,
     "metadata": {},
     "output_type": "execute_result"
    }
   ],
   "source": [
    "train_dataset_path = \"data/train\"\n",
    "images_to_load_train = get_image_files_by_folder(train_dataset_path)\n",
    "images_to_load_train.keys()"
   ]
  },
  {
   "cell_type": "code",
   "execution_count": 4,
   "id": "ea808de5",
   "metadata": {},
   "outputs": [
    {
     "data": {
      "text/plain": [
       "dict_keys(['bedroom', 'coast', 'forest', 'highway', 'industrial', 'insidecity', 'kitchen', 'livingroom', 'mountain', 'office', 'opencountry', 'store', 'street', 'suburb', 'tallbuilding'])"
      ]
     },
     "execution_count": 4,
     "metadata": {},
     "output_type": "execute_result"
    }
   ],
   "source": [
    "test_dataset_path = \"data/test\"\n",
    "images_to_load_test = get_image_files_by_folder(test_dataset_path)\n",
    "images_to_load_test.keys()"
   ]
  },
  {
   "cell_type": "markdown",
   "id": "378cecbb",
   "metadata": {},
   "source": [
    "# Cream els dataframes"
   ]
  },
  {
   "cell_type": "code",
   "execution_count": 5,
   "id": "1b211f33",
   "metadata": {},
   "outputs": [],
   "source": [
    "# https://www.codespeedy.com/image-augmentation-using-skimage-in-python/\n",
    "# https://www.kaggle.com/code/tomahim/image-manipulation-augmentation-with-skimage\n",
    "def read_and_flatten_images(image_list, augment_data):\n",
    "    start_time = time.time()\n",
    "    image_data = []\n",
    "    \n",
    "    for image_path in image_list:\n",
    "        img = io.imread(image_path, as_gray=True)\n",
    "        img = resize(img, (200, 200))\n",
    "        images = [img]\n",
    "        if augment_data:\n",
    "            flipped_img = img[:, ::-1]\n",
    "            rotated_5 = rotate(img, 5)\n",
    "            rotated_neg_5 = rotate(img, -5)\n",
    "            rotated_10 = rotate(img, 10)\n",
    "            rotated_neg_10 = rotate(img, -10)\n",
    "            #blured = ndimage.uniform_filter1d(img.astype(np.uint8),mode='constant', size=5)\n",
    "            #noise = random_noise(img)\n",
    "            images = [img, flipped_img, rotated_5, rotated_neg_5, rotated_10, rotated_neg_10]\n",
    "            \n",
    "        for image_to_process in images:\n",
    "            hog_vectors = hog(image_to_process, orientations=9, pixels_per_cell=(20, 20),\n",
    "                              cells_per_block=(10, 10), channel_axis=None,\n",
    "                              transform_sqrt=True)\n",
    "            image_data.append(hog_vectors)\n",
    "    \n",
    "    print(\"Read + HOG + Data augmentation time: \", time.time() - start_time, \" seconds\")\n",
    "    return image_data\n",
    "\n",
    "def create_dataframe_from_categories(images_to_load, augment_data=True):\n",
    "    df = pd.DataFrame()\n",
    "    for label, image_list in images_to_load.items():\n",
    "        image_data = read_and_flatten_images(images_to_load[label], augment_data)\n",
    "        next_part = pd.DataFrame(image_data)\n",
    "        next_part['label'] = label\n",
    "        df = pd.concat([df, next_part], ignore_index=True)\n",
    "    return df"
   ]
  },
  {
   "cell_type": "code",
   "execution_count": 6,
   "id": "ba3cec38",
   "metadata": {},
   "outputs": [
    {
     "name": "stdout",
     "output_type": "stream",
     "text": [
      "Read + HOG + Data augmentation time:  2.774519681930542  seconds\n",
      "Read + HOG + Data augmentation time:  2.6611552238464355  seconds\n",
      "Read + HOG + Data augmentation time:  2.9385528564453125  seconds\n",
      "Read + HOG + Data augmentation time:  2.6375324726104736  seconds\n",
      "Read + HOG + Data augmentation time:  2.816580057144165  seconds\n",
      "Read + HOG + Data augmentation time:  2.7849252223968506  seconds\n",
      "Read + HOG + Data augmentation time:  2.773517608642578  seconds\n",
      "Read + HOG + Data augmentation time:  2.768524646759033  seconds\n",
      "Read + HOG + Data augmentation time:  2.821223497390747  seconds\n",
      "Read + HOG + Data augmentation time:  2.6839540004730225  seconds\n",
      "Read + HOG + Data augmentation time:  2.706458330154419  seconds\n",
      "Read + HOG + Data augmentation time:  2.8065481185913086  seconds\n",
      "Read + HOG + Data augmentation time:  2.7795183658599854  seconds\n",
      "Read + HOG + Data augmentation time:  2.719465732574463  seconds\n",
      "Read + HOG + Data augmentation time:  2.777521848678589  seconds\n",
      "Read + HOG + Data augmentation time:  0.6245665550231934  seconds\n",
      "Read + HOG + Data augmentation time:  1.3542304039001465  seconds\n",
      "Read + HOG + Data augmentation time:  1.3051855564117432  seconds\n",
      "Read + HOG + Data augmentation time:  0.8447670936584473  seconds\n",
      "Read + HOG + Data augmentation time:  1.1830742359161377  seconds\n",
      "Read + HOG + Data augmentation time:  1.1370344161987305  seconds\n",
      "Read + HOG + Data augmentation time:  0.6075518131256104  seconds\n",
      "Read + HOG + Data augmentation time:  1.0079152584075928  seconds\n",
      "Read + HOG + Data augmentation time:  1.49635910987854  seconds\n",
      "Read + HOG + Data augmentation time:  0.5975408554077148  seconds\n",
      "Read + HOG + Data augmentation time:  1.6755235195159912  seconds\n",
      "Read + HOG + Data augmentation time:  1.2131009101867676  seconds\n",
      "Read + HOG + Data augmentation time:  1.0659668445587158  seconds\n",
      "Read + HOG + Data augmentation time:  0.7606894969940186  seconds\n",
      "Read + HOG + Data augmentation time:  1.4222939014434814  seconds\n"
     ]
    }
   ],
   "source": [
    "train_df = create_dataframe_from_categories(images_to_load_train)\n",
    "test_df = create_dataframe_from_categories(images_to_load_test, augment_data=False)"
   ]
  },
  {
   "cell_type": "code",
   "execution_count": 7,
   "id": "91ec8e94",
   "metadata": {},
   "outputs": [
    {
     "data": {
      "text/html": [
       "<div>\n",
       "<style scoped>\n",
       "    .dataframe tbody tr th:only-of-type {\n",
       "        vertical-align: middle;\n",
       "    }\n",
       "\n",
       "    .dataframe tbody tr th {\n",
       "        vertical-align: top;\n",
       "    }\n",
       "\n",
       "    .dataframe thead th {\n",
       "        text-align: right;\n",
       "    }\n",
       "</style>\n",
       "<table border=\"1\" class=\"dataframe\">\n",
       "  <thead>\n",
       "    <tr style=\"text-align: right;\">\n",
       "      <th></th>\n",
       "      <th>0</th>\n",
       "      <th>1</th>\n",
       "      <th>2</th>\n",
       "      <th>3</th>\n",
       "      <th>4</th>\n",
       "      <th>5</th>\n",
       "      <th>6</th>\n",
       "      <th>7</th>\n",
       "      <th>8</th>\n",
       "      <th>9</th>\n",
       "      <th>...</th>\n",
       "      <th>891</th>\n",
       "      <th>892</th>\n",
       "      <th>893</th>\n",
       "      <th>894</th>\n",
       "      <th>895</th>\n",
       "      <th>896</th>\n",
       "      <th>897</th>\n",
       "      <th>898</th>\n",
       "      <th>899</th>\n",
       "      <th>label</th>\n",
       "    </tr>\n",
       "  </thead>\n",
       "  <tbody>\n",
       "    <tr>\n",
       "      <th>8995</th>\n",
       "      <td>0.001039</td>\n",
       "      <td>0.000766</td>\n",
       "      <td>0.000939</td>\n",
       "      <td>0.000796</td>\n",
       "      <td>0.002440</td>\n",
       "      <td>0.000876</td>\n",
       "      <td>0.000395</td>\n",
       "      <td>0.000780</td>\n",
       "      <td>0.000533</td>\n",
       "      <td>0.000859</td>\n",
       "      <td>...</td>\n",
       "      <td>0.017719</td>\n",
       "      <td>0.011141</td>\n",
       "      <td>0.008004</td>\n",
       "      <td>0.018341</td>\n",
       "      <td>0.075753</td>\n",
       "      <td>0.027244</td>\n",
       "      <td>0.011545</td>\n",
       "      <td>0.009606</td>\n",
       "      <td>0.009474</td>\n",
       "      <td>tallbuilding</td>\n",
       "    </tr>\n",
       "    <tr>\n",
       "      <th>8996</th>\n",
       "      <td>0.000979</td>\n",
       "      <td>0.000626</td>\n",
       "      <td>0.000863</td>\n",
       "      <td>0.027091</td>\n",
       "      <td>0.076461</td>\n",
       "      <td>0.076130</td>\n",
       "      <td>0.068162</td>\n",
       "      <td>0.004832</td>\n",
       "      <td>0.001085</td>\n",
       "      <td>0.002772</td>\n",
       "      <td>...</td>\n",
       "      <td>0.000519</td>\n",
       "      <td>0.001317</td>\n",
       "      <td>0.001133</td>\n",
       "      <td>0.046796</td>\n",
       "      <td>0.201938</td>\n",
       "      <td>0.001260</td>\n",
       "      <td>0.000679</td>\n",
       "      <td>0.000433</td>\n",
       "      <td>0.000641</td>\n",
       "      <td>tallbuilding</td>\n",
       "    </tr>\n",
       "    <tr>\n",
       "      <th>8997</th>\n",
       "      <td>0.073616</td>\n",
       "      <td>0.014665</td>\n",
       "      <td>0.003201</td>\n",
       "      <td>0.000649</td>\n",
       "      <td>0.005772</td>\n",
       "      <td>0.037364</td>\n",
       "      <td>0.099021</td>\n",
       "      <td>0.013362</td>\n",
       "      <td>0.023292</td>\n",
       "      <td>0.012826</td>\n",
       "      <td>...</td>\n",
       "      <td>0.200700</td>\n",
       "      <td>0.008825</td>\n",
       "      <td>0.009842</td>\n",
       "      <td>0.032536</td>\n",
       "      <td>0.033540</td>\n",
       "      <td>0.008361</td>\n",
       "      <td>0.001163</td>\n",
       "      <td>0.007489</td>\n",
       "      <td>0.022122</td>\n",
       "      <td>tallbuilding</td>\n",
       "    </tr>\n",
       "    <tr>\n",
       "      <th>8998</th>\n",
       "      <td>0.000000</td>\n",
       "      <td>0.000644</td>\n",
       "      <td>0.004743</td>\n",
       "      <td>0.047090</td>\n",
       "      <td>0.055250</td>\n",
       "      <td>0.043235</td>\n",
       "      <td>0.015563</td>\n",
       "      <td>0.001126</td>\n",
       "      <td>0.000410</td>\n",
       "      <td>0.008572</td>\n",
       "      <td>...</td>\n",
       "      <td>0.000092</td>\n",
       "      <td>0.000410</td>\n",
       "      <td>0.000453</td>\n",
       "      <td>0.135799</td>\n",
       "      <td>0.130995</td>\n",
       "      <td>0.000346</td>\n",
       "      <td>0.000046</td>\n",
       "      <td>0.000172</td>\n",
       "      <td>0.000070</td>\n",
       "      <td>tallbuilding</td>\n",
       "    </tr>\n",
       "    <tr>\n",
       "      <th>8999</th>\n",
       "      <td>0.068149</td>\n",
       "      <td>0.025636</td>\n",
       "      <td>0.001384</td>\n",
       "      <td>0.002226</td>\n",
       "      <td>0.001410</td>\n",
       "      <td>0.007752</td>\n",
       "      <td>0.043765</td>\n",
       "      <td>0.010706</td>\n",
       "      <td>0.014078</td>\n",
       "      <td>0.010990</td>\n",
       "      <td>...</td>\n",
       "      <td>0.158529</td>\n",
       "      <td>0.046157</td>\n",
       "      <td>0.005541</td>\n",
       "      <td>0.011302</td>\n",
       "      <td>0.015794</td>\n",
       "      <td>0.007291</td>\n",
       "      <td>0.007889</td>\n",
       "      <td>0.004537</td>\n",
       "      <td>0.018327</td>\n",
       "      <td>tallbuilding</td>\n",
       "    </tr>\n",
       "  </tbody>\n",
       "</table>\n",
       "<p>5 rows × 901 columns</p>\n",
       "</div>"
      ],
      "text/plain": [
       "             0         1         2         3         4         5         6  \\\n",
       "8995  0.001039  0.000766  0.000939  0.000796  0.002440  0.000876  0.000395   \n",
       "8996  0.000979  0.000626  0.000863  0.027091  0.076461  0.076130  0.068162   \n",
       "8997  0.073616  0.014665  0.003201  0.000649  0.005772  0.037364  0.099021   \n",
       "8998  0.000000  0.000644  0.004743  0.047090  0.055250  0.043235  0.015563   \n",
       "8999  0.068149  0.025636  0.001384  0.002226  0.001410  0.007752  0.043765   \n",
       "\n",
       "             7         8         9  ...       891       892       893  \\\n",
       "8995  0.000780  0.000533  0.000859  ...  0.017719  0.011141  0.008004   \n",
       "8996  0.004832  0.001085  0.002772  ...  0.000519  0.001317  0.001133   \n",
       "8997  0.013362  0.023292  0.012826  ...  0.200700  0.008825  0.009842   \n",
       "8998  0.001126  0.000410  0.008572  ...  0.000092  0.000410  0.000453   \n",
       "8999  0.010706  0.014078  0.010990  ...  0.158529  0.046157  0.005541   \n",
       "\n",
       "           894       895       896       897       898       899         label  \n",
       "8995  0.018341  0.075753  0.027244  0.011545  0.009606  0.009474  tallbuilding  \n",
       "8996  0.046796  0.201938  0.001260  0.000679  0.000433  0.000641  tallbuilding  \n",
       "8997  0.032536  0.033540  0.008361  0.001163  0.007489  0.022122  tallbuilding  \n",
       "8998  0.135799  0.130995  0.000346  0.000046  0.000172  0.000070  tallbuilding  \n",
       "8999  0.011302  0.015794  0.007291  0.007889  0.004537  0.018327  tallbuilding  \n",
       "\n",
       "[5 rows x 901 columns]"
      ]
     },
     "execution_count": 7,
     "metadata": {},
     "output_type": "execute_result"
    }
   ],
   "source": [
    "train_df.tail()"
   ]
  },
  {
   "cell_type": "code",
   "execution_count": 8,
   "id": "21762fce",
   "metadata": {},
   "outputs": [
    {
     "data": {
      "text/plain": [
       "(9000, 901)"
      ]
     },
     "execution_count": 8,
     "metadata": {},
     "output_type": "execute_result"
    }
   ],
   "source": [
    "train_df.shape"
   ]
  },
  {
   "cell_type": "code",
   "execution_count": 9,
   "id": "5ab592bd",
   "metadata": {},
   "outputs": [
    {
     "data": {
      "text/plain": [
       "(2985, 901)"
      ]
     },
     "execution_count": 9,
     "metadata": {},
     "output_type": "execute_result"
    }
   ],
   "source": [
    "test_df.shape"
   ]
  },
  {
   "cell_type": "markdown",
   "id": "f597a98b",
   "metadata": {},
   "source": [
    "# Cream els conjunts de test i d'entrenament"
   ]
  },
  {
   "cell_type": "code",
   "execution_count": 10,
   "id": "33c69420",
   "metadata": {},
   "outputs": [],
   "source": [
    "X_train, X_validation, y_train, y_validation = train_test_split(train_df.drop('label', axis=1), train_df['label'], test_size=0.20, random_state=1)\n",
    "\n",
    "X_test = test_df.drop('label', axis=1)\n",
    "y_test = test_df['label']"
   ]
  },
  {
   "cell_type": "code",
   "execution_count": 11,
   "id": "b353d41d",
   "metadata": {},
   "outputs": [
    {
     "data": {
      "image/png": "[encoded data removed]",
      "text/plain": [
       "<Figure size 720x216 with 1 Axes>"
      ]
     },
     "metadata": {
      "needs_background": "light"
     },
     "output_type": "display_data"
    }
   ],
   "source": [
    "plt.figure(figsize=(10, 3))\n",
    "ax = sns.countplot(x=y_train)\n",
    "ax.set_xticklabels(ax.get_xticklabels(), rotation=30, ha='right')\n",
    "\n",
    "plt.show()"
   ]
  },
  {
   "cell_type": "markdown",
   "id": "b8569fe7",
   "metadata": {},
   "source": [
    "Com podem veure, totes les classes tenen el mateix nombre d'exemples"
   ]
  },
  {
   "cell_type": "markdown",
   "id": "26406095",
   "metadata": {},
   "source": [
    "# Entrenam el model"
   ]
  },
  {
   "cell_type": "code",
   "execution_count": 12,
   "id": "3e0369f5",
   "metadata": {},
   "outputs": [
    {
     "name": "stdout",
     "output_type": "stream",
     "text": [
      "Fit time: 9.082777500152588 seconds\n"
     ]
    }
   ],
   "source": [
    "svm = SVC(C=10, kernel='poly', random_state=33, degree=4, coef0=0.01)\n",
    "start_time = time.time()\n",
    "svm.fit(X_train, y_train)\n",
    "print(\"Fit time:\", time.time() - start_time, \"seconds\")"
   ]
  },
  {
   "cell_type": "markdown",
   "id": "016da1ff",
   "metadata": {},
   "source": [
    "# Donam una predicció"
   ]
  },
  {
   "cell_type": "code",
   "execution_count": 13,
   "id": "a9c1886a",
   "metadata": {},
   "outputs": [
    {
     "name": "stdout",
     "output_type": "stream",
     "text": [
      "La precisició es de: 0.9233333333333333\n"
     ]
    }
   ],
   "source": [
    "y_predicted = svm.predict(X_validation)\n",
    "\n",
    "print(f\"La precisició es de: {accuracy_score(y_validation, y_predicted)}\")\n",
    "# 0.6914 on 15 degree rotation + hflip\n",
    "# 0.6921 on 5 degree rotation + hflip\n",
    "# 0.6931 on 10 degree rotation + hflip\n",
    "# 0.6948 on 5 degree rotation + 10 degree rotation + hflip"
   ]
  },
  {
   "cell_type": "markdown",
   "id": "2d8b146d",
   "metadata": {},
   "source": [
    "# Quines categories tenen major error?"
   ]
  },
  {
   "cell_type": "code",
   "execution_count": 14,
   "id": "c2ae0b83",
   "metadata": {},
   "outputs": [
    {
     "name": "stdout",
     "output_type": "stream",
     "text": [
      "Classification report:\n",
      "               precision    recall  f1-score   support\n",
      "\n",
      "     bedroom       0.87      0.84      0.86       122\n",
      "       coast       0.92      0.94      0.93       125\n",
      "      forest       0.95      1.00      0.97       105\n",
      "     highway       0.95      0.94      0.94       118\n",
      "  industrial       0.92      0.85      0.89       129\n",
      "  insidecity       0.90      0.97      0.93       118\n",
      "     kitchen       0.93      0.90      0.92       114\n",
      "  livingroom       0.91      0.90      0.90       120\n",
      "    mountain       0.96      0.94      0.95       117\n",
      "      office       0.89      0.90      0.89       122\n",
      " opencountry       0.93      0.92      0.93       115\n",
      "       store       0.90      0.90      0.90       123\n",
      "      street       0.96      0.98      0.97       118\n",
      "      suburb       0.98      0.98      0.98       133\n",
      "tallbuilding       0.90      0.89      0.90       121\n",
      "\n",
      "    accuracy                           0.92      1800\n",
      "   macro avg       0.92      0.92      0.92      1800\n",
      "weighted avg       0.92      0.92      0.92      1800\n",
      "\n"
     ]
    }
   ],
   "source": [
    "print(\"Classification report:\\n\", classification_report(y_validation, y_predicted))"
   ]
  },
  {
   "cell_type": "code",
   "execution_count": 15,
   "id": "b4576a76",
   "metadata": {
    "scrolled": false
   },
   "outputs": [
    {
     "data": {
      "image/png": "[encoded data removed]",
      "text/plain": [
       "<Figure size 2160x360 with 1 Axes>"
      ]
     },
     "metadata": {
      "needs_background": "light"
     },
     "output_type": "display_data"
    }
   ],
   "source": [
    "predicted_vs_expected = pd.Series(y_predicted).compare(pd.Series(y_validation).reset_index(drop=True))\n",
    "diff_counts = predicted_vs_expected.value_counts()\n",
    "\n",
    "plt.figure(figsize=(30, 5))\n",
    "ax = diff_counts.plot(kind='bar', color='skyblue')\n",
    "plt.xlabel('Difference between y_predicted and y_test')\n",
    "plt.ylabel('Count')\n",
    "plt.title('Mismatched Labels between y_predicted and y_test')\n",
    "# Rotate x-axis labels for better readability\n",
    "ax.set_xticklabels(ax.get_xticklabels(), rotation=45, ha='right')\n",
    "\n",
    "plt.tight_layout()\n",
    "plt.show()"
   ]
  },
  {
   "cell_type": "markdown",
   "id": "b0d0bc69",
   "metadata": {},
   "source": [
    "# Cercam els millors paràmetres per kernel = 'rbf'"
   ]
  },
  {
   "cell_type": "code",
   "execution_count": 16,
   "id": "2dfb4709",
   "metadata": {},
   "outputs": [
    {
     "data": {
      "text/plain": [
       "{'C': 10,\n",
       " 'break_ties': False,\n",
       " 'cache_size': 200,\n",
       " 'class_weight': None,\n",
       " 'coef0': 0.01,\n",
       " 'decision_function_shape': 'ovr',\n",
       " 'degree': 4,\n",
       " 'gamma': 'scale',\n",
       " 'kernel': 'poly',\n",
       " 'max_iter': -1,\n",
       " 'probability': False,\n",
       " 'random_state': 33,\n",
       " 'shrinking': True,\n",
       " 'tol': 0.001,\n",
       " 'verbose': False}"
      ]
     },
     "execution_count": 16,
     "metadata": {},
     "output_type": "execute_result"
    }
   ],
   "source": [
    "# Mostram tots el parametres del model\n",
    "svm.get_params()"
   ]
  },
  {
   "cell_type": "code",
   "execution_count": 17,
   "id": "26293dec",
   "metadata": {},
   "outputs": [],
   "source": [
    "def showResults(grid_result, number_to_show = 5):\n",
    "    print(f\"Best: {grid_result.best_score_} using {grid_result.best_params_}\")\n",
    "    means = grid_result.cv_results_['mean_test_score']\n",
    "    stds = grid_result.cv_results_['std_test_score']\n",
    "    params = grid_result.cv_results_['params']\n",
    "    results = sorted(zip(means, stds, params), key=lambda x: x[0], reverse=True)\n",
    "    for mean, stdev, param in itertools.islice(results, number_to_show):\n",
    "        print(f\"{mean} ({stdev}) with: {param}\")"
   ]
  },
  {
   "cell_type": "code",
   "execution_count": 18,
   "id": "6fdba443",
   "metadata": {},
   "outputs": [],
   "source": [
    "# from https://scikit-learn.org/stable/auto_examples/svm/plot_rbf_parameters.html#sphx-glr-auto-examples-svm-plot-rbf-parameters-py\n",
    "C_range = np.logspace(-2, 7, 10)\n",
    "gamma_range = np.logspace(-6, 3, 10)\n",
    "param_grid = dict(gamma=gamma_range, C=C_range)"
   ]
  },
  {
   "cell_type": "code",
   "execution_count": 19,
   "id": "d98f95fb",
   "metadata": {},
   "outputs": [
    {
     "name": "stdout",
     "output_type": "stream",
     "text": [
      "n_iterations: 5\n",
      "n_required_iterations: 5\n",
      "n_possible_iterations: 2\n",
      "min_resources_: 900\n",
      "max_resources_: 7200\n",
      "aggressive_elimination: True\n",
      "factor: 3\n",
      "----------\n",
      "iter: 0\n",
      "n_candidates: 100\n",
      "n_resources: 900\n",
      "Fitting 30 folds for each of 100 candidates, totalling 3000 fits\n",
      "----------\n",
      "iter: 1\n",
      "n_candidates: 34\n",
      "n_resources: 900\n",
      "Fitting 30 folds for each of 34 candidates, totalling 1020 fits\n",
      "----------\n",
      "iter: 2\n",
      "n_candidates: 12\n",
      "n_resources: 900\n",
      "Fitting 30 folds for each of 12 candidates, totalling 360 fits\n",
      "----------\n",
      "iter: 3\n",
      "n_candidates: 4\n",
      "n_resources: 900\n",
      "Fitting 30 folds for each of 4 candidates, totalling 120 fits\n",
      "----------\n",
      "iter: 4\n",
      "n_candidates: 2\n",
      "n_resources: 2700\n",
      "Fitting 30 folds for each of 2 candidates, totalling 60 fits\n"
     ]
    }
   ],
   "source": [
    "cv = RepeatedStratifiedKFold(n_splits=10, n_repeats=3, random_state=42)\n",
    "grid_search = HalvingGridSearchCV(estimator=SVC(kernel='rbf'), param_grid=param_grid, n_jobs=12, cv=cv, scoring='accuracy',error_score=0, factor=3,aggressive_elimination=True, verbose=10)\n",
    "grid_result = grid_search.fit(X_train, y_train)"
   ]
  },
  {
   "cell_type": "code",
   "execution_count": 20,
   "id": "12b66304",
   "metadata": {},
   "outputs": [
    {
     "name": "stdout",
     "output_type": "stream",
     "text": [
      "Best: 0.7654320987654322 using {'C': 10000.0, 'gamma': 1.0}\n",
      "0.7654320987654322 (0.024555180030522112) with: {'C': 10000.0, 'gamma': 1.0}\n",
      "0.7654320987654322 (0.024555180030522112) with: {'C': 1000.0, 'gamma': 1.0}\n",
      "0.6296296296296297 (0.05037581669902016) with: {'C': 100.0, 'gamma': 1.0}\n",
      "0.6296296296296297 (0.05037581669902016) with: {'C': 100000.0, 'gamma': 1.0}\n",
      "0.6296296296296297 (0.05037581669902016) with: {'C': 10000.0, 'gamma': 1.0}\n"
     ]
    }
   ],
   "source": [
    "showResults(grid_result)"
   ]
  },
  {
   "cell_type": "markdown",
   "id": "7e2e82f7",
   "metadata": {},
   "source": [
    "# Provam el rendiment del model dalt les dades de test"
   ]
  },
  {
   "cell_type": "code",
   "execution_count": 28,
   "id": "f27bffba",
   "metadata": {},
   "outputs": [
    {
     "name": "stdout",
     "output_type": "stream",
     "text": [
      "La precisició es de: 0.6887772194304858\n"
     ]
    }
   ],
   "source": [
    "model = grid_result.best_estimator_\n",
    "\n",
    "# Entrenam el millor model amb totes les dades d'entrenament (incloent el conjunt de validació)\n",
    "model.fit(train_df.drop('label', axis=1), train_df['label'])\n",
    "\n",
    "# Mostram la precisió obtinguda\n",
    "pred = model.predict(X_test)\n",
    "print(f\"La precisició es de: {accuracy_score(y_test, pred)}\")"
   ]
  },
  {
   "cell_type": "code",
   "execution_count": 29,
   "id": "853ff3ad",
   "metadata": {},
   "outputs": [
    {
     "name": "stdout",
     "output_type": "stream",
     "text": [
      "Classification report:\n",
      "               precision    recall  f1-score   support\n",
      "\n",
      "     bedroom       0.49      0.52      0.50       116\n",
      "       coast       0.77      0.80      0.78       260\n",
      "      forest       0.85      0.85      0.85       228\n",
      "     highway       0.66      0.79      0.72       160\n",
      "  industrial       0.47      0.38      0.42       211\n",
      "  insidecity       0.63      0.64      0.64       208\n",
      "     kitchen       0.48      0.57      0.52       110\n",
      "  livingroom       0.65      0.55      0.60       189\n",
      "    mountain       0.76      0.80      0.78       274\n",
      "      office       0.63      0.64      0.64       115\n",
      " opencountry       0.74      0.73      0.73       310\n",
      "       store       0.57      0.56      0.56       215\n",
      "      street       0.83      0.82      0.83       192\n",
      "      suburb       0.91      0.86      0.88       141\n",
      "tallbuilding       0.65      0.66      0.66       256\n",
      "\n",
      "    accuracy                           0.69      2985\n",
      "   macro avg       0.67      0.68      0.67      2985\n",
      "weighted avg       0.69      0.69      0.69      2985\n",
      "\n"
     ]
    }
   ],
   "source": [
    "print(\"Classification report:\\n\", classification_report(y_test, pred))"
   ]
  },
  {
   "cell_type": "markdown",
   "id": "ca004a3a",
   "metadata": {},
   "source": [
    "# Cercam els millors paràmetres per kernel = 'poly'"
   ]
  },
  {
   "cell_type": "code",
   "execution_count": 23,
   "id": "def3bd86",
   "metadata": {},
   "outputs": [],
   "source": [
    "param_grid = {\n",
    "    'kernel': ['poly'],\n",
    "    'degree': [1, 2, 3, 4, 5, 6, 7, 8],\n",
    "    'coef0': [0.001, 0.01, 0.1, 1, 5, 10],\n",
    "}"
   ]
  },
  {
   "cell_type": "code",
   "execution_count": 24,
   "id": "8973e495",
   "metadata": {},
   "outputs": [
    {
     "name": "stdout",
     "output_type": "stream",
     "text": [
      "n_iterations: 6\n",
      "n_required_iterations: 6\n",
      "n_possible_iterations: 4\n",
      "min_resources_: 900\n",
      "max_resources_: 7200\n",
      "aggressive_elimination: True\n",
      "factor: 2\n",
      "----------\n",
      "iter: 0\n",
      "n_candidates: 48\n",
      "n_resources: 900\n",
      "Fitting 30 folds for each of 48 candidates, totalling 1440 fits\n",
      "----------\n",
      "iter: 1\n",
      "n_candidates: 24\n",
      "n_resources: 900\n",
      "Fitting 30 folds for each of 24 candidates, totalling 720 fits\n",
      "----------\n",
      "iter: 2\n",
      "n_candidates: 12\n",
      "n_resources: 900\n",
      "Fitting 30 folds for each of 12 candidates, totalling 360 fits\n",
      "----------\n",
      "iter: 3\n",
      "n_candidates: 6\n",
      "n_resources: 1800\n",
      "Fitting 30 folds for each of 6 candidates, totalling 180 fits\n",
      "----------\n",
      "iter: 4\n",
      "n_candidates: 3\n",
      "n_resources: 3600\n",
      "Fitting 30 folds for each of 3 candidates, totalling 90 fits\n",
      "----------\n",
      "iter: 5\n",
      "n_candidates: 2\n",
      "n_resources: 7200\n",
      "Fitting 30 folds for each of 2 candidates, totalling 60 fits\n"
     ]
    }
   ],
   "source": [
    "cv = RepeatedStratifiedKFold(n_splits=10, n_repeats=3, random_state=42)\n",
    "grid_search = HalvingGridSearchCV(estimator=SVC(kernel='poly'), param_grid=param_grid, n_jobs=12, cv=cv, scoring='accuracy',error_score=0, factor=2,aggressive_elimination=True, verbose=10)\n",
    "grid_result = grid_search.fit(X_train, y_train)"
   ]
  },
  {
   "cell_type": "code",
   "execution_count": 25,
   "id": "25f1a185",
   "metadata": {},
   "outputs": [
    {
     "name": "stdout",
     "output_type": "stream",
     "text": [
      "Best: 0.9086111111111114 using {'coef0': 1, 'degree': 5, 'kernel': 'poly'}\n",
      "0.9086111111111114 (0.011555911675424219) with: {'coef0': 1, 'degree': 5, 'kernel': 'poly'}\n",
      "0.9068981481481482 (0.010802921066384296) with: {'coef0': 0.1, 'degree': 3, 'kernel': 'poly'}\n",
      "0.8108333333333333 (0.020479714946254383) with: {'coef0': 0.1, 'degree': 3, 'kernel': 'poly'}\n",
      "0.8096296296296296 (0.019241444752385973) with: {'coef0': 1, 'degree': 5, 'kernel': 'poly'}\n",
      "0.8071296296296295 (0.018477036873708216) with: {'coef0': 5, 'degree': 7, 'kernel': 'poly'}\n"
     ]
    }
   ],
   "source": [
    "showResults(grid_result)"
   ]
  },
  {
   "cell_type": "markdown",
   "id": "26b7c54a",
   "metadata": {},
   "source": [
    "# Provam el rendiment del model dalt les dades de test"
   ]
  },
  {
   "cell_type": "code",
   "execution_count": 30,
   "id": "deb4712c",
   "metadata": {},
   "outputs": [
    {
     "name": "stdout",
     "output_type": "stream",
     "text": [
      "La precisició es de: 0.6887772194304858\n"
     ]
    }
   ],
   "source": [
    "model = grid_result.best_estimator_\n",
    "\n",
    "# Entrenam el millor model amb totes les dades d'entrenament (incloent el conjunt de validació)\n",
    "model.fit(train_df.drop('label', axis=1), train_df['label'])\n",
    "\n",
    "# Mostram la precisió obtinguda\n",
    "pred = model.predict(X_test)\n",
    "print(f\"La precisició es de: {accuracy_score(y_test, pred)}\")"
   ]
  },
  {
   "cell_type": "code",
   "execution_count": 31,
   "id": "bebeec95",
   "metadata": {},
   "outputs": [
    {
     "name": "stdout",
     "output_type": "stream",
     "text": [
      "Classification report:\n",
      "               precision    recall  f1-score   support\n",
      "\n",
      "     bedroom       0.49      0.52      0.50       116\n",
      "       coast       0.77      0.80      0.78       260\n",
      "      forest       0.85      0.85      0.85       228\n",
      "     highway       0.66      0.79      0.72       160\n",
      "  industrial       0.47      0.38      0.42       211\n",
      "  insidecity       0.63      0.64      0.64       208\n",
      "     kitchen       0.48      0.57      0.52       110\n",
      "  livingroom       0.65      0.55      0.60       189\n",
      "    mountain       0.76      0.80      0.78       274\n",
      "      office       0.63      0.64      0.64       115\n",
      " opencountry       0.74      0.73      0.73       310\n",
      "       store       0.57      0.56      0.56       215\n",
      "      street       0.83      0.82      0.83       192\n",
      "      suburb       0.91      0.86      0.88       141\n",
      "tallbuilding       0.65      0.66      0.66       256\n",
      "\n",
      "    accuracy                           0.69      2985\n",
      "   macro avg       0.67      0.68      0.67      2985\n",
      "weighted avg       0.69      0.69      0.69      2985\n",
      "\n"
     ]
    }
   ],
   "source": [
    "print(\"Classification report:\\n\", classification_report(y_test, pred))"
   ]
  }
 ],
 "metadata": {
  "kernelspec": {
   "display_name": "Python 3 (ipykernel)",
   "language": "python",
   "name": "python3"
  },
  "language_info": {
   "codemirror_mode": {
    "name": "ipython",
    "version": 3
   },
   "file_extension": ".py",
   "mimetype": "text/x-python",
   "name": "python",
   "nbconvert_exporter": "python",
   "pygments_lexer": "ipython3",
   "version": "3.9.12"
  }
 },
 "nbformat": 4,
 "nbformat_minor": 5
}
