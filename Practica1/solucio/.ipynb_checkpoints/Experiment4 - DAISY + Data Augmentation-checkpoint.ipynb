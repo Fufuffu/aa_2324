{
 "cells": [
  {
   "cell_type": "markdown",
   "id": "f4dc0511",
   "metadata": {},
   "source": [
    "# Preparam el notebook"
   ]
  },
  {
   "cell_type": "code",
   "execution_count": 5,
   "id": "310bfd42",
   "metadata": {},
   "outputs": [],
   "source": [
    "import os\n",
    "import time\n",
    "import itertools\n",
    "\n",
    "import pandas as pd\n",
    "import numpy as np\n",
    "import seaborn as sns\n",
    "import matplotlib.pyplot as plt\n",
    "\n",
    "from sklearn.feature_extraction import image\n",
    "from sklearn.metrics import accuracy_score, classification_report\n",
    "from sklearn.model_selection import RepeatedStratifiedKFold\n",
    "from sklearn.experimental import enable_halving_search_cv\n",
    "from sklearn.model_selection import HalvingGridSearchCV\n",
    "\n",
    "from skimage.feature import daisy\n",
    "from skimage import io\n",
    "from skimage.transform import rotate, resize\n",
    "from skimage.util import random_noise\n",
    "from scipy import ndimage"
   ]
  },
  {
   "cell_type": "markdown",
   "id": "213c4e7f",
   "metadata": {},
   "source": [
    "# Llegim totes les imatges del dataset"
   ]
  },
  {
   "cell_type": "code",
   "execution_count": 6,
   "id": "0df0e040",
   "metadata": {},
   "outputs": [],
   "source": [
    "def get_image_files_by_folder(root_folder, image_extensions=('jpg', 'jpeg', 'png', 'gif', 'bmp')):\n",
    "    image_files_by_folder = {}\n",
    "\n",
    "    # Walk through the root folder and its subdirectories\n",
    "    for folder_path, _, files in os.walk(root_folder):\n",
    "        folder_name = os.path.basename(folder_path)\n",
    "        image_files = []\n",
    "\n",
    "        for file in files:\n",
    "            file_extension = file.lower().split('.')[-1]\n",
    "            if file_extension in image_extensions:\n",
    "                image_files.append(os.path.join(folder_path, file))\n",
    "\n",
    "        if image_files:\n",
    "            image_files_by_folder[folder_name] = image_files\n",
    "\n",
    "    return image_files_by_folder"
   ]
  },
  {
   "cell_type": "code",
   "execution_count": 7,
   "id": "3baf2440",
   "metadata": {},
   "outputs": [
    {
     "data": {
      "text/plain": [
       "dict_keys(['bedroom', 'coast', 'forest', 'highway', 'industrial', 'insidecity', 'kitchen', 'livingroom', 'mountain', 'office', 'opencountry', 'store', 'street', 'suburb', 'tallbuilding'])"
      ]
     },
     "execution_count": 7,
     "metadata": {},
     "output_type": "execute_result"
    }
   ],
   "source": [
    "train_dataset_path = \"data/train\"\n",
    "images_to_load_train = get_image_files_by_folder(train_dataset_path)\n",
    "images_to_load_train.keys()"
   ]
  },
  {
   "cell_type": "code",
   "execution_count": 8,
   "id": "9df464cc",
   "metadata": {},
   "outputs": [
    {
     "data": {
      "text/plain": [
       "dict_keys(['bedroom', 'coast', 'forest', 'highway', 'industrial', 'insidecity', 'kitchen', 'livingroom', 'mountain', 'office', 'opencountry', 'store', 'street', 'suburb', 'tallbuilding'])"
      ]
     },
     "execution_count": 8,
     "metadata": {},
     "output_type": "execute_result"
    }
   ],
   "source": [
    "test_dataset_path = \"data/test\"\n",
    "images_to_load_test = get_image_files_by_folder(test_dataset_path)\n",
    "images_to_load_test.keys()"
   ]
  },
  {
   "cell_type": "markdown",
   "id": "83088395",
   "metadata": {},
   "source": [
    "# Cream el dataframe"
   ]
  },
  {
   "cell_type": "code",
   "execution_count": 9,
   "id": "5f816662",
   "metadata": {},
   "outputs": [],
   "source": [
    "def read_and_flatten_images(image_list, augment_data):\n",
    "    start_time = time.time()\n",
    "    image_data = []\n",
    "    \n",
    "    # https://stackoverflow.com/questions/40407723/python-skimage-daisy-different-sizes-of-feature-vectors\n",
    "    for image_path in image_list:\n",
    "        img = io.imread(image_path, as_gray=True)\n",
    "        img = resize(img, (200, 200))\n",
    "        \n",
    "        if augment_data:\n",
    "            flipped_img = img[:, ::-1]\n",
    "            rotated_5 = rotate(img, 5)\n",
    "            rotated_neg_5 = rotate(img, -5)\n",
    "            blured = ndimage.uniform_filter(img)\n",
    "            images = [img, flipped_img, rotated_5, rotated_neg_5, blured]\n",
    "        else:\n",
    "            images = [img]\n",
    "\n",
    "        for image_to_process in images:\n",
    "            descs=daisy(image_to_process, step=20, radius=20, rings=3, histograms=6,\n",
    "                        orientations=8, normalization='daisy')\n",
    "            if descs.shape[0]!=3:\n",
    "                descs=descs.transpose(1, 0, 2)\n",
    "            image_data.append(descs.reshape(descs.size).tolist())\n",
    "    \n",
    "    end_time = time.time()\n",
    "    print(\"Read + DAISY time : \", end_time - start_time, \" seconds\")\n",
    "\n",
    "    return image_data\n",
    "\n",
    "def create_dataframe_from_categories(images_to_load, augment_data=True):\n",
    "    df = pd.DataFrame()\n",
    "    for label, image_list in images_to_load.items():\n",
    "        image_data = read_and_flatten_images(images_to_load[label], augment_data)\n",
    "        next_part = pd.DataFrame(image_data)\n",
    "        next_part['label'] = label\n",
    "        df = pd.concat([df, next_part], ignore_index=True)\n",
    "    return df"
   ]
  },
  {
   "cell_type": "code",
   "execution_count": 10,
   "id": "72e172c4",
   "metadata": {},
   "outputs": [
    {
     "name": "stdout",
     "output_type": "stream",
     "text": [
      "Read + DAISY time :  21.12118101119995  seconds\n",
      "Read + DAISY time :  21.077142000198364  seconds\n",
      "Read + DAISY time :  21.670873165130615  seconds\n",
      "Read + DAISY time :  21.21501922607422  seconds\n",
      "Read + DAISY time :  21.4317843914032  seconds\n",
      "Read + DAISY time :  21.534555435180664  seconds\n",
      "Read + DAISY time :  21.53955841064453  seconds\n",
      "Read + DAISY time :  21.530551195144653  seconds\n",
      "Read + DAISY time :  21.499522924423218  seconds\n",
      "Read + DAISY time :  21.655836582183838  seconds\n",
      "Read + DAISY time :  21.70170760154724  seconds\n",
      "Read + DAISY time :  21.466506958007812  seconds\n",
      "Read + DAISY time :  21.500532627105713  seconds\n",
      "Read + DAISY time :  22.334280490875244  seconds\n",
      "Read + DAISY time :  21.76877498626709  seconds\n",
      "Read + DAISY time :  5.197720289230347  seconds\n",
      "Read + DAISY time :  11.732423782348633  seconds\n",
      "Read + DAISY time :  10.361430883407593  seconds\n",
      "Read + DAISY time :  7.121933460235596  seconds\n",
      "Read + DAISY time :  9.498595237731934  seconds\n",
      "Read + DAISY time :  9.248397588729858  seconds\n",
      "Read + DAISY time :  4.9104859828948975  seconds\n",
      "Read + DAISY time :  8.401627779006958  seconds\n",
      "Read + DAISY time :  12.16004991531372  seconds\n",
      "Read + DAISY time :  5.088616847991943  seconds\n",
      "Read + DAISY time :  13.733468294143677  seconds\n",
      "Read + DAISY time :  9.573691368103027  seconds\n",
      "Read + DAISY time :  8.52273941040039  seconds\n",
      "Read + DAISY time :  6.3930747509002686  seconds\n",
      "Read + DAISY time :  11.34530758857727  seconds\n"
     ]
    }
   ],
   "source": [
    "train_df = create_dataframe_from_categories(images_to_load_train)\n",
    "test_df = create_dataframe_from_categories(images_to_load_test, augment_data=False)"
   ]
  },
  {
   "cell_type": "code",
   "execution_count": 11,
   "id": "41ea2b3f",
   "metadata": {},
   "outputs": [
    {
     "data": {
      "text/html": [
       "<div>\n",
       "<style scoped>\n",
       "    .dataframe tbody tr th:only-of-type {\n",
       "        vertical-align: middle;\n",
       "    }\n",
       "\n",
       "    .dataframe tbody tr th {\n",
       "        vertical-align: top;\n",
       "    }\n",
       "\n",
       "    .dataframe thead th {\n",
       "        text-align: right;\n",
       "    }\n",
       "</style>\n",
       "<table border=\"1\" class=\"dataframe\">\n",
       "  <thead>\n",
       "    <tr style=\"text-align: right;\">\n",
       "      <th></th>\n",
       "      <th>0</th>\n",
       "      <th>1</th>\n",
       "      <th>2</th>\n",
       "      <th>3</th>\n",
       "      <th>4</th>\n",
       "      <th>5</th>\n",
       "      <th>6</th>\n",
       "      <th>7</th>\n",
       "      <th>8</th>\n",
       "      <th>9</th>\n",
       "      <th>...</th>\n",
       "      <th>9719</th>\n",
       "      <th>9720</th>\n",
       "      <th>9721</th>\n",
       "      <th>9722</th>\n",
       "      <th>9723</th>\n",
       "      <th>9724</th>\n",
       "      <th>9725</th>\n",
       "      <th>9726</th>\n",
       "      <th>9727</th>\n",
       "      <th>label</th>\n",
       "    </tr>\n",
       "  </thead>\n",
       "  <tbody>\n",
       "    <tr>\n",
       "      <th>0</th>\n",
       "      <td>0.529159</td>\n",
       "      <td>0.270147</td>\n",
       "      <td>0.100001</td>\n",
       "      <td>0.243577</td>\n",
       "      <td>0.584324</td>\n",
       "      <td>0.374253</td>\n",
       "      <td>0.130544</td>\n",
       "      <td>0.281317</td>\n",
       "      <td>0.368490</td>\n",
       "      <td>0.301663</td>\n",
       "      <td>...</td>\n",
       "      <td>0.207240</td>\n",
       "      <td>0.283503</td>\n",
       "      <td>0.311956</td>\n",
       "      <td>0.434995</td>\n",
       "      <td>0.416706</td>\n",
       "      <td>0.320719</td>\n",
       "      <td>0.306273</td>\n",
       "      <td>0.376869</td>\n",
       "      <td>0.347493</td>\n",
       "      <td>bedroom</td>\n",
       "    </tr>\n",
       "    <tr>\n",
       "      <th>1</th>\n",
       "      <td>0.747859</td>\n",
       "      <td>0.358248</td>\n",
       "      <td>0.097406</td>\n",
       "      <td>0.096803</td>\n",
       "      <td>0.173650</td>\n",
       "      <td>0.143574</td>\n",
       "      <td>0.171072</td>\n",
       "      <td>0.462032</td>\n",
       "      <td>0.683184</td>\n",
       "      <td>0.328124</td>\n",
       "      <td>...</td>\n",
       "      <td>0.276517</td>\n",
       "      <td>0.481669</td>\n",
       "      <td>0.524969</td>\n",
       "      <td>0.370582</td>\n",
       "      <td>0.250800</td>\n",
       "      <td>0.239124</td>\n",
       "      <td>0.267051</td>\n",
       "      <td>0.264085</td>\n",
       "      <td>0.306487</td>\n",
       "      <td>bedroom</td>\n",
       "    </tr>\n",
       "    <tr>\n",
       "      <th>2</th>\n",
       "      <td>0.183456</td>\n",
       "      <td>0.088688</td>\n",
       "      <td>0.053649</td>\n",
       "      <td>0.065625</td>\n",
       "      <td>0.144178</td>\n",
       "      <td>0.371335</td>\n",
       "      <td>0.743894</td>\n",
       "      <td>0.489120</td>\n",
       "      <td>0.310759</td>\n",
       "      <td>0.118651</td>\n",
       "      <td>...</td>\n",
       "      <td>0.225881</td>\n",
       "      <td>0.306815</td>\n",
       "      <td>0.276344</td>\n",
       "      <td>0.393537</td>\n",
       "      <td>0.412525</td>\n",
       "      <td>0.357241</td>\n",
       "      <td>0.318678</td>\n",
       "      <td>0.375119</td>\n",
       "      <td>0.366823</td>\n",
       "      <td>bedroom</td>\n",
       "    </tr>\n",
       "    <tr>\n",
       "      <th>3</th>\n",
       "      <td>0.656353</td>\n",
       "      <td>0.366611</td>\n",
       "      <td>0.113917</td>\n",
       "      <td>0.179953</td>\n",
       "      <td>0.406374</td>\n",
       "      <td>0.298411</td>\n",
       "      <td>0.145376</td>\n",
       "      <td>0.337807</td>\n",
       "      <td>0.502952</td>\n",
       "      <td>0.273112</td>\n",
       "      <td>...</td>\n",
       "      <td>0.193361</td>\n",
       "      <td>0.274376</td>\n",
       "      <td>0.339333</td>\n",
       "      <td>0.455079</td>\n",
       "      <td>0.433508</td>\n",
       "      <td>0.304425</td>\n",
       "      <td>0.290269</td>\n",
       "      <td>0.357456</td>\n",
       "      <td>0.331420</td>\n",
       "      <td>bedroom</td>\n",
       "    </tr>\n",
       "    <tr>\n",
       "      <th>4</th>\n",
       "      <td>0.451694</td>\n",
       "      <td>0.220660</td>\n",
       "      <td>0.089481</td>\n",
       "      <td>0.247178</td>\n",
       "      <td>0.588793</td>\n",
       "      <td>0.428169</td>\n",
       "      <td>0.238612</td>\n",
       "      <td>0.302053</td>\n",
       "      <td>0.256046</td>\n",
       "      <td>0.197409</td>\n",
       "      <td>...</td>\n",
       "      <td>0.185772</td>\n",
       "      <td>0.273699</td>\n",
       "      <td>0.278644</td>\n",
       "      <td>0.446318</td>\n",
       "      <td>0.472974</td>\n",
       "      <td>0.330327</td>\n",
       "      <td>0.275576</td>\n",
       "      <td>0.343467</td>\n",
       "      <td>0.348590</td>\n",
       "      <td>bedroom</td>\n",
       "    </tr>\n",
       "  </tbody>\n",
       "</table>\n",
       "<p>5 rows × 9729 columns</p>\n",
       "</div>"
      ],
      "text/plain": [
       "          0         1         2         3         4         5         6  \\\n",
       "0  0.529159  0.270147  0.100001  0.243577  0.584324  0.374253  0.130544   \n",
       "1  0.747859  0.358248  0.097406  0.096803  0.173650  0.143574  0.171072   \n",
       "2  0.183456  0.088688  0.053649  0.065625  0.144178  0.371335  0.743894   \n",
       "3  0.656353  0.366611  0.113917  0.179953  0.406374  0.298411  0.145376   \n",
       "4  0.451694  0.220660  0.089481  0.247178  0.588793  0.428169  0.238612   \n",
       "\n",
       "          7         8         9  ...      9719      9720      9721      9722  \\\n",
       "0  0.281317  0.368490  0.301663  ...  0.207240  0.283503  0.311956  0.434995   \n",
       "1  0.462032  0.683184  0.328124  ...  0.276517  0.481669  0.524969  0.370582   \n",
       "2  0.489120  0.310759  0.118651  ...  0.225881  0.306815  0.276344  0.393537   \n",
       "3  0.337807  0.502952  0.273112  ...  0.193361  0.274376  0.339333  0.455079   \n",
       "4  0.302053  0.256046  0.197409  ...  0.185772  0.273699  0.278644  0.446318   \n",
       "\n",
       "       9723      9724      9725      9726      9727    label  \n",
       "0  0.416706  0.320719  0.306273  0.376869  0.347493  bedroom  \n",
       "1  0.250800  0.239124  0.267051  0.264085  0.306487  bedroom  \n",
       "2  0.412525  0.357241  0.318678  0.375119  0.366823  bedroom  \n",
       "3  0.433508  0.304425  0.290269  0.357456  0.331420  bedroom  \n",
       "4  0.472974  0.330327  0.275576  0.343467  0.348590  bedroom  \n",
       "\n",
       "[5 rows x 9729 columns]"
      ]
     },
     "execution_count": 11,
     "metadata": {},
     "output_type": "execute_result"
    }
   ],
   "source": [
    "train_df.head()"
   ]
  },
  {
   "cell_type": "code",
   "execution_count": 12,
   "id": "b9d2c1fe",
   "metadata": {},
   "outputs": [
    {
     "data": {
      "text/plain": [
       "(7500, 9729)"
      ]
     },
     "execution_count": 12,
     "metadata": {},
     "output_type": "execute_result"
    }
   ],
   "source": [
    "train_df.shape"
   ]
  },
  {
   "cell_type": "code",
   "execution_count": 13,
   "id": "99beda95",
   "metadata": {},
   "outputs": [
    {
     "data": {
      "text/plain": [
       "(2985, 9729)"
      ]
     },
     "execution_count": 13,
     "metadata": {},
     "output_type": "execute_result"
    }
   ],
   "source": [
    "test_df.shape"
   ]
  },
  {
   "cell_type": "markdown",
   "id": "bf4f0811",
   "metadata": {},
   "source": [
    "# Cream els conjunts de test i d'entrenament"
   ]
  },
  {
   "cell_type": "code",
   "execution_count": 14,
   "id": "afeeae70",
   "metadata": {},
   "outputs": [],
   "source": [
    "X_train = train_df.drop('label', axis=1)\n",
    "y_train = train_df['label']\n",
    "\n",
    "X_test = test_df.drop('label', axis=1)\n",
    "y_test = test_df['label']"
   ]
  },
  {
   "cell_type": "markdown",
   "id": "f1f6e1bc",
   "metadata": {},
   "source": [
    "# Entrenam el model"
   ]
  },
  {
   "cell_type": "code",
   "execution_count": 15,
   "id": "b2c89e70",
   "metadata": {},
   "outputs": [
    {
     "name": "stdout",
     "output_type": "stream",
     "text": [
      "fit time: 84.69987654685974 seconds\n"
     ]
    }
   ],
   "source": [
    "svm = SVC(C=1.0, kernel='poly', random_state=42)\n",
    "start_time = time.time()\n",
    "svm.fit(X_train, y_train)\n",
    "print(\"fit time:\", time.time() - start_time, \"seconds\")"
   ]
  },
  {
   "cell_type": "markdown",
   "id": "45917a64",
   "metadata": {},
   "source": [
    "# Donam una predicció"
   ]
  },
  {
   "cell_type": "code",
   "execution_count": 16,
   "id": "5edfd4d5",
   "metadata": {},
   "outputs": [
    {
     "name": "stdout",
     "output_type": "stream",
     "text": [
      "La precisició es de: 0.5597989949748744\n"
     ]
    }
   ],
   "source": [
    "y_predicted = svm.predict(X_test)\n",
    "\n",
    "print(f\"La precisició es de: {accuracy_score(y_test, y_predicted)}\")"
   ]
  },
  {
   "cell_type": "markdown",
   "id": "2d8b146d",
   "metadata": {},
   "source": [
    "# Quines categories tenen major error?"
   ]
  },
  {
   "cell_type": "code",
   "execution_count": 17,
   "id": "e9444f1d",
   "metadata": {},
   "outputs": [
    {
     "name": "stdout",
     "output_type": "stream",
     "text": [
      "Classification report:\n",
      "               precision    recall  f1-score   support\n",
      "\n",
      "     bedroom       0.34      0.43      0.38       116\n",
      "       coast       0.71      0.74      0.73       260\n",
      "      forest       0.63      0.91      0.75       228\n",
      "     highway       0.58      0.64      0.61       160\n",
      "  industrial       0.33      0.39      0.36       211\n",
      "  insidecity       0.48      0.55      0.51       208\n",
      "     kitchen       0.42      0.41      0.42       110\n",
      "  livingroom       0.59      0.45      0.51       189\n",
      "    mountain       0.59      0.52      0.55       274\n",
      "      office       0.63      0.49      0.55       115\n",
      " opencountry       0.55      0.55      0.55       310\n",
      "       store       0.41      0.38      0.39       215\n",
      "      street       0.76      0.64      0.69       192\n",
      "      suburb       0.83      0.81      0.82       141\n",
      "tallbuilding       0.56      0.42      0.48       256\n",
      "\n",
      "    accuracy                           0.56      2985\n",
      "   macro avg       0.56      0.55      0.55      2985\n",
      "weighted avg       0.57      0.56      0.56      2985\n",
      "\n"
     ]
    }
   ],
   "source": [
    "print(\"Classification report:\\n\", classification_report(y_test, y_predicted))"
   ]
  }
 ],
 "metadata": {
  "kernelspec": {
   "display_name": "Python 3 (ipykernel)",
   "language": "python",
   "name": "python3"
  },
  "language_info": {
   "codemirror_mode": {
    "name": "ipython",
    "version": 3
   },
   "file_extension": ".py",
   "mimetype": "text/x-python",
   "name": "python",
   "nbconvert_exporter": "python",
   "pygments_lexer": "ipython3",
   "version": "3.9.12"
  }
 },
 "nbformat": 4,
 "nbformat_minor": 5
}
