{
 "cells": [
  {
   "cell_type": "markdown",
   "id": "f4dc0511",
   "metadata": {},
   "source": [
    "# Preparam el notebook"
   ]
  },
  {
   "cell_type": "code",
   "execution_count": 1,
   "id": "f3ccff0d",
   "metadata": {},
   "outputs": [],
   "source": [
    "import os\n",
    "import time\n",
    "import itertools\n",
    "\n",
    "import pandas as pd\n",
    "import numpy as np\n",
    "import seaborn as sns\n",
    "import matplotlib.pyplot as plt\n",
    "\n",
    "from sklearn.feature_extraction import image\n",
    "from sklearn.metrics import accuracy_score, classification_report\n",
    "from sklearn.svm import SVC\n",
    "from sklearn.model_selection import RepeatedStratifiedKFold\n",
    "from sklearn.experimental import enable_halving_search_cv\n",
    "from sklearn.model_selection import HalvingGridSearchCV\n",
    "\n",
    "from skimage.feature import hog\n",
    "from skimage import io, feature, filters\n",
    "from skimage.transform import rotate, resize\n",
    "from skimage.util import random_noise\n",
    "from scipy import ndimage"
   ]
  },
  {
   "cell_type": "markdown",
   "id": "84b3dbba",
   "metadata": {},
   "source": [
    "# Llegim totes les imatges del dataset"
   ]
  },
  {
   "cell_type": "code",
   "execution_count": 2,
   "id": "0df0e040",
   "metadata": {},
   "outputs": [],
   "source": [
    "def get_image_files_by_folder(root_folder, image_extensions=('jpg', 'jpeg', 'png', 'gif', 'bmp')):\n",
    "    image_files_by_folder = {}\n",
    "\n",
    "    # Walk through the root folder and its subdirectories\n",
    "    for folder_path, _, files in os.walk(root_folder):\n",
    "        folder_name = os.path.basename(folder_path)\n",
    "        image_files = []\n",
    "\n",
    "        for file in files:\n",
    "            file_extension = file.lower().split('.')[-1]\n",
    "            if file_extension in image_extensions:\n",
    "                image_files.append(os.path.join(folder_path, file))\n",
    "\n",
    "        if image_files:\n",
    "            image_files_by_folder[folder_name] = image_files\n",
    "\n",
    "    return image_files_by_folder"
   ]
  },
  {
   "cell_type": "code",
   "execution_count": 3,
   "id": "3baf2440",
   "metadata": {},
   "outputs": [
    {
     "data": {
      "text/plain": [
       "dict_keys(['bedroom', 'coast', 'forest', 'highway', 'industrial', 'insidecity', 'kitchen', 'livingroom', 'mountain', 'office', 'opencountry', 'store', 'street', 'suburb', 'tallbuilding'])"
      ]
     },
     "execution_count": 3,
     "metadata": {},
     "output_type": "execute_result"
    }
   ],
   "source": [
    "train_dataset_path = \"data/train\"\n",
    "images_to_load_train = get_image_files_by_folder(train_dataset_path)\n",
    "images_to_load_train.keys()"
   ]
  },
  {
   "cell_type": "code",
   "execution_count": 4,
   "id": "180f75ec",
   "metadata": {},
   "outputs": [
    {
     "data": {
      "text/plain": [
       "dict_keys(['bedroom', 'coast', 'forest', 'highway', 'industrial', 'insidecity', 'kitchen', 'livingroom', 'mountain', 'office', 'opencountry', 'store', 'street', 'suburb', 'tallbuilding'])"
      ]
     },
     "execution_count": 4,
     "metadata": {},
     "output_type": "execute_result"
    }
   ],
   "source": [
    "test_dataset_path = \"data/test\"\n",
    "images_to_load_test = get_image_files_by_folder(test_dataset_path)\n",
    "images_to_load_test.keys()"
   ]
  },
  {
   "cell_type": "markdown",
   "id": "378cecbb",
   "metadata": {},
   "source": [
    "# Cream el dataframe"
   ]
  },
  {
   "cell_type": "code",
   "execution_count": 4,
   "id": "1b211f33",
   "metadata": {},
   "outputs": [],
   "source": [
    "def read_and_flatten_images(image_list, augment_data):\n",
    "    start_time = time.time()\n",
    "    image_data = []\n",
    "    \n",
    "    for image_path in image_list:\n",
    "        img = io.imread(image_path, as_gray=True)\n",
    "        img = resize(img, (200, 200))\n",
    "        if augment_data:\n",
    "            flipped_img = img[:, ::-1]\n",
    "            rotated_5 = rotate(img, 5)\n",
    "            rotated_neg_5 = rotate(img, -5)\n",
    "            blured = ndimage.uniform_filter(img)\n",
    "            images = [img, flipped_img, rotated_5, rotated_neg_5, blured]\n",
    "        else:\n",
    "            images = [img]\n",
    "\n",
    "        for image_to_process in images:\n",
    "            hog_vectors = hog(image_to_process, orientations=9, pixels_per_cell=(20, 20),\n",
    "                              cells_per_block=(10, 10), channel_axis=None, transform_sqrt=True)\n",
    "            # TODO: Create filter bank? https://github.com/williamcfrancis/Gabor-Filters-and-SVM-on-MNIST/blob/main/Gabor_Filters_SVM_MNIST.ipynb\n",
    "            freq, theta, bandwidth = 0.1, np.pi/4, 1\n",
    "            real, _ = filters.gabor(image_to_process, frequency=freq, theta=theta, bandwidth=bandwidth)\n",
    "\n",
    "            image_data.append(np.concatenate((hog_vectors, real.flatten())))\n",
    "    \n",
    "    print(\"Read + HOG + Data augmentation time + GABOR:\", time.time() - start_time, \"seconds\")\n",
    "    return image_data\n",
    "\n",
    "def create_dataframe_from_categories(images_to_load, augment_data=True):\n",
    "    df = pd.DataFrame()\n",
    "    for label, image_list in images_to_load.items():\n",
    "        image_data = read_and_flatten_images(images_to_load[label], augment_data)\n",
    "        next_part = pd.DataFrame(image_data)\n",
    "        next_part['label'] = label\n",
    "        df = pd.concat([df, next_part], ignore_index=True)\n",
    "    return df"
   ]
  },
  {
   "cell_type": "code",
   "execution_count": 5,
   "id": "ba3cec38",
   "metadata": {},
   "outputs": [
    {
     "name": "stdout",
     "output_type": "stream",
     "text": [
      "Read + HOG + Data augmentation time + GABOR: 20.147989988327026 seconds\n",
      "Read + HOG + Data augmentation time + GABOR: 19.953439950942993 seconds\n",
      "Read + HOG + Data augmentation time + GABOR: 20.071223735809326 seconds\n",
      "Read + HOG + Data augmentation time + GABOR: 19.86804223060608 seconds\n",
      "Read + HOG + Data augmentation time + GABOR: 20.059213399887085 seconds\n",
      "Read + HOG + Data augmentation time + GABOR: 20.745945930480957 seconds\n",
      "Read + HOG + Data augmentation time + GABOR: 20.680484771728516 seconds\n",
      "Read + HOG + Data augmentation time + GABOR: 20.664472103118896 seconds\n",
      "Read + HOG + Data augmentation time + GABOR: 20.767350673675537 seconds\n",
      "Read + HOG + Data augmentation time + GABOR: 20.62118649482727 seconds\n",
      "Read + HOG + Data augmentation time + GABOR: 20.618136644363403 seconds\n",
      "Read + HOG + Data augmentation time + GABOR: 20.662399291992188 seconds\n",
      "Read + HOG + Data augmentation time + GABOR: 20.651902437210083 seconds\n",
      "Read + HOG + Data augmentation time + GABOR: 20.596041440963745 seconds\n",
      "Read + HOG + Data augmentation time + GABOR: 20.658693075180054 seconds\n",
      "Read + HOG + Data augmentation time + GABOR: 4.94285774230957 seconds\n",
      "Read + HOG + Data augmentation time + GABOR: 10.990484476089478 seconds\n",
      "Read + HOG + Data augmentation time + GABOR: 9.764963388442993 seconds\n",
      "Read + HOG + Data augmentation time + GABOR: 6.775059223175049 seconds\n",
      "Read + HOG + Data augmentation time + GABOR: 9.021965503692627 seconds\n",
      "Read + HOG + Data augmentation time + GABOR: 8.98515796661377 seconds\n",
      "Read + HOG + Data augmentation time + GABOR: 4.752073049545288 seconds\n",
      "Read + HOG + Data augmentation time + GABOR: 8.044424295425415 seconds\n",
      "Read + HOG + Data augmentation time + GABOR: 11.681936025619507 seconds\n",
      "Read + HOG + Data augmentation time + GABOR: 4.850985527038574 seconds\n",
      "Read + HOG + Data augmentation time + GABOR: 13.181536436080933 seconds\n",
      "Read + HOG + Data augmentation time + GABOR: 9.231266260147095 seconds\n",
      "Read + HOG + Data augmentation time + GABOR: 8.19620394706726 seconds\n",
      "Read + HOG + Data augmentation time + GABOR: 5.969117879867554 seconds\n",
      "Read + HOG + Data augmentation time + GABOR: 10.922390937805176 seconds\n"
     ]
    }
   ],
   "source": [
    "train_df = create_dataframe_from_categories(images_to_load_train)\n",
    "test_df = create_dataframe_from_categories(images_to_load_test, augment_data=False)"
   ]
  },
  {
   "cell_type": "code",
   "execution_count": 6,
   "id": "91ec8e94",
   "metadata": {},
   "outputs": [
    {
     "data": {
      "text/html": [
       "<div>\n",
       "<style scoped>\n",
       "    .dataframe tbody tr th:only-of-type {\n",
       "        vertical-align: middle;\n",
       "    }\n",
       "\n",
       "    .dataframe tbody tr th {\n",
       "        vertical-align: top;\n",
       "    }\n",
       "\n",
       "    .dataframe thead th {\n",
       "        text-align: right;\n",
       "    }\n",
       "</style>\n",
       "<table border=\"1\" class=\"dataframe\">\n",
       "  <thead>\n",
       "    <tr style=\"text-align: right;\">\n",
       "      <th></th>\n",
       "      <th>0</th>\n",
       "      <th>1</th>\n",
       "      <th>2</th>\n",
       "      <th>3</th>\n",
       "      <th>4</th>\n",
       "      <th>5</th>\n",
       "      <th>6</th>\n",
       "      <th>7</th>\n",
       "      <th>8</th>\n",
       "      <th>9</th>\n",
       "      <th>...</th>\n",
       "      <th>40791</th>\n",
       "      <th>40792</th>\n",
       "      <th>40793</th>\n",
       "      <th>40794</th>\n",
       "      <th>40795</th>\n",
       "      <th>40796</th>\n",
       "      <th>40797</th>\n",
       "      <th>40798</th>\n",
       "      <th>40799</th>\n",
       "      <th>label</th>\n",
       "    </tr>\n",
       "  </thead>\n",
       "  <tbody>\n",
       "    <tr>\n",
       "      <th>0</th>\n",
       "      <td>0.011208</td>\n",
       "      <td>0.003821</td>\n",
       "      <td>0.002649</td>\n",
       "      <td>0.015027</td>\n",
       "      <td>0.098173</td>\n",
       "      <td>0.013854</td>\n",
       "      <td>0.004702</td>\n",
       "      <td>0.008486</td>\n",
       "      <td>0.011862</td>\n",
       "      <td>0.002667</td>\n",
       "      <td>...</td>\n",
       "      <td>0.000578</td>\n",
       "      <td>0.00073</td>\n",
       "      <td>0.000873</td>\n",
       "      <td>0.000898</td>\n",
       "      <td>0.000848</td>\n",
       "      <td>0.000732</td>\n",
       "      <td>0.000567</td>\n",
       "      <td>0.000464</td>\n",
       "      <td>0.000404</td>\n",
       "      <td>bedroom</td>\n",
       "    </tr>\n",
       "    <tr>\n",
       "      <th>1</th>\n",
       "      <td>0.011208</td>\n",
       "      <td>0.003821</td>\n",
       "      <td>0.002649</td>\n",
       "      <td>0.015027</td>\n",
       "      <td>0.098173</td>\n",
       "      <td>0.013854</td>\n",
       "      <td>0.004702</td>\n",
       "      <td>0.008486</td>\n",
       "      <td>0.011862</td>\n",
       "      <td>0.002667</td>\n",
       "      <td>...</td>\n",
       "      <td>0.000578</td>\n",
       "      <td>0.00073</td>\n",
       "      <td>0.000873</td>\n",
       "      <td>0.000898</td>\n",
       "      <td>0.000848</td>\n",
       "      <td>0.000732</td>\n",
       "      <td>0.000567</td>\n",
       "      <td>0.000464</td>\n",
       "      <td>0.000404</td>\n",
       "      <td>bedroom</td>\n",
       "    </tr>\n",
       "    <tr>\n",
       "      <th>2</th>\n",
       "      <td>0.011208</td>\n",
       "      <td>0.003821</td>\n",
       "      <td>0.002649</td>\n",
       "      <td>0.015027</td>\n",
       "      <td>0.098173</td>\n",
       "      <td>0.013854</td>\n",
       "      <td>0.004702</td>\n",
       "      <td>0.008486</td>\n",
       "      <td>0.011862</td>\n",
       "      <td>0.002667</td>\n",
       "      <td>...</td>\n",
       "      <td>0.000578</td>\n",
       "      <td>0.00073</td>\n",
       "      <td>0.000873</td>\n",
       "      <td>0.000898</td>\n",
       "      <td>0.000848</td>\n",
       "      <td>0.000732</td>\n",
       "      <td>0.000567</td>\n",
       "      <td>0.000464</td>\n",
       "      <td>0.000404</td>\n",
       "      <td>bedroom</td>\n",
       "    </tr>\n",
       "    <tr>\n",
       "      <th>3</th>\n",
       "      <td>0.011208</td>\n",
       "      <td>0.003821</td>\n",
       "      <td>0.002649</td>\n",
       "      <td>0.015027</td>\n",
       "      <td>0.098173</td>\n",
       "      <td>0.013854</td>\n",
       "      <td>0.004702</td>\n",
       "      <td>0.008486</td>\n",
       "      <td>0.011862</td>\n",
       "      <td>0.002667</td>\n",
       "      <td>...</td>\n",
       "      <td>0.000578</td>\n",
       "      <td>0.00073</td>\n",
       "      <td>0.000873</td>\n",
       "      <td>0.000898</td>\n",
       "      <td>0.000848</td>\n",
       "      <td>0.000732</td>\n",
       "      <td>0.000567</td>\n",
       "      <td>0.000464</td>\n",
       "      <td>0.000404</td>\n",
       "      <td>bedroom</td>\n",
       "    </tr>\n",
       "    <tr>\n",
       "      <th>4</th>\n",
       "      <td>0.011208</td>\n",
       "      <td>0.003821</td>\n",
       "      <td>0.002649</td>\n",
       "      <td>0.015027</td>\n",
       "      <td>0.098173</td>\n",
       "      <td>0.013854</td>\n",
       "      <td>0.004702</td>\n",
       "      <td>0.008486</td>\n",
       "      <td>0.011862</td>\n",
       "      <td>0.002667</td>\n",
       "      <td>...</td>\n",
       "      <td>0.000578</td>\n",
       "      <td>0.00073</td>\n",
       "      <td>0.000873</td>\n",
       "      <td>0.000898</td>\n",
       "      <td>0.000848</td>\n",
       "      <td>0.000732</td>\n",
       "      <td>0.000567</td>\n",
       "      <td>0.000464</td>\n",
       "      <td>0.000404</td>\n",
       "      <td>bedroom</td>\n",
       "    </tr>\n",
       "  </tbody>\n",
       "</table>\n",
       "<p>5 rows × 40801 columns</p>\n",
       "</div>"
      ],
      "text/plain": [
       "          0         1         2         3         4         5         6  \\\n",
       "0  0.011208  0.003821  0.002649  0.015027  0.098173  0.013854  0.004702   \n",
       "1  0.011208  0.003821  0.002649  0.015027  0.098173  0.013854  0.004702   \n",
       "2  0.011208  0.003821  0.002649  0.015027  0.098173  0.013854  0.004702   \n",
       "3  0.011208  0.003821  0.002649  0.015027  0.098173  0.013854  0.004702   \n",
       "4  0.011208  0.003821  0.002649  0.015027  0.098173  0.013854  0.004702   \n",
       "\n",
       "          7         8         9  ...     40791    40792     40793     40794  \\\n",
       "0  0.008486  0.011862  0.002667  ...  0.000578  0.00073  0.000873  0.000898   \n",
       "1  0.008486  0.011862  0.002667  ...  0.000578  0.00073  0.000873  0.000898   \n",
       "2  0.008486  0.011862  0.002667  ...  0.000578  0.00073  0.000873  0.000898   \n",
       "3  0.008486  0.011862  0.002667  ...  0.000578  0.00073  0.000873  0.000898   \n",
       "4  0.008486  0.011862  0.002667  ...  0.000578  0.00073  0.000873  0.000898   \n",
       "\n",
       "      40795     40796     40797     40798     40799    label  \n",
       "0  0.000848  0.000732  0.000567  0.000464  0.000404  bedroom  \n",
       "1  0.000848  0.000732  0.000567  0.000464  0.000404  bedroom  \n",
       "2  0.000848  0.000732  0.000567  0.000464  0.000404  bedroom  \n",
       "3  0.000848  0.000732  0.000567  0.000464  0.000404  bedroom  \n",
       "4  0.000848  0.000732  0.000567  0.000464  0.000404  bedroom  \n",
       "\n",
       "[5 rows x 40801 columns]"
      ]
     },
     "execution_count": 6,
     "metadata": {},
     "output_type": "execute_result"
    }
   ],
   "source": [
    "train_df.head()"
   ]
  },
  {
   "cell_type": "code",
   "execution_count": 7,
   "id": "21762fce",
   "metadata": {},
   "outputs": [
    {
     "data": {
      "text/plain": [
       "(7500, 40801)"
      ]
     },
     "execution_count": 7,
     "metadata": {},
     "output_type": "execute_result"
    }
   ],
   "source": [
    "train_df.shape"
   ]
  },
  {
   "cell_type": "code",
   "execution_count": 8,
   "id": "ccbc5620",
   "metadata": {},
   "outputs": [
    {
     "data": {
      "text/plain": [
       "(2985, 40801)"
      ]
     },
     "execution_count": 8,
     "metadata": {},
     "output_type": "execute_result"
    }
   ],
   "source": [
    "test_df.shape"
   ]
  },
  {
   "cell_type": "markdown",
   "id": "f597a98b",
   "metadata": {},
   "source": [
    "# Cream els conjunts de test i d'entrenament"
   ]
  },
  {
   "cell_type": "code",
   "execution_count": 9,
   "id": "33c69420",
   "metadata": {},
   "outputs": [],
   "source": [
    "X_train = train_df.drop('label', axis=1)\n",
    "y_train = train_df['label']\n",
    "\n",
    "X_test = test_df.drop('label', axis=1)\n",
    "y_test = test_df['label']"
   ]
  },
  {
   "cell_type": "markdown",
   "id": "26406095",
   "metadata": {},
   "source": [
    "# Entrenam el model"
   ]
  },
  {
   "cell_type": "code",
   "execution_count": 10,
   "id": "3e0369f5",
   "metadata": {},
   "outputs": [
    {
     "name": "stdout",
     "output_type": "stream",
     "text": [
      "fit time: 342.7053232192993 seconds\n"
     ]
    }
   ],
   "source": [
    "from sklearn.metrics import precision_score, make_scorer\n",
    "from sklearn.svm import SVC\n",
    "import time\n",
    "\n",
    "svm = SVC(C=10, kernel='poly', random_state=33, degree=4, coef0=0.01)\n",
    "start_time = time.time()\n",
    "svm.fit(X_train, y_train)\n",
    "print(\"fit time:\", time.time() - start_time, \"seconds\")"
   ]
  },
  {
   "cell_type": "markdown",
   "id": "016da1ff",
   "metadata": {},
   "source": [
    "# Donam una predicció"
   ]
  },
  {
   "cell_type": "code",
   "execution_count": 11,
   "id": "a9c1886a",
   "metadata": {},
   "outputs": [
    {
     "name": "stdout",
     "output_type": "stream",
     "text": [
      "La precisició es de: 0.21239530988274707\n"
     ]
    }
   ],
   "source": [
    "y_predicted = svm.predict(X_test)\n",
    "\n",
    "print(f\"La precisició es de: {precision_score(y_test, y_predicted, average='micro')}\")"
   ]
  }
 ],
 "metadata": {
  "kernelspec": {
   "display_name": "Python 3 (ipykernel)",
   "language": "python",
   "name": "python3"
  },
  "language_info": {
   "codemirror_mode": {
    "name": "ipython",
    "version": 3
   },
   "file_extension": ".py",
   "mimetype": "text/x-python",
   "name": "python",
   "nbconvert_exporter": "python",
   "pygments_lexer": "ipython3",
   "version": "3.9.12"
  }
 },
 "nbformat": 4,
 "nbformat_minor": 5
}
