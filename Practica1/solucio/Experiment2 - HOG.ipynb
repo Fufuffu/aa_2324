{
 "cells": [
  {
   "cell_type": "markdown",
   "id": "213c4e7f",
   "metadata": {},
   "source": [
    "# Llegim totes les imatges del dataset"
   ]
  },
  {
   "cell_type": "code",
   "execution_count": 3,
   "id": "0df0e040",
   "metadata": {},
   "outputs": [],
   "source": [
    "import os\n",
    "\n",
    "def get_image_files_by_folder(root_folder, image_extensions=('jpg', 'jpeg', 'png', 'gif', 'bmp')):\n",
    "    image_files_by_folder = {}\n",
    "\n",
    "    # Walk through the root folder and its subdirectories\n",
    "    for folder_path, _, files in os.walk(root_folder):\n",
    "        folder_name = os.path.basename(folder_path)\n",
    "        image_files = []\n",
    "\n",
    "        for file in files:\n",
    "            file_extension = file.lower().split('.')[-1]\n",
    "            if file_extension in image_extensions:\n",
    "                image_files.append(os.path.join(folder_path, file))\n",
    "\n",
    "        if image_files:\n",
    "            image_files_by_folder[folder_name] = image_files\n",
    "\n",
    "    return image_files_by_folder"
   ]
  },
  {
   "cell_type": "code",
   "execution_count": 4,
   "id": "3baf2440",
   "metadata": {},
   "outputs": [
    {
     "data": {
      "text/plain": [
       "dict_keys(['bedroom', 'Coast', 'Forest', 'Highway', 'industrial', 'Insidecity', 'kitchen', 'livingroom', 'Mountain', 'Office', 'OpenCountry', 'store', 'Street', 'Suburb', 'TallBuilding'])"
      ]
     },
     "execution_count": 4,
     "metadata": {},
     "output_type": "execute_result"
    }
   ],
   "source": [
    "train_dataset_path = \"data/train\"\n",
    "images_to_load = get_image_files_by_folder(train_dataset_path)\n",
    "images_to_load.keys()"
   ]
  },
  {
   "cell_type": "markdown",
   "id": "83088395",
   "metadata": {},
   "source": [
    "# Cream el dataframe"
   ]
  },
  {
   "cell_type": "code",
   "execution_count": 5,
   "id": "5f816662",
   "metadata": {},
   "outputs": [],
   "source": [
    "import os\n",
    "import pandas as pd\n",
    "from skimage.feature import hog\n",
    "from skimage import io\n",
    "from sklearn.feature_extraction import image\n",
    "\n",
    "def read_and_flatten_images(image_list):\n",
    "    image_data = []\n",
    "    \n",
    "    for image_path in image_list:\n",
    "        img = io.imread(image_path)\n",
    "        hog_vectors = hog(img, orientations=8, pixels_per_cell=(5, 5),\n",
    "                          cells_per_block=(1, 1), channel_axis=None)\n",
    "        image_data.append(hog_vectors)\n",
    "    \n",
    "    return image_data"
   ]
  },
  {
   "cell_type": "code",
   "execution_count": 6,
   "id": "72e172c4",
   "metadata": {},
   "outputs": [],
   "source": [
    "image_df = pd.DataFrame()\n",
    "for label, image_list in images_to_load.items():\n",
    "    image_data = read_and_flatten_images(images_to_load[label])\n",
    "    next_part = pd.DataFrame(image_data)\n",
    "    next_part['label'] = label\n",
    "    image_df = pd.concat([image_df, next_part], ignore_index=True)"
   ]
  },
  {
   "cell_type": "code",
   "execution_count": 7,
   "id": "41ea2b3f",
   "metadata": {},
   "outputs": [
    {
     "data": {
      "text/html": [
       "<div>\n",
       "<style scoped>\n",
       "    .dataframe tbody tr th:only-of-type {\n",
       "        vertical-align: middle;\n",
       "    }\n",
       "\n",
       "    .dataframe tbody tr th {\n",
       "        vertical-align: top;\n",
       "    }\n",
       "\n",
       "    .dataframe thead th {\n",
       "        text-align: right;\n",
       "    }\n",
       "</style>\n",
       "<table border=\"1\" class=\"dataframe\">\n",
       "  <thead>\n",
       "    <tr style=\"text-align: right;\">\n",
       "      <th></th>\n",
       "      <th>0</th>\n",
       "      <th>1</th>\n",
       "      <th>2</th>\n",
       "      <th>3</th>\n",
       "      <th>4</th>\n",
       "      <th>5</th>\n",
       "      <th>6</th>\n",
       "      <th>7</th>\n",
       "      <th>8</th>\n",
       "      <th>9</th>\n",
       "      <th>...</th>\n",
       "      <th>12791</th>\n",
       "      <th>12792</th>\n",
       "      <th>12793</th>\n",
       "      <th>12794</th>\n",
       "      <th>12795</th>\n",
       "      <th>12796</th>\n",
       "      <th>12797</th>\n",
       "      <th>12798</th>\n",
       "      <th>12799</th>\n",
       "      <th>label</th>\n",
       "    </tr>\n",
       "  </thead>\n",
       "  <tbody>\n",
       "    <tr>\n",
       "      <th>1495</th>\n",
       "      <td>0.483620</td>\n",
       "      <td>0.246710</td>\n",
       "      <td>0.483620</td>\n",
       "      <td>0.000000</td>\n",
       "      <td>0.483620</td>\n",
       "      <td>0.483620</td>\n",
       "      <td>0.059836</td>\n",
       "      <td>0.0</td>\n",
       "      <td>0.392954</td>\n",
       "      <td>0.347124</td>\n",
       "      <td>...</td>\n",
       "      <td>0.273011</td>\n",
       "      <td>0.458904</td>\n",
       "      <td>0.0</td>\n",
       "      <td>0.458904</td>\n",
       "      <td>0.000000</td>\n",
       "      <td>0.458904</td>\n",
       "      <td>0.397026</td>\n",
       "      <td>0.458904</td>\n",
       "      <td>0.000000</td>\n",
       "      <td>TallBuilding</td>\n",
       "    </tr>\n",
       "    <tr>\n",
       "      <th>1496</th>\n",
       "      <td>0.383219</td>\n",
       "      <td>0.342762</td>\n",
       "      <td>0.420204</td>\n",
       "      <td>0.420204</td>\n",
       "      <td>0.420204</td>\n",
       "      <td>0.171381</td>\n",
       "      <td>0.420204</td>\n",
       "      <td>0.0</td>\n",
       "      <td>0.535079</td>\n",
       "      <td>0.535079</td>\n",
       "      <td>...</td>\n",
       "      <td>0.078617</td>\n",
       "      <td>0.341377</td>\n",
       "      <td>0.0</td>\n",
       "      <td>0.292485</td>\n",
       "      <td>0.577403</td>\n",
       "      <td>0.577403</td>\n",
       "      <td>0.339095</td>\n",
       "      <td>0.000000</td>\n",
       "      <td>0.127047</td>\n",
       "      <td>TallBuilding</td>\n",
       "    </tr>\n",
       "    <tr>\n",
       "      <th>1497</th>\n",
       "      <td>0.407521</td>\n",
       "      <td>0.364498</td>\n",
       "      <td>0.483414</td>\n",
       "      <td>0.483414</td>\n",
       "      <td>0.483414</td>\n",
       "      <td>0.000000</td>\n",
       "      <td>0.000000</td>\n",
       "      <td>0.0</td>\n",
       "      <td>0.357411</td>\n",
       "      <td>0.000000</td>\n",
       "      <td>...</td>\n",
       "      <td>0.000000</td>\n",
       "      <td>0.408248</td>\n",
       "      <td>0.0</td>\n",
       "      <td>0.408248</td>\n",
       "      <td>0.408248</td>\n",
       "      <td>0.408248</td>\n",
       "      <td>0.000000</td>\n",
       "      <td>0.408248</td>\n",
       "      <td>0.408248</td>\n",
       "      <td>TallBuilding</td>\n",
       "    </tr>\n",
       "    <tr>\n",
       "      <th>1498</th>\n",
       "      <td>1.000000</td>\n",
       "      <td>0.000000</td>\n",
       "      <td>0.000000</td>\n",
       "      <td>0.000000</td>\n",
       "      <td>0.000000</td>\n",
       "      <td>0.000000</td>\n",
       "      <td>0.000000</td>\n",
       "      <td>0.0</td>\n",
       "      <td>0.577350</td>\n",
       "      <td>0.000000</td>\n",
       "      <td>...</td>\n",
       "      <td>0.000000</td>\n",
       "      <td>0.000000</td>\n",
       "      <td>0.0</td>\n",
       "      <td>0.000000</td>\n",
       "      <td>0.000000</td>\n",
       "      <td>0.000000</td>\n",
       "      <td>0.000000</td>\n",
       "      <td>0.000000</td>\n",
       "      <td>0.000000</td>\n",
       "      <td>TallBuilding</td>\n",
       "    </tr>\n",
       "    <tr>\n",
       "      <th>1499</th>\n",
       "      <td>0.560991</td>\n",
       "      <td>0.000000</td>\n",
       "      <td>0.000000</td>\n",
       "      <td>0.000000</td>\n",
       "      <td>0.560991</td>\n",
       "      <td>0.560991</td>\n",
       "      <td>0.236365</td>\n",
       "      <td>0.0</td>\n",
       "      <td>0.486226</td>\n",
       "      <td>0.157840</td>\n",
       "      <td>...</td>\n",
       "      <td>0.000000</td>\n",
       "      <td>0.557250</td>\n",
       "      <td>0.0</td>\n",
       "      <td>0.114157</td>\n",
       "      <td>0.557250</td>\n",
       "      <td>0.557250</td>\n",
       "      <td>0.092036</td>\n",
       "      <td>0.216597</td>\n",
       "      <td>0.000000</td>\n",
       "      <td>TallBuilding</td>\n",
       "    </tr>\n",
       "  </tbody>\n",
       "</table>\n",
       "<p>5 rows × 12801 columns</p>\n",
       "</div>"
      ],
      "text/plain": [
       "             0         1         2         3         4         5         6  \\\n",
       "1495  0.483620  0.246710  0.483620  0.000000  0.483620  0.483620  0.059836   \n",
       "1496  0.383219  0.342762  0.420204  0.420204  0.420204  0.171381  0.420204   \n",
       "1497  0.407521  0.364498  0.483414  0.483414  0.483414  0.000000  0.000000   \n",
       "1498  1.000000  0.000000  0.000000  0.000000  0.000000  0.000000  0.000000   \n",
       "1499  0.560991  0.000000  0.000000  0.000000  0.560991  0.560991  0.236365   \n",
       "\n",
       "        7         8         9  ...     12791     12792  12793     12794  \\\n",
       "1495  0.0  0.392954  0.347124  ...  0.273011  0.458904    0.0  0.458904   \n",
       "1496  0.0  0.535079  0.535079  ...  0.078617  0.341377    0.0  0.292485   \n",
       "1497  0.0  0.357411  0.000000  ...  0.000000  0.408248    0.0  0.408248   \n",
       "1498  0.0  0.577350  0.000000  ...  0.000000  0.000000    0.0  0.000000   \n",
       "1499  0.0  0.486226  0.157840  ...  0.000000  0.557250    0.0  0.114157   \n",
       "\n",
       "         12795     12796     12797     12798     12799         label  \n",
       "1495  0.000000  0.458904  0.397026  0.458904  0.000000  TallBuilding  \n",
       "1496  0.577403  0.577403  0.339095  0.000000  0.127047  TallBuilding  \n",
       "1497  0.408248  0.408248  0.000000  0.408248  0.408248  TallBuilding  \n",
       "1498  0.000000  0.000000  0.000000  0.000000  0.000000  TallBuilding  \n",
       "1499  0.557250  0.557250  0.092036  0.216597  0.000000  TallBuilding  \n",
       "\n",
       "[5 rows x 12801 columns]"
      ]
     },
     "execution_count": 7,
     "metadata": {},
     "output_type": "execute_result"
    }
   ],
   "source": [
    "image_df.tail()"
   ]
  },
  {
   "cell_type": "code",
   "execution_count": 8,
   "id": "b9d2c1fe",
   "metadata": {},
   "outputs": [
    {
     "data": {
      "text/plain": [
       "(1500, 12801)"
      ]
     },
     "execution_count": 8,
     "metadata": {},
     "output_type": "execute_result"
    }
   ],
   "source": [
    "# TODO: read https://scikit-learn.org/stable/modules/preprocessing.html#preprocessing\n",
    "image_df.shape"
   ]
  },
  {
   "cell_type": "markdown",
   "id": "bf4f0811",
   "metadata": {},
   "source": [
    "# Cream els conjunts de test i d'entrenament"
   ]
  },
  {
   "cell_type": "code",
   "execution_count": 9,
   "id": "afeeae70",
   "metadata": {},
   "outputs": [],
   "source": [
    "from sklearn.model_selection import train_test_split\n",
    "\n",
    "# TODO: Es necesari? tenim un conjunt de test ja. Això seria un conjunt de validacio \"per fer overfitting\" :DD\n",
    "X_train, X_test, y_train, y_test = train_test_split(image_df.drop('label', axis=1), image_df['label'], test_size=0.10, random_state=42)"
   ]
  },
  {
   "cell_type": "markdown",
   "id": "f1f6e1bc",
   "metadata": {},
   "source": [
    "# Entrenam el model"
   ]
  },
  {
   "cell_type": "code",
   "execution_count": 10,
   "id": "b2c89e70",
   "metadata": {},
   "outputs": [
    {
     "data": {
      "text/plain": [
       "SVC(kernel='linear', random_state=42)"
      ]
     },
     "execution_count": 10,
     "metadata": {},
     "output_type": "execute_result"
    }
   ],
   "source": [
    "from sklearn.metrics import precision_score, make_scorer\n",
    "from sklearn.svm import SVC\n",
    "\n",
    "svm = SVC(C=1.0, kernel='linear', random_state=42)\n",
    "svm.fit(X_train, y_train)"
   ]
  },
  {
   "cell_type": "markdown",
   "id": "45917a64",
   "metadata": {},
   "source": [
    "# Donam una predicció"
   ]
  },
  {
   "cell_type": "code",
   "execution_count": 11,
   "id": "5edfd4d5",
   "metadata": {},
   "outputs": [
    {
     "name": "stdout",
     "output_type": "stream",
     "text": [
      "La precisició es de: 0.5533333333333333\n"
     ]
    }
   ],
   "source": [
    "y_predicted = svm.predict(X_test)\n",
    "\n",
    "print(f\"La precisició es de: {precision_score(y_test, y_predicted, average='micro')}\")"
   ]
  },
  {
   "cell_type": "markdown",
   "id": "e278d766",
   "metadata": {},
   "source": [
    "# Cercam els millors paràmetres del model"
   ]
  },
  {
   "cell_type": "code",
   "execution_count": 16,
   "id": "4f8e3412",
   "metadata": {},
   "outputs": [
    {
     "data": {
      "text/plain": [
       "{'C': 1.0,\n",
       " 'break_ties': False,\n",
       " 'cache_size': 200,\n",
       " 'class_weight': None,\n",
       " 'coef0': 0.5,\n",
       " 'decision_function_shape': 'ovr',\n",
       " 'degree': 3,\n",
       " 'gamma': 'scale',\n",
       " 'kernel': 'poly',\n",
       " 'max_iter': -1,\n",
       " 'probability': False,\n",
       " 'random_state': 42,\n",
       " 'shrinking': True,\n",
       " 'tol': 0.001,\n",
       " 'verbose': False}"
      ]
     },
     "execution_count": 16,
     "metadata": {},
     "output_type": "execute_result"
    }
   ],
   "source": [
    "# Mostram tots el parametres del model\n",
    "svm.get_params()"
   ]
  },
  {
   "cell_type": "code",
   "execution_count": 17,
   "id": "41938f9f",
   "metadata": {},
   "outputs": [],
   "source": [
    "from sklearn.model_selection import GridSearchCV\n",
    "from sklearn.model_selection import RepeatedStratifiedKFold\n",
    "import itertools\n",
    "\n",
    "# Funció que permet mostrar els millor hiper parametres\n",
    "def showResults(grid_result, number_to_show = 5):\n",
    "    print(f\"Best: {grid_result.best_score_} using {grid_result.best_params_}\")\n",
    "    means = grid_result.cv_results_['mean_test_score']\n",
    "    stds = grid_result.cv_results_['std_test_score']\n",
    "    params = grid_result.cv_results_['params']\n",
    "    results = sorted(zip(means, stds, params), key=lambda x: x[0], reverse=True)\n",
    "    for mean, stdev, param in itertools.islice(results, number_to_show):\n",
    "        print(f\"{mean} ({stdev}) with: {param}\")"
   ]
  },
  {
   "cell_type": "code",
   "execution_count": 13,
   "id": "17dde39f",
   "metadata": {},
   "outputs": [],
   "source": [
    "param_grid = {\n",
    "    'kernel': ['linear', 'poly', 'rbf', 'sigmoid'],\n",
    "    #'degree': [2, 4, 6, 8],\n",
    "    #'coef0': [0.5, 1, 10],\n",
    "    #'gamma': [0.1, 1, 100, 1000],\n",
    "    #'C': [0.1, 1, 100, 1000],\n",
    "}\n",
    "\n",
    "precion_micro_scorer = make_scorer(precision_score, average='micro')"
   ]
  },
  {
   "cell_type": "code",
   "execution_count": 14,
   "id": "4cef8e38",
   "metadata": {},
   "outputs": [
    {
     "name": "stdout",
     "output_type": "stream",
     "text": [
      "n_iterations: 3\n",
      "n_required_iterations: 3\n",
      "n_possible_iterations: 1\n",
      "min_resources_: 900\n",
      "max_resources_: 1350\n",
      "aggressive_elimination: True\n",
      "factor: 2\n",
      "----------\n",
      "iter: 0\n",
      "n_candidates: 4\n",
      "n_resources: 900\n",
      "Fitting 30 folds for each of 4 candidates, totalling 120 fits\n",
      "----------\n",
      "iter: 1\n",
      "n_candidates: 2\n",
      "n_resources: 900\n",
      "Fitting 30 folds for each of 2 candidates, totalling 60 fits\n",
      "----------\n",
      "iter: 2\n",
      "n_candidates: 1\n",
      "n_resources: 900\n",
      "Fitting 30 folds for each of 1 candidates, totalling 30 fits\n"
     ]
    }
   ],
   "source": [
    "# GridSearchCV pot ser molt lent ja que el random forest necesita ja un temps elevat inicialment\n",
    "# Farem sevir una variant experimental que treballa dividint els entrenaments\n",
    "\n",
    "from sklearn.experimental import enable_halving_search_cv\n",
    "from sklearn.model_selection import HalvingGridSearchCV\n",
    "\n",
    "cv = RepeatedStratifiedKFold(n_splits=10, n_repeats=3, random_state=42)\n",
    "grid_search = HalvingGridSearchCV(estimator=svm, param_grid=param_grid, n_jobs=12, cv=cv, scoring=precion_micro_scorer,error_score=0, factor=2,aggressive_elimination=True, verbose=10)\n",
    "grid_result = grid_search.fit(X_train, y_train)"
   ]
  },
  {
   "cell_type": "code",
   "execution_count": 17,
   "id": "62e890f1",
   "metadata": {},
   "outputs": [
    {
     "name": "stdout",
     "output_type": "stream",
     "text": [
      "Best: 0.5755555555555556 using {'kernel': 'poly'}\n",
      "0.5755555555555556 (0.04955771461830439) with: {'kernel': 'poly'}\n",
      "0.5740740740740741 (0.04930240382901848) with: {'kernel': 'poly'}\n",
      "0.5733333333333334 (0.041928805031362704) with: {'kernel': 'linear'}\n",
      "0.572962962962963 (0.05161453629214303) with: {'kernel': 'poly'}\n",
      "0.5696296296296296 (0.0467840968137426) with: {'kernel': 'linear'}\n"
     ]
    }
   ],
   "source": [
    "showResults(grid_result)"
   ]
  },
  {
   "cell_type": "code",
   "execution_count": 22,
   "id": "ddd34c56",
   "metadata": {},
   "outputs": [],
   "source": [
    "model = grid_result.best_estimator_\n",
    "pred = model.predict(X_test)\n",
    "print(f\"La precisició es de: {precision_score(y_test, y_predicted, average='micro')}\")"
   ]
  },
  {
   "cell_type": "markdown",
   "id": "442cbabf",
   "metadata": {},
   "source": [
    "# Cercam els millor parametres per poly"
   ]
  },
  {
   "cell_type": "code",
   "execution_count": 32,
   "id": "4286cb1d",
   "metadata": {},
   "outputs": [
    {
     "name": "stdout",
     "output_type": "stream",
     "text": [
      "La precisició abans es de: 0.5790054945054944\n"
     ]
    }
   ],
   "source": [
    "svm = SVC(C=1.0, kernel='poly', random_state=42)\n",
    "svm.fit(X_train, y_train)\n",
    "pred = svm.predict(X_test)\n",
    "print(f\"La precisició abans es de: {precision_score(y_test, pred, average='weighted')}\")"
   ]
  },
  {
   "cell_type": "code",
   "execution_count": 26,
   "id": "f04967c7",
   "metadata": {},
   "outputs": [],
   "source": [
    "param_grid = {\n",
    "    'degree': [1, 2, 3, 4, 6, 8],\n",
    "    'coef0': [0.5, 1, 10]\n",
    "}\n",
    "\n",
    "precion_micro_scorer = make_scorer(precision_score, average='micro')"
   ]
  },
  {
   "cell_type": "code",
   "execution_count": 27,
   "id": "f46c9f0e",
   "metadata": {},
   "outputs": [
    {
     "name": "stdout",
     "output_type": "stream",
     "text": [
      "n_iterations: 5\n",
      "n_required_iterations: 5\n",
      "n_possible_iterations: 1\n",
      "min_resources_: 900\n",
      "max_resources_: 1350\n",
      "aggressive_elimination: True\n",
      "factor: 2\n",
      "----------\n",
      "iter: 0\n",
      "n_candidates: 18\n",
      "n_resources: 900\n",
      "Fitting 30 folds for each of 18 candidates, totalling 540 fits\n",
      "----------\n",
      "iter: 1\n",
      "n_candidates: 9\n",
      "n_resources: 900\n",
      "Fitting 30 folds for each of 9 candidates, totalling 270 fits\n",
      "----------\n",
      "iter: 2\n",
      "n_candidates: 5\n",
      "n_resources: 900\n",
      "Fitting 30 folds for each of 5 candidates, totalling 150 fits\n",
      "----------\n",
      "iter: 3\n",
      "n_candidates: 3\n",
      "n_resources: 900\n",
      "Fitting 30 folds for each of 3 candidates, totalling 90 fits\n",
      "----------\n",
      "iter: 4\n",
      "n_candidates: 2\n",
      "n_resources: 900\n",
      "Fitting 30 folds for each of 2 candidates, totalling 60 fits\n"
     ]
    }
   ],
   "source": [
    "from sklearn.experimental import enable_halving_search_cv\n",
    "from sklearn.model_selection import HalvingGridSearchCV\n",
    "\n",
    "cv = RepeatedStratifiedKFold(n_splits=10, n_repeats=3, random_state=42)\n",
    "grid_search = HalvingGridSearchCV(estimator=svm, param_grid=param_grid, n_jobs=12, cv=cv, scoring=precion_micro_scorer,error_score=0, factor=2,aggressive_elimination=True, verbose=10)\n",
    "grid_result = grid_search.fit(X_train, y_train)"
   ]
  },
  {
   "cell_type": "code",
   "execution_count": 28,
   "id": "387099c2",
   "metadata": {},
   "outputs": [
    {
     "name": "stdout",
     "output_type": "stream",
     "text": [
      "Best: 0.5814814814814814 using {'coef0': 0.5, 'degree': 3}\n",
      "0.5914814814814815 (0.04614196498616674) with: {'coef0': 10, 'degree': 8}\n",
      "0.5907407407407407 (0.04408029834667594) with: {'coef0': 10, 'degree': 4}\n",
      "0.5907407407407407 (0.04058049292499619) with: {'coef0': 10, 'degree': 3}\n",
      "0.5903703703703703 (0.04533672221659069) with: {'coef0': 1, 'degree': 3}\n",
      "0.59 (0.04673275743291799) with: {'coef0': 0.5, 'degree': 3}\n"
     ]
    }
   ],
   "source": [
    "showResults(grid_result)"
   ]
  },
  {
   "cell_type": "code",
   "execution_count": 33,
   "id": "9c83fa54",
   "metadata": {},
   "outputs": [
    {
     "data": {
      "text/plain": [
       "{'C': 1.0,\n",
       " 'break_ties': False,\n",
       " 'cache_size': 200,\n",
       " 'class_weight': None,\n",
       " 'coef0': 0.5,\n",
       " 'decision_function_shape': 'ovr',\n",
       " 'degree': 3,\n",
       " 'gamma': 'scale',\n",
       " 'kernel': 'poly',\n",
       " 'max_iter': -1,\n",
       " 'probability': False,\n",
       " 'random_state': 42,\n",
       " 'shrinking': True,\n",
       " 'tol': 0.001,\n",
       " 'verbose': False}"
      ]
     },
     "execution_count": 33,
     "metadata": {},
     "output_type": "execute_result"
    }
   ],
   "source": [
    "model = grid_result.best_estimator_\n",
    "\n",
    "model.get_params()"
   ]
  },
  {
   "cell_type": "code",
   "execution_count": 34,
   "id": "1afcaf81",
   "metadata": {},
   "outputs": [
    {
     "name": "stdout",
     "output_type": "stream",
     "text": [
      "La precisició es de: 0.5533333333333333\n"
     ]
    }
   ],
   "source": [
    "pred = model.predict(X_test)\n",
    "print(f\"La precisició es de: {precision_score(y_test, pred, average='weighted')}\")"
   ]
  },
  {
   "cell_type": "markdown",
   "id": "7e28a7b5",
   "metadata": {},
   "source": [
    "# Cercam els valors de C "
   ]
  },
  {
   "cell_type": "code",
   "execution_count": 33,
   "id": "61d9fe5b",
   "metadata": {},
   "outputs": [
    {
     "name": "stdout",
     "output_type": "stream",
     "text": [
      "La precisició abans es de: 0.573478798978799\n"
     ]
    }
   ],
   "source": [
    "svm = SVC(C=1.0, kernel='poly', degree=3, coef0=0.5, random_state=42)\n",
    "svm.fit(X_train, y_train)\n",
    "pred = svm.predict(X_test)\n",
    "print(f\"La precisició abans es de: {precision_score(y_test, pred, average='weighted')}\")"
   ]
  },
  {
   "cell_type": "code",
   "execution_count": 13,
   "id": "ae46dbd7",
   "metadata": {},
   "outputs": [],
   "source": [
    "param_grid = {\n",
    "    #'gamma': [0.1, 1, 100, 1000],\n",
    "    'C': [0.1, 1, 100, 1000],\n",
    "}\n",
    "\n",
    "precion_micro_scorer = make_scorer(precision_score, average='micro')"
   ]
  },
  {
   "cell_type": "code",
   "execution_count": 18,
   "id": "e5cf6ae9",
   "metadata": {},
   "outputs": [
    {
     "name": "stdout",
     "output_type": "stream",
     "text": [
      "n_iterations: 3\n",
      "n_required_iterations: 3\n",
      "n_possible_iterations: 1\n",
      "min_resources_: 900\n",
      "max_resources_: 1350\n",
      "aggressive_elimination: True\n",
      "factor: 2\n",
      "----------\n",
      "iter: 0\n",
      "n_candidates: 4\n",
      "n_resources: 900\n",
      "Fitting 30 folds for each of 4 candidates, totalling 120 fits\n",
      "----------\n",
      "iter: 1\n",
      "n_candidates: 2\n",
      "n_resources: 900\n",
      "Fitting 30 folds for each of 2 candidates, totalling 60 fits\n",
      "----------\n",
      "iter: 2\n",
      "n_candidates: 1\n",
      "n_resources: 900\n",
      "Fitting 30 folds for each of 1 candidates, totalling 30 fits\n"
     ]
    }
   ],
   "source": [
    "from sklearn.experimental import enable_halving_search_cv\n",
    "from sklearn.model_selection import HalvingGridSearchCV\n",
    "\n",
    "cv = RepeatedStratifiedKFold(n_splits=10, n_repeats=3, random_state=42)\n",
    "grid_search = HalvingGridSearchCV(estimator=svm, param_grid=param_grid, n_jobs=12, cv=cv, scoring=precion_micro_scorer,error_score=0, factor=2,aggressive_elimination=True, verbose=10)\n",
    "grid_result = grid_search.fit(X_train, y_train)"
   ]
  },
  {
   "cell_type": "code",
   "execution_count": 19,
   "id": "a184a733",
   "metadata": {},
   "outputs": [
    {
     "name": "stdout",
     "output_type": "stream",
     "text": [
      "Best: 0.5692592592592592 using {'C': 1000}\n",
      "0.5796296296296297 (0.03785214176883973) with: {'C': 100}\n",
      "0.5796296296296297 (0.03785214176883973) with: {'C': 1000}\n",
      "0.5755555555555555 (0.05972502146755923) with: {'C': 1}\n",
      "0.5755555555555555 (0.05972502146755923) with: {'C': 100}\n",
      "0.5755555555555555 (0.05972502146755923) with: {'C': 1000}\n"
     ]
    }
   ],
   "source": [
    "showResults(grid_result)"
   ]
  },
  {
   "cell_type": "code",
   "execution_count": 27,
   "id": "2e7a402f",
   "metadata": {},
   "outputs": [
    {
     "data": {
      "text/plain": [
       "{'C': 1000,\n",
       " 'break_ties': False,\n",
       " 'cache_size': 200,\n",
       " 'class_weight': None,\n",
       " 'coef0': 0.5,\n",
       " 'decision_function_shape': 'ovr',\n",
       " 'degree': 3,\n",
       " 'gamma': 'scale',\n",
       " 'kernel': 'poly',\n",
       " 'max_iter': -1,\n",
       " 'probability': False,\n",
       " 'random_state': 42,\n",
       " 'shrinking': True,\n",
       " 'tol': 0.001,\n",
       " 'verbose': False}"
      ]
     },
     "execution_count": 27,
     "metadata": {},
     "output_type": "execute_result"
    }
   ],
   "source": [
    "model = grid_result.best_estimator_\n",
    "\n",
    "model.get_params()"
   ]
  },
  {
   "cell_type": "code",
   "execution_count": 34,
   "id": "897c04bb",
   "metadata": {},
   "outputs": [
    {
     "name": "stdout",
     "output_type": "stream",
     "text": [
      "La precisició es de: 0.573478798978799\n"
     ]
    }
   ],
   "source": [
    "pred = model.predict(X_test)\n",
    "print(f\"La precisició es de: {precision_score(y_test, pred, average='weighted')}\")"
   ]
  }
 ],
 "metadata": {
  "kernelspec": {
   "display_name": "Python 3 (ipykernel)",
   "language": "python",
   "name": "python3"
  },
  "language_info": {
   "codemirror_mode": {
    "name": "ipython",
    "version": 3
   },
   "file_extension": ".py",
   "mimetype": "text/x-python",
   "name": "python",
   "nbconvert_exporter": "python",
   "pygments_lexer": "ipython3",
   "version": "3.9.12"
  }
 },
 "nbformat": 4,
 "nbformat_minor": 5
}
