{
 "cells": [
  {
   "cell_type": "markdown",
   "id": "213c4e7f",
   "metadata": {},
   "source": [
    "# Llegim totes les imatges del dataset"
   ]
  },
  {
   "cell_type": "code",
   "execution_count": 1,
   "id": "0df0e040",
   "metadata": {},
   "outputs": [],
   "source": [
    "import os\n",
    "\n",
    "def get_image_files_by_folder(root_folder, image_extensions=('jpg', 'jpeg', 'png', 'gif', 'bmp')):\n",
    "    image_files_by_folder = {}\n",
    "\n",
    "    # Walk through the root folder and its subdirectories\n",
    "    for folder_path, _, files in os.walk(root_folder):\n",
    "        folder_name = os.path.basename(folder_path)\n",
    "        image_files = []\n",
    "\n",
    "        for file in files:\n",
    "            file_extension = file.lower().split('.')[-1]\n",
    "            if file_extension in image_extensions:\n",
    "                image_files.append(os.path.join(folder_path, file))\n",
    "\n",
    "        if image_files:\n",
    "            image_files_by_folder[folder_name] = image_files\n",
    "\n",
    "    return image_files_by_folder"
   ]
  },
  {
   "cell_type": "code",
   "execution_count": 2,
   "id": "3baf2440",
   "metadata": {},
   "outputs": [
    {
     "data": {
      "text/plain": [
       "dict_keys(['bedroom', 'Coast', 'Forest', 'Highway', 'industrial', 'Insidecity', 'kitchen', 'livingroom', 'Mountain', 'Office', 'OpenCountry', 'store', 'Street', 'Suburb', 'TallBuilding'])"
      ]
     },
     "execution_count": 2,
     "metadata": {},
     "output_type": "execute_result"
    }
   ],
   "source": [
    "train_dataset_path = \"data/train\"\n",
    "images_to_load = get_image_files_by_folder(train_dataset_path)\n",
    "images_to_load.keys()"
   ]
  },
  {
   "cell_type": "markdown",
   "id": "83088395",
   "metadata": {},
   "source": [
    "# Cream el dataframe"
   ]
  },
  {
   "cell_type": "code",
   "execution_count": 61,
   "id": "5f816662",
   "metadata": {},
   "outputs": [],
   "source": [
    "import os\n",
    "import pandas as pd\n",
    "from skimage.feature import hog\n",
    "from skimage import io\n",
    "from sklearn.feature_extraction import image\n",
    "from sklearn.decomposition import PCA\n",
    "import time\n",
    "\n",
    "def read_and_flatten_images(image_list):\n",
    "    start_time = time.time()\n",
    "    image_data = []\n",
    "    \n",
    "    for image_path in image_list:\n",
    "        img = io.imread(image_path)\n",
    "        pca_img = pca_reduction(img)\n",
    "        hog_vectors = hog(pca_img, orientations=8, pixels_per_cell=(20, 20),\n",
    "                          cells_per_block=(10, 10), channel_axis=None)\n",
    "        image_data.append(hog_vectors)\n",
    "    \n",
    "    end_time = time.time()\n",
    "    print(\"Read + HOG time : \", end_time - start_time, \" seconds\")\n",
    "\n",
    "    return image_data\n",
    "\n",
    "def pca_reduction(input_data):\n",
    "    pca = PCA(200)\n",
    "    pca.fit(input_data)\n",
    "    pca_data = pca.transform(input_data)\n",
    "    return pca_data"
   ]
  },
  {
   "cell_type": "code",
   "execution_count": 62,
   "id": "72e172c4",
   "metadata": {},
   "outputs": [
    {
     "name": "stdout",
     "output_type": "stream",
     "text": [
      "Read + HOG time :  0.9218354225158691  seconds\n",
      "Read + HOG time :  0.8918097019195557  seconds\n",
      "Read + HOG time :  0.8948125839233398  seconds\n",
      "Read + HOG time :  0.8797986507415771  seconds\n",
      "Read + HOG time :  0.8727920055389404  seconds\n",
      "Read + HOG time :  0.9068238735198975  seconds\n",
      "Read + HOG time :  0.8868050575256348  seconds\n",
      "Read + HOG time :  0.8798017501831055  seconds\n",
      "Read + HOG time :  0.8918101787567139  seconds\n",
      "Read + HOG time :  0.8797988891601562  seconds\n",
      "Read + HOG time :  0.8797988891601562  seconds\n",
      "Read + HOG time :  0.8908092975616455  seconds\n",
      "Read + HOG time :  0.8577785491943359  seconds\n",
      "Read + HOG time :  0.8592948913574219  seconds\n",
      "Read + HOG time :  0.8637845516204834  seconds\n"
     ]
    }
   ],
   "source": [
    "image_df = pd.DataFrame()\n",
    "for label, image_list in images_to_load.items():\n",
    "    image_data = read_and_flatten_images(images_to_load[label])\n",
    "    next_part = pd.DataFrame(image_data)\n",
    "    next_part['label'] = label\n",
    "    image_df = pd.concat([image_df, next_part], ignore_index=True)"
   ]
  },
  {
   "cell_type": "code",
   "execution_count": 63,
   "id": "41ea2b3f",
   "metadata": {},
   "outputs": [
    {
     "data": {
      "text/html": [
       "<div>\n",
       "<style scoped>\n",
       "    .dataframe tbody tr th:only-of-type {\n",
       "        vertical-align: middle;\n",
       "    }\n",
       "\n",
       "    .dataframe tbody tr th {\n",
       "        vertical-align: top;\n",
       "    }\n",
       "\n",
       "    .dataframe thead th {\n",
       "        text-align: right;\n",
       "    }\n",
       "</style>\n",
       "<table border=\"1\" class=\"dataframe\">\n",
       "  <thead>\n",
       "    <tr style=\"text-align: right;\">\n",
       "      <th></th>\n",
       "      <th>0</th>\n",
       "      <th>1</th>\n",
       "      <th>2</th>\n",
       "      <th>3</th>\n",
       "      <th>4</th>\n",
       "      <th>5</th>\n",
       "      <th>6</th>\n",
       "      <th>7</th>\n",
       "      <th>8</th>\n",
       "      <th>9</th>\n",
       "      <th>...</th>\n",
       "      <th>791</th>\n",
       "      <th>792</th>\n",
       "      <th>793</th>\n",
       "      <th>794</th>\n",
       "      <th>795</th>\n",
       "      <th>796</th>\n",
       "      <th>797</th>\n",
       "      <th>798</th>\n",
       "      <th>799</th>\n",
       "      <th>label</th>\n",
       "    </tr>\n",
       "  </thead>\n",
       "  <tbody>\n",
       "    <tr>\n",
       "      <th>1495</th>\n",
       "      <td>0.229905</td>\n",
       "      <td>0.015361</td>\n",
       "      <td>0.006680</td>\n",
       "      <td>0.002710</td>\n",
       "      <td>0.015779</td>\n",
       "      <td>0.004498</td>\n",
       "      <td>0.020052</td>\n",
       "      <td>0.190435</td>\n",
       "      <td>0.019736</td>\n",
       "      <td>0.009258</td>\n",
       "      <td>...</td>\n",
       "      <td>0.000378</td>\n",
       "      <td>0.000102</td>\n",
       "      <td>0.000076</td>\n",
       "      <td>0.000112</td>\n",
       "      <td>0.000130</td>\n",
       "      <td>0.000094</td>\n",
       "      <td>0.000087</td>\n",
       "      <td>0.000073</td>\n",
       "      <td>0.000076</td>\n",
       "      <td>TallBuilding</td>\n",
       "    </tr>\n",
       "    <tr>\n",
       "      <th>1496</th>\n",
       "      <td>0.225886</td>\n",
       "      <td>0.020024</td>\n",
       "      <td>0.012234</td>\n",
       "      <td>0.010951</td>\n",
       "      <td>0.020260</td>\n",
       "      <td>0.017093</td>\n",
       "      <td>0.037002</td>\n",
       "      <td>0.225886</td>\n",
       "      <td>0.046505</td>\n",
       "      <td>0.024213</td>\n",
       "      <td>...</td>\n",
       "      <td>0.000332</td>\n",
       "      <td>0.000120</td>\n",
       "      <td>0.000050</td>\n",
       "      <td>0.000039</td>\n",
       "      <td>0.000030</td>\n",
       "      <td>0.000065</td>\n",
       "      <td>0.000069</td>\n",
       "      <td>0.000123</td>\n",
       "      <td>0.000132</td>\n",
       "      <td>TallBuilding</td>\n",
       "    </tr>\n",
       "    <tr>\n",
       "      <th>1497</th>\n",
       "      <td>0.103775</td>\n",
       "      <td>0.001477</td>\n",
       "      <td>0.000058</td>\n",
       "      <td>0.000184</td>\n",
       "      <td>0.006315</td>\n",
       "      <td>0.000381</td>\n",
       "      <td>0.000998</td>\n",
       "      <td>0.230154</td>\n",
       "      <td>0.008554</td>\n",
       "      <td>0.001161</td>\n",
       "      <td>...</td>\n",
       "      <td>0.000128</td>\n",
       "      <td>0.000056</td>\n",
       "      <td>0.000025</td>\n",
       "      <td>0.000025</td>\n",
       "      <td>0.000023</td>\n",
       "      <td>0.000023</td>\n",
       "      <td>0.000014</td>\n",
       "      <td>0.000019</td>\n",
       "      <td>0.000040</td>\n",
       "      <td>TallBuilding</td>\n",
       "    </tr>\n",
       "    <tr>\n",
       "      <th>1498</th>\n",
       "      <td>0.156037</td>\n",
       "      <td>0.022486</td>\n",
       "      <td>0.016395</td>\n",
       "      <td>0.012957</td>\n",
       "      <td>0.024969</td>\n",
       "      <td>0.016237</td>\n",
       "      <td>0.032049</td>\n",
       "      <td>0.201537</td>\n",
       "      <td>0.038030</td>\n",
       "      <td>0.021154</td>\n",
       "      <td>...</td>\n",
       "      <td>0.000489</td>\n",
       "      <td>0.000181</td>\n",
       "      <td>0.000102</td>\n",
       "      <td>0.000062</td>\n",
       "      <td>0.000061</td>\n",
       "      <td>0.000083</td>\n",
       "      <td>0.000105</td>\n",
       "      <td>0.000150</td>\n",
       "      <td>0.000094</td>\n",
       "      <td>TallBuilding</td>\n",
       "    </tr>\n",
       "    <tr>\n",
       "      <th>1499</th>\n",
       "      <td>0.088920</td>\n",
       "      <td>0.031172</td>\n",
       "      <td>0.005435</td>\n",
       "      <td>0.003820</td>\n",
       "      <td>0.012759</td>\n",
       "      <td>0.012513</td>\n",
       "      <td>0.029191</td>\n",
       "      <td>0.178505</td>\n",
       "      <td>0.040509</td>\n",
       "      <td>0.038767</td>\n",
       "      <td>...</td>\n",
       "      <td>0.000119</td>\n",
       "      <td>0.000047</td>\n",
       "      <td>0.000013</td>\n",
       "      <td>0.000003</td>\n",
       "      <td>0.000011</td>\n",
       "      <td>0.000012</td>\n",
       "      <td>0.000009</td>\n",
       "      <td>0.000015</td>\n",
       "      <td>0.000040</td>\n",
       "      <td>TallBuilding</td>\n",
       "    </tr>\n",
       "  </tbody>\n",
       "</table>\n",
       "<p>5 rows × 801 columns</p>\n",
       "</div>"
      ],
      "text/plain": [
       "             0         1         2         3         4         5         6  \\\n",
       "1495  0.229905  0.015361  0.006680  0.002710  0.015779  0.004498  0.020052   \n",
       "1496  0.225886  0.020024  0.012234  0.010951  0.020260  0.017093  0.037002   \n",
       "1497  0.103775  0.001477  0.000058  0.000184  0.006315  0.000381  0.000998   \n",
       "1498  0.156037  0.022486  0.016395  0.012957  0.024969  0.016237  0.032049   \n",
       "1499  0.088920  0.031172  0.005435  0.003820  0.012759  0.012513  0.029191   \n",
       "\n",
       "             7         8         9  ...       791       792       793  \\\n",
       "1495  0.190435  0.019736  0.009258  ...  0.000378  0.000102  0.000076   \n",
       "1496  0.225886  0.046505  0.024213  ...  0.000332  0.000120  0.000050   \n",
       "1497  0.230154  0.008554  0.001161  ...  0.000128  0.000056  0.000025   \n",
       "1498  0.201537  0.038030  0.021154  ...  0.000489  0.000181  0.000102   \n",
       "1499  0.178505  0.040509  0.038767  ...  0.000119  0.000047  0.000013   \n",
       "\n",
       "           794       795       796       797       798       799         label  \n",
       "1495  0.000112  0.000130  0.000094  0.000087  0.000073  0.000076  TallBuilding  \n",
       "1496  0.000039  0.000030  0.000065  0.000069  0.000123  0.000132  TallBuilding  \n",
       "1497  0.000025  0.000023  0.000023  0.000014  0.000019  0.000040  TallBuilding  \n",
       "1498  0.000062  0.000061  0.000083  0.000105  0.000150  0.000094  TallBuilding  \n",
       "1499  0.000003  0.000011  0.000012  0.000009  0.000015  0.000040  TallBuilding  \n",
       "\n",
       "[5 rows x 801 columns]"
      ]
     },
     "execution_count": 63,
     "metadata": {},
     "output_type": "execute_result"
    }
   ],
   "source": [
    "image_df.tail()"
   ]
  },
  {
   "cell_type": "code",
   "execution_count": 64,
   "id": "b9d2c1fe",
   "metadata": {},
   "outputs": [
    {
     "data": {
      "text/plain": [
       "(1500, 801)"
      ]
     },
     "execution_count": 64,
     "metadata": {},
     "output_type": "execute_result"
    }
   ],
   "source": [
    "# TODO: read https://scikit-learn.org/stable/modules/preprocessing.html#preprocessing\n",
    "image_df.shape"
   ]
  },
  {
   "cell_type": "markdown",
   "id": "bf4f0811",
   "metadata": {},
   "source": [
    "# Cream els conjunts de test i d'entrenament"
   ]
  },
  {
   "cell_type": "code",
   "execution_count": 65,
   "id": "afeeae70",
   "metadata": {},
   "outputs": [],
   "source": [
    "from sklearn.model_selection import train_test_split\n",
    "\n",
    "# TODO: Es necesari? tenim un conjunt de test ja. Això seria un conjunt de validacio \"per fer overfitting\" :DD\n",
    "X_train, X_test, y_train, y_test = train_test_split(image_df.drop('label', axis=1), image_df['label'], test_size=0.33, random_state=42)"
   ]
  },
  {
   "cell_type": "markdown",
   "id": "f1f6e1bc",
   "metadata": {},
   "source": [
    "# Entrenam el model"
   ]
  },
  {
   "cell_type": "code",
   "execution_count": 68,
   "id": "b2c89e70",
   "metadata": {},
   "outputs": [
    {
     "data": {
      "text/plain": [
       "SVC(kernel='poly', random_state=42)"
      ]
     },
     "execution_count": 68,
     "metadata": {},
     "output_type": "execute_result"
    }
   ],
   "source": [
    "from sklearn.metrics import precision_score, make_scorer\n",
    "from sklearn.svm import SVC\n",
    "\n",
    "svm = SVC(C=1.0, kernel='poly', random_state=42)\n",
    "svm.fit(X_train, y_train)"
   ]
  },
  {
   "cell_type": "markdown",
   "id": "45917a64",
   "metadata": {},
   "source": [
    "# Donam una predicció"
   ]
  },
  {
   "cell_type": "code",
   "execution_count": 69,
   "id": "5edfd4d5",
   "metadata": {},
   "outputs": [
    {
     "name": "stdout",
     "output_type": "stream",
     "text": [
      "La precisició es de: 0.4909090909090909\n"
     ]
    }
   ],
   "source": [
    "y_predicted = svm.predict(X_test)\n",
    "\n",
    "print(f\"La precisició es de: {precision_score(y_test, y_predicted, average='micro')}\")"
   ]
  }
 ],
 "metadata": {
  "kernelspec": {
   "display_name": "Python 3 (ipykernel)",
   "language": "python",
   "name": "python3"
  },
  "language_info": {
   "codemirror_mode": {
    "name": "ipython",
    "version": 3
   },
   "file_extension": ".py",
   "mimetype": "text/x-python",
   "name": "python",
   "nbconvert_exporter": "python",
   "pygments_lexer": "ipython3",
   "version": "3.9.12"
  }
 },
 "nbformat": 4,
 "nbformat_minor": 5
}
