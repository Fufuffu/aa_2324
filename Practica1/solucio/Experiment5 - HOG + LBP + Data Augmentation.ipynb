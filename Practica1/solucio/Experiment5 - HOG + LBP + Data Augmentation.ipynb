{
 "cells": [
  {
   "cell_type": "markdown",
   "id": "f4dc0511",
   "metadata": {},
   "source": [
    "# Preparam el notebook"
   ]
  },
  {
   "cell_type": "code",
   "execution_count": 10,
   "id": "4db32527",
   "metadata": {},
   "outputs": [],
   "source": [
    "import os\n",
    "import time\n",
    "import itertools\n",
    "\n",
    "import pandas as pd\n",
    "import numpy as np\n",
    "import seaborn as sns\n",
    "import matplotlib.pyplot as plt\n",
    "\n",
    "from sklearn.feature_extraction import image\n",
    "from sklearn.metrics import accuracy_score, classification_report\n",
    "from sklearn.svm import SVC\n",
    "from sklearn.model_selection import RepeatedStratifiedKFold\n",
    "from sklearn.experimental import enable_halving_search_cv\n",
    "from sklearn.model_selection import HalvingGridSearchCV\n",
    "\n",
    "from sklearn.preprocessing import MinMaxScaler\n",
    "from skimage.feature import hog\n",
    "from skimage import io, feature\n",
    "from skimage.transform import rotate, resize\n",
    "from skimage.util import random_noise\n",
    "from scipy import ndimage"
   ]
  },
  {
   "cell_type": "markdown",
   "id": "84b3dbba",
   "metadata": {},
   "source": [
    "# Llegim totes les imatges del dataset"
   ]
  },
  {
   "cell_type": "code",
   "execution_count": 2,
   "id": "0df0e040",
   "metadata": {},
   "outputs": [],
   "source": [
    "def get_image_files_by_folder(root_folder, image_extensions=('jpg', 'jpeg', 'png', 'gif', 'bmp')):\n",
    "    image_files_by_folder = {}\n",
    "\n",
    "    # Walk through the root folder and its subdirectories\n",
    "    for folder_path, _, files in os.walk(root_folder):\n",
    "        folder_name = os.path.basename(folder_path)\n",
    "        image_files = []\n",
    "\n",
    "        for file in files:\n",
    "            file_extension = file.lower().split('.')[-1]\n",
    "            if file_extension in image_extensions:\n",
    "                image_files.append(os.path.join(folder_path, file))\n",
    "\n",
    "        if image_files:\n",
    "            image_files_by_folder[folder_name] = image_files\n",
    "\n",
    "    return image_files_by_folder"
   ]
  },
  {
   "cell_type": "code",
   "execution_count": 3,
   "id": "3baf2440",
   "metadata": {},
   "outputs": [
    {
     "data": {
      "text/plain": [
       "dict_keys(['bedroom', 'coast', 'forest', 'highway', 'industrial', 'insidecity', 'kitchen', 'livingroom', 'mountain', 'office', 'opencountry', 'store', 'street', 'suburb', 'tallbuilding'])"
      ]
     },
     "execution_count": 3,
     "metadata": {},
     "output_type": "execute_result"
    }
   ],
   "source": [
    "train_dataset_path = \"data/train\"\n",
    "images_to_load_train = get_image_files_by_folder(train_dataset_path)\n",
    "images_to_load_train.keys()"
   ]
  },
  {
   "cell_type": "code",
   "execution_count": 4,
   "id": "180f75ec",
   "metadata": {},
   "outputs": [
    {
     "data": {
      "text/plain": [
       "dict_keys(['bedroom', 'coast', 'forest', 'highway', 'industrial', 'insidecity', 'kitchen', 'livingroom', 'mountain', 'office', 'opencountry', 'store', 'street', 'suburb', 'tallbuilding'])"
      ]
     },
     "execution_count": 4,
     "metadata": {},
     "output_type": "execute_result"
    }
   ],
   "source": [
    "test_dataset_path = \"data/test\"\n",
    "images_to_load_test = get_image_files_by_folder(test_dataset_path)\n",
    "images_to_load_test.keys()"
   ]
  },
  {
   "cell_type": "markdown",
   "id": "378cecbb",
   "metadata": {},
   "source": [
    "# Cream el dataframe"
   ]
  },
  {
   "cell_type": "code",
   "execution_count": 11,
   "id": "1b211f33",
   "metadata": {},
   "outputs": [],
   "source": [
    "def read_and_flatten_images(image_list, augment_data):\n",
    "    image_data = []\n",
    "    scaler = MinMaxScaler()\n",
    "    \n",
    "    start_time = time.time()\n",
    "    for image_path in image_list:\n",
    "        img = io.imread(image_path, as_gray=True)\n",
    "        img = resize(img, (200, 200))\n",
    "        if augment_data:\n",
    "            flipped_img = img[:, ::-1]\n",
    "            rotated_5 = rotate(img, 5)\n",
    "            rotated_neg_5 = rotate(img, -5)\n",
    "            blured = ndimage.uniform_filter(img)\n",
    "            images = [img, flipped_img, rotated_5, rotated_neg_5, blured]\n",
    "        else:\n",
    "            images = [img]\n",
    "\n",
    "        for image_to_process in images:\n",
    "            hog_vectors = hog(image_to_process, orientations=9, pixels_per_cell=(20, 20),\n",
    "                              cells_per_block=(10, 10), channel_axis=None, transform_sqrt=True)\n",
    "            lbp = feature.local_binary_pattern(image_to_process, 24, 3, method='uniform')\n",
    "            lbp_features = np.histogram(lbp, bins=np.arange(0, 24 + 3), range=(0, 24 + 2))[0]\n",
    "            lbp_features_scaled = scaler.fit_transform(lbp_features.reshape(-1, 1))\n",
    "            lbp_features_resized = scaler.inverse_transform(lbp_features_scaled)\n",
    "\n",
    "            image_data.append(np.concatenate((hog_vectors, lbp_features_resized.squeeze())))\n",
    "            #image_data.append(hog_vectors)\n",
    "    \n",
    "    print(\"Read + HOG + Data augmentation + LBP time:\", time.time() - start_time, \"seconds\")\n",
    "    return image_data\n",
    "\n",
    "def create_dataframe_from_categories(images_to_load, augment_data=True):\n",
    "    df = pd.DataFrame()\n",
    "    for label, image_list in images_to_load.items():\n",
    "        image_data = read_and_flatten_images(images_to_load[label], augment_data)\n",
    "        next_part = pd.DataFrame(image_data)\n",
    "        next_part['label'] = label\n",
    "        df = pd.concat([df, next_part], ignore_index=True)\n",
    "    return df"
   ]
  },
  {
   "cell_type": "code",
   "execution_count": 12,
   "id": "ba3cec38",
   "metadata": {},
   "outputs": [
    {
     "name": "stdout",
     "output_type": "stream",
     "text": [
      "Read + HOG + Data augmentation + LBP time: 9.81090784072876 seconds\n",
      "Read + HOG + Data augmentation + LBP time: 9.754570960998535 seconds\n",
      "Read + HOG + Data augmentation + LBP time: 9.904993295669556 seconds\n",
      "Read + HOG + Data augmentation + LBP time: 9.715821743011475 seconds\n",
      "Read + HOG + Data augmentation + LBP time: 9.85094428062439 seconds\n",
      "Read + HOG + Data augmentation + LBP time: 9.799019813537598 seconds\n",
      "Read + HOG + Data augmentation + LBP time: 9.813910484313965 seconds\n",
      "Read + HOG + Data augmentation + LBP time: 9.810797929763794 seconds\n",
      "Read + HOG + Data augmentation + LBP time: 9.844354391098022 seconds\n",
      "Read + HOG + Data augmentation + LBP time: 9.71782398223877 seconds\n",
      "Read + HOG + Data augmentation + LBP time: 9.718824625015259 seconds\n",
      "Read + HOG + Data augmentation + LBP time: 9.850944519042969 seconds\n",
      "Read + HOG + Data augmentation + LBP time: 9.873965501785278 seconds\n",
      "Read + HOG + Data augmentation + LBP time: 9.825311183929443 seconds\n",
      "Read + HOG + Data augmentation + LBP time: 9.829556941986084 seconds\n",
      "Read + HOG + Data augmentation + LBP time: 2.4200539588928223 seconds\n",
      "Read + HOG + Data augmentation + LBP time: 5.293680429458618 seconds\n",
      "Read + HOG + Data augmentation + LBP time: 4.7380146980285645 seconds\n",
      "Read + HOG + Data augmentation + LBP time: 3.268970489501953 seconds\n",
      "Read + HOG + Data augmentation + LBP time: 4.44462776184082 seconds\n",
      "Read + HOG + Data augmentation + LBP time: 4.37913703918457 seconds\n",
      "Read + HOG + Data augmentation + LBP time: 2.3116114139556885 seconds\n",
      "Read + HOG + Data augmentation + LBP time: 3.9045450687408447 seconds\n",
      "Read + HOG + Data augmentation + LBP time: 5.719588041305542 seconds\n",
      "Read + HOG + Data augmentation + LBP time: 2.3639719486236572 seconds\n",
      "Read + HOG + Data augmentation + LBP time: 6.361590147018433 seconds\n",
      "Read + HOG + Data augmentation + LBP time: 4.50101900100708 seconds\n",
      "Read + HOG + Data augmentation + LBP time: 4.082379341125488 seconds\n",
      "Read + HOG + Data augmentation + LBP time: 2.9157140254974365 seconds\n",
      "Read + HOG + Data augmentation + LBP time: 5.303889751434326 seconds\n"
     ]
    }
   ],
   "source": [
    "train_df = create_dataframe_from_categories(images_to_load_train)\n",
    "test_df = create_dataframe_from_categories(images_to_load_test, augment_data=False)"
   ]
  },
  {
   "cell_type": "code",
   "execution_count": 13,
   "id": "91ec8e94",
   "metadata": {},
   "outputs": [
    {
     "data": {
      "text/html": [
       "<div>\n",
       "<style scoped>\n",
       "    .dataframe tbody tr th:only-of-type {\n",
       "        vertical-align: middle;\n",
       "    }\n",
       "\n",
       "    .dataframe tbody tr th {\n",
       "        vertical-align: top;\n",
       "    }\n",
       "\n",
       "    .dataframe thead th {\n",
       "        text-align: right;\n",
       "    }\n",
       "</style>\n",
       "<table border=\"1\" class=\"dataframe\">\n",
       "  <thead>\n",
       "    <tr style=\"text-align: right;\">\n",
       "      <th></th>\n",
       "      <th>0</th>\n",
       "      <th>1</th>\n",
       "      <th>2</th>\n",
       "      <th>3</th>\n",
       "      <th>4</th>\n",
       "      <th>5</th>\n",
       "      <th>6</th>\n",
       "      <th>7</th>\n",
       "      <th>8</th>\n",
       "      <th>9</th>\n",
       "      <th>...</th>\n",
       "      <th>917</th>\n",
       "      <th>918</th>\n",
       "      <th>919</th>\n",
       "      <th>920</th>\n",
       "      <th>921</th>\n",
       "      <th>922</th>\n",
       "      <th>923</th>\n",
       "      <th>924</th>\n",
       "      <th>925</th>\n",
       "      <th>label</th>\n",
       "    </tr>\n",
       "  </thead>\n",
       "  <tbody>\n",
       "    <tr>\n",
       "      <th>0</th>\n",
       "      <td>0.011354</td>\n",
       "      <td>0.004432</td>\n",
       "      <td>0.001141</td>\n",
       "      <td>0.003175</td>\n",
       "      <td>0.040967</td>\n",
       "      <td>0.090160</td>\n",
       "      <td>0.002581</td>\n",
       "      <td>0.004697</td>\n",
       "      <td>0.008418</td>\n",
       "      <td>0.012150</td>\n",
       "      <td>...</td>\n",
       "      <td>522.0</td>\n",
       "      <td>369.0</td>\n",
       "      <td>387.0</td>\n",
       "      <td>427.0</td>\n",
       "      <td>557.0</td>\n",
       "      <td>787.0</td>\n",
       "      <td>1173.0</td>\n",
       "      <td>4139.0</td>\n",
       "      <td>16613.0</td>\n",
       "      <td>bedroom</td>\n",
       "    </tr>\n",
       "    <tr>\n",
       "      <th>1</th>\n",
       "      <td>0.009562</td>\n",
       "      <td>0.018226</td>\n",
       "      <td>0.005070</td>\n",
       "      <td>0.002203</td>\n",
       "      <td>0.005281</td>\n",
       "      <td>0.002371</td>\n",
       "      <td>0.002201</td>\n",
       "      <td>0.003917</td>\n",
       "      <td>0.004864</td>\n",
       "      <td>0.029355</td>\n",
       "      <td>...</td>\n",
       "      <td>522.0</td>\n",
       "      <td>369.0</td>\n",
       "      <td>387.0</td>\n",
       "      <td>429.0</td>\n",
       "      <td>555.0</td>\n",
       "      <td>788.0</td>\n",
       "      <td>1172.0</td>\n",
       "      <td>4139.0</td>\n",
       "      <td>16613.0</td>\n",
       "      <td>bedroom</td>\n",
       "    </tr>\n",
       "    <tr>\n",
       "      <th>2</th>\n",
       "      <td>0.003996</td>\n",
       "      <td>0.000853</td>\n",
       "      <td>0.002064</td>\n",
       "      <td>0.022376</td>\n",
       "      <td>0.159685</td>\n",
       "      <td>0.063335</td>\n",
       "      <td>0.002938</td>\n",
       "      <td>0.004193</td>\n",
       "      <td>0.005589</td>\n",
       "      <td>0.004060</td>\n",
       "      <td>...</td>\n",
       "      <td>555.0</td>\n",
       "      <td>471.0</td>\n",
       "      <td>475.0</td>\n",
       "      <td>565.0</td>\n",
       "      <td>628.0</td>\n",
       "      <td>870.0</td>\n",
       "      <td>905.0</td>\n",
       "      <td>4821.0</td>\n",
       "      <td>13464.0</td>\n",
       "      <td>bedroom</td>\n",
       "    </tr>\n",
       "    <tr>\n",
       "      <th>3</th>\n",
       "      <td>0.203009</td>\n",
       "      <td>0.000000</td>\n",
       "      <td>0.000000</td>\n",
       "      <td>0.000078</td>\n",
       "      <td>0.000027</td>\n",
       "      <td>0.000163</td>\n",
       "      <td>0.000068</td>\n",
       "      <td>0.000055</td>\n",
       "      <td>0.000040</td>\n",
       "      <td>0.013108</td>\n",
       "      <td>...</td>\n",
       "      <td>500.0</td>\n",
       "      <td>463.0</td>\n",
       "      <td>492.0</td>\n",
       "      <td>527.0</td>\n",
       "      <td>636.0</td>\n",
       "      <td>824.0</td>\n",
       "      <td>898.0</td>\n",
       "      <td>5124.0</td>\n",
       "      <td>13515.0</td>\n",
       "      <td>bedroom</td>\n",
       "    </tr>\n",
       "    <tr>\n",
       "      <th>4</th>\n",
       "      <td>0.006962</td>\n",
       "      <td>0.003344</td>\n",
       "      <td>0.001867</td>\n",
       "      <td>0.004662</td>\n",
       "      <td>0.030570</td>\n",
       "      <td>0.121183</td>\n",
       "      <td>0.002288</td>\n",
       "      <td>0.001978</td>\n",
       "      <td>0.002625</td>\n",
       "      <td>0.004748</td>\n",
       "      <td>...</td>\n",
       "      <td>636.0</td>\n",
       "      <td>588.0</td>\n",
       "      <td>600.0</td>\n",
       "      <td>760.0</td>\n",
       "      <td>784.0</td>\n",
       "      <td>799.0</td>\n",
       "      <td>630.0</td>\n",
       "      <td>1742.0</td>\n",
       "      <td>10904.0</td>\n",
       "      <td>bedroom</td>\n",
       "    </tr>\n",
       "  </tbody>\n",
       "</table>\n",
       "<p>5 rows × 927 columns</p>\n",
       "</div>"
      ],
      "text/plain": [
       "          0         1         2         3         4         5         6  \\\n",
       "0  0.011354  0.004432  0.001141  0.003175  0.040967  0.090160  0.002581   \n",
       "1  0.009562  0.018226  0.005070  0.002203  0.005281  0.002371  0.002201   \n",
       "2  0.003996  0.000853  0.002064  0.022376  0.159685  0.063335  0.002938   \n",
       "3  0.203009  0.000000  0.000000  0.000078  0.000027  0.000163  0.000068   \n",
       "4  0.006962  0.003344  0.001867  0.004662  0.030570  0.121183  0.002288   \n",
       "\n",
       "          7         8         9  ...    917    918    919    920    921  \\\n",
       "0  0.004697  0.008418  0.012150  ...  522.0  369.0  387.0  427.0  557.0   \n",
       "1  0.003917  0.004864  0.029355  ...  522.0  369.0  387.0  429.0  555.0   \n",
       "2  0.004193  0.005589  0.004060  ...  555.0  471.0  475.0  565.0  628.0   \n",
       "3  0.000055  0.000040  0.013108  ...  500.0  463.0  492.0  527.0  636.0   \n",
       "4  0.001978  0.002625  0.004748  ...  636.0  588.0  600.0  760.0  784.0   \n",
       "\n",
       "     922     923     924      925    label  \n",
       "0  787.0  1173.0  4139.0  16613.0  bedroom  \n",
       "1  788.0  1172.0  4139.0  16613.0  bedroom  \n",
       "2  870.0   905.0  4821.0  13464.0  bedroom  \n",
       "3  824.0   898.0  5124.0  13515.0  bedroom  \n",
       "4  799.0   630.0  1742.0  10904.0  bedroom  \n",
       "\n",
       "[5 rows x 927 columns]"
      ]
     },
     "execution_count": 13,
     "metadata": {},
     "output_type": "execute_result"
    }
   ],
   "source": [
    "train_df.head()"
   ]
  },
  {
   "cell_type": "code",
   "execution_count": 14,
   "id": "21762fce",
   "metadata": {},
   "outputs": [
    {
     "data": {
      "text/plain": [
       "(7500, 927)"
      ]
     },
     "execution_count": 14,
     "metadata": {},
     "output_type": "execute_result"
    }
   ],
   "source": [
    "train_df.shape"
   ]
  },
  {
   "cell_type": "code",
   "execution_count": 15,
   "id": "ccbc5620",
   "metadata": {},
   "outputs": [
    {
     "data": {
      "text/plain": [
       "(2985, 927)"
      ]
     },
     "execution_count": 15,
     "metadata": {},
     "output_type": "execute_result"
    }
   ],
   "source": [
    "test_df.shape"
   ]
  },
  {
   "cell_type": "markdown",
   "id": "f597a98b",
   "metadata": {},
   "source": [
    "# Cream els conjunts de test i d'entrenament"
   ]
  },
  {
   "cell_type": "code",
   "execution_count": 16,
   "id": "33c69420",
   "metadata": {},
   "outputs": [],
   "source": [
    "X_train = train_df.drop('label', axis=1)\n",
    "y_train = train_df['label']\n",
    "\n",
    "X_test = test_df.drop('label', axis=1)\n",
    "y_test = test_df['label']"
   ]
  },
  {
   "cell_type": "markdown",
   "id": "26406095",
   "metadata": {},
   "source": [
    "# Entrenam el model"
   ]
  },
  {
   "cell_type": "code",
   "execution_count": 17,
   "id": "3e0369f5",
   "metadata": {},
   "outputs": [
    {
     "name": "stdout",
     "output_type": "stream",
     "text": [
      "fit time: 7.281625986099243 seconds\n"
     ]
    }
   ],
   "source": [
    "svm = SVC(C=10, kernel='poly', random_state=33, degree=4, coef0=0.01)\n",
    "start_time = time.time()\n",
    "svm.fit(X_train, y_train)\n",
    "print(\"fit time:\", time.time() - start_time, \"seconds\")"
   ]
  },
  {
   "cell_type": "markdown",
   "id": "016da1ff",
   "metadata": {},
   "source": [
    "# Donam una predicció"
   ]
  },
  {
   "cell_type": "code",
   "execution_count": 18,
   "id": "a9c1886a",
   "metadata": {},
   "outputs": [
    {
     "name": "stdout",
     "output_type": "stream",
     "text": [
      "La precisició es de: 0.4525963149078727\n"
     ]
    }
   ],
   "source": [
    "y_predicted = svm.predict(X_test)\n",
    "\n",
    "print(f\"La precisició es de: {accuracy_score(y_test, y_predicted)}\")"
   ]
  },
  {
   "cell_type": "markdown",
   "id": "2d8b146d",
   "metadata": {},
   "source": [
    "# Quines categories tenen major error?"
   ]
  },
  {
   "cell_type": "code",
   "execution_count": 19,
   "id": "38956552",
   "metadata": {},
   "outputs": [
    {
     "name": "stdout",
     "output_type": "stream",
     "text": [
      "Classification report:\n",
      "               precision    recall  f1-score   support\n",
      "\n",
      "     bedroom       0.41      0.20      0.27       116\n",
      "       coast       0.43      0.44      0.43       260\n",
      "      forest       0.67      0.86      0.75       228\n",
      "     highway       0.30      0.53      0.38       160\n",
      "  industrial       0.38      0.39      0.38       211\n",
      "  insidecity       0.43      0.62      0.51       208\n",
      "     kitchen       0.34      0.43      0.38       110\n",
      "  livingroom       0.40      0.28      0.33       189\n",
      "    mountain       0.56      0.33      0.41       274\n",
      "      office       0.46      0.72      0.56       115\n",
      " opencountry       0.46      0.39      0.42       310\n",
      "       store       0.55      0.53      0.54       215\n",
      "      street       0.46      0.45      0.45       192\n",
      "      suburb       0.45      0.50      0.47       141\n",
      "tallbuilding       0.40      0.23      0.29       256\n",
      "\n",
      "    accuracy                           0.45      2985\n",
      "   macro avg       0.45      0.46      0.44      2985\n",
      "weighted avg       0.46      0.45      0.44      2985\n",
      "\n"
     ]
    }
   ],
   "source": [
    "print(\"Classification report:\\n\", classification_report(y_test, y_predicted))"
   ]
  }
 ],
 "metadata": {
  "kernelspec": {
   "display_name": "Python 3 (ipykernel)",
   "language": "python",
   "name": "python3"
  },
  "language_info": {
   "codemirror_mode": {
    "name": "ipython",
    "version": 3
   },
   "file_extension": ".py",
   "mimetype": "text/x-python",
   "name": "python",
   "nbconvert_exporter": "python",
   "pygments_lexer": "ipython3",
   "version": "3.9.12"
  }
 },
 "nbformat": 4,
 "nbformat_minor": 5
}
