{
 "cells": [
  {
   "cell_type": "markdown",
   "id": "f4dc0511",
   "metadata": {},
   "source": [
    "# Preparam el notebook"
   ]
  },
  {
   "cell_type": "code",
   "execution_count": 5,
   "id": "dcbb071a",
   "metadata": {},
   "outputs": [],
   "source": [
    "import os\n",
    "import time\n",
    "import itertools\n",
    "\n",
    "import pandas as pd\n",
    "import numpy as np\n",
    "import seaborn as sns\n",
    "import matplotlib.pyplot as plt\n",
    "\n",
    "from sklearn.feature_extraction import image\n",
    "from sklearn.decomposition import PCA\n",
    "from sklearn.metrics import accuracy_score, classification_report\n",
    "from sklearn.svm import SVC\n",
    "from sklearn.model_selection import RepeatedStratifiedKFold\n",
    "from sklearn.experimental import enable_halving_search_cv\n",
    "from sklearn.model_selection import HalvingGridSearchCV\n",
    "\n",
    "from skimage.feature import hog\n",
    "from skimage import io\n",
    "from skimage.transform import rotate, resize\n",
    "from skimage.util import random_noise\n",
    "from scipy import ndimage"
   ]
  },
  {
   "cell_type": "markdown",
   "id": "213c4e7f",
   "metadata": {},
   "source": [
    "# Llegim totes les imatges del dataset"
   ]
  },
  {
   "cell_type": "code",
   "execution_count": 2,
   "id": "0df0e040",
   "metadata": {},
   "outputs": [],
   "source": [
    "def get_image_files_by_folder(root_folder, image_extensions=('jpg', 'jpeg', 'png', 'gif', 'bmp')):\n",
    "    image_files_by_folder = {}\n",
    "\n",
    "    # Walk through the root folder and its subdirectories\n",
    "    for folder_path, _, files in os.walk(root_folder):\n",
    "        folder_name = os.path.basename(folder_path)\n",
    "        image_files = []\n",
    "\n",
    "        for file in files:\n",
    "            file_extension = file.lower().split('.')[-1]\n",
    "            if file_extension in image_extensions:\n",
    "                image_files.append(os.path.join(folder_path, file))\n",
    "\n",
    "        if image_files:\n",
    "            image_files_by_folder[folder_name] = image_files\n",
    "\n",
    "    return image_files_by_folder"
   ]
  },
  {
   "cell_type": "code",
   "execution_count": 3,
   "id": "3baf2440",
   "metadata": {},
   "outputs": [
    {
     "data": {
      "text/plain": [
       "dict_keys(['bedroom', 'coast', 'forest', 'highway', 'industrial', 'insidecity', 'kitchen', 'livingroom', 'mountain', 'office', 'opencountry', 'store', 'street', 'suburb', 'tallbuilding'])"
      ]
     },
     "execution_count": 3,
     "metadata": {},
     "output_type": "execute_result"
    }
   ],
   "source": [
    "train_dataset_path = \"data/train\"\n",
    "images_to_load_train = get_image_files_by_folder(train_dataset_path)\n",
    "images_to_load_train.keys()"
   ]
  },
  {
   "cell_type": "code",
   "execution_count": 4,
   "id": "37774b77",
   "metadata": {},
   "outputs": [
    {
     "data": {
      "text/plain": [
       "dict_keys(['bedroom', 'coast', 'forest', 'highway', 'industrial', 'insidecity', 'kitchen', 'livingroom', 'mountain', 'office', 'opencountry', 'store', 'street', 'suburb', 'tallbuilding'])"
      ]
     },
     "execution_count": 4,
     "metadata": {},
     "output_type": "execute_result"
    }
   ],
   "source": [
    "test_dataset_path = \"data/test\"\n",
    "images_to_load_test = get_image_files_by_folder(test_dataset_path)\n",
    "images_to_load_test.keys()"
   ]
  },
  {
   "cell_type": "markdown",
   "id": "83088395",
   "metadata": {},
   "source": [
    "# Cream el dataframe"
   ]
  },
  {
   "cell_type": "code",
   "execution_count": 33,
   "id": "5f816662",
   "metadata": {},
   "outputs": [],
   "source": [
    "def read_and_flatten_images(image_list):\n",
    "    start_time = time.time()\n",
    "    image_data = []\n",
    "    \n",
    "    for image_path in image_list:\n",
    "        img = io.imread(image_path, as_gray=True)\n",
    "        img = resize(img, (200, 200))\n",
    "        pca_img = pca_reduction(img)\n",
    "        hog_vectors = hog(pca_img, orientations=9, pixels_per_cell=(20, 20),\n",
    "                          cells_per_block=(10, 10), channel_axis=None)\n",
    "        image_data.append(hog_vectors)\n",
    "    \n",
    "    end_time = time.time()\n",
    "    print(\"Read + HOG + PCA time:\", end_time - start_time, \"seconds\")\n",
    "\n",
    "    return image_data\n",
    "\n",
    "def pca_reduction(input_data):\n",
    "    pca = PCA(200)\n",
    "    pca.fit(input_data)\n",
    "    pca_data = pca.transform(input_data)\n",
    "    return pca_data\n",
    "\n",
    "def create_dataframe_from_categories(images_to_load):\n",
    "    df = pd.DataFrame()\n",
    "    for label, image_list in images_to_load.items():\n",
    "        image_data = read_and_flatten_images(images_to_load[label])\n",
    "        next_part = pd.DataFrame(image_data)\n",
    "        next_part['label'] = label\n",
    "        df = pd.concat([df, next_part], ignore_index=True)\n",
    "    return df"
   ]
  },
  {
   "cell_type": "code",
   "execution_count": 34,
   "id": "72e172c4",
   "metadata": {},
   "outputs": [
    {
     "name": "stdout",
     "output_type": "stream",
     "text": [
      "Read + HOG + PCA time: 1.0661096572875977 seconds\n",
      "Read + HOG + PCA time: 1.0869905948638916 seconds\n",
      "Read + HOG + PCA time: 1.1134445667266846 seconds\n",
      "Read + HOG + PCA time: 1.0809803009033203 seconds\n",
      "Read + HOG + PCA time: 1.086987018585205 seconds\n",
      "Read + HOG + PCA time: 1.111008882522583 seconds\n",
      "Read + HOG + PCA time: 1.149423360824585 seconds\n",
      "Read + HOG + PCA time: 1.0771920680999756 seconds\n",
      "Read + HOG + PCA time: 1.098134994506836 seconds\n",
      "Read + HOG + PCA time: 1.049088954925537 seconds\n",
      "Read + HOG + PCA time: 1.1361920833587646 seconds\n",
      "Read + HOG + PCA time: 1.1203498840332031 seconds\n",
      "Read + HOG + PCA time: 1.2086846828460693 seconds\n",
      "Read + HOG + PCA time: 1.2181663513183594 seconds\n",
      "Read + HOG + PCA time: 1.2240302562713623 seconds\n",
      "Read + HOG + PCA time: 1.32090425491333 seconds\n",
      "Read + HOG + PCA time: 2.9699416160583496 seconds\n",
      "Read + HOG + PCA time: 2.587120532989502 seconds\n",
      "Read + HOG + PCA time: 1.7509446144104004 seconds\n",
      "Read + HOG + PCA time: 2.3357062339782715 seconds\n",
      "Read + HOG + PCA time: 2.346451997756958 seconds\n",
      "Read + HOG + PCA time: 1.2901642322540283 seconds\n",
      "Read + HOG + PCA time: 2.098348379135132 seconds\n",
      "Read + HOG + PCA time: 3.0167014598846436 seconds\n",
      "Read + HOG + PCA time: 1.223109245300293 seconds\n",
      "Read + HOG + PCA time: 3.5146379470825195 seconds\n",
      "Read + HOG + PCA time: 2.3120996952056885 seconds\n",
      "Read + HOG + PCA time: 2.093416929244995 seconds\n",
      "Read + HOG + PCA time: 1.5294206142425537 seconds\n",
      "Read + HOG + PCA time: 2.8515894412994385 seconds\n"
     ]
    }
   ],
   "source": [
    "train_df = create_dataframe_from_categories(images_to_load_train)\n",
    "test_df = create_dataframe_from_categories(images_to_load_test)"
   ]
  },
  {
   "cell_type": "code",
   "execution_count": 35,
   "id": "41ea2b3f",
   "metadata": {},
   "outputs": [
    {
     "data": {
      "text/html": [
       "<div>\n",
       "<style scoped>\n",
       "    .dataframe tbody tr th:only-of-type {\n",
       "        vertical-align: middle;\n",
       "    }\n",
       "\n",
       "    .dataframe tbody tr th {\n",
       "        vertical-align: top;\n",
       "    }\n",
       "\n",
       "    .dataframe thead th {\n",
       "        text-align: right;\n",
       "    }\n",
       "</style>\n",
       "<table border=\"1\" class=\"dataframe\">\n",
       "  <thead>\n",
       "    <tr style=\"text-align: right;\">\n",
       "      <th></th>\n",
       "      <th>0</th>\n",
       "      <th>1</th>\n",
       "      <th>2</th>\n",
       "      <th>3</th>\n",
       "      <th>4</th>\n",
       "      <th>5</th>\n",
       "      <th>6</th>\n",
       "      <th>7</th>\n",
       "      <th>8</th>\n",
       "      <th>9</th>\n",
       "      <th>...</th>\n",
       "      <th>891</th>\n",
       "      <th>892</th>\n",
       "      <th>893</th>\n",
       "      <th>894</th>\n",
       "      <th>895</th>\n",
       "      <th>896</th>\n",
       "      <th>897</th>\n",
       "      <th>898</th>\n",
       "      <th>899</th>\n",
       "      <th>label</th>\n",
       "    </tr>\n",
       "  </thead>\n",
       "  <tbody>\n",
       "    <tr>\n",
       "      <th>0</th>\n",
       "      <td>0.233947</td>\n",
       "      <td>0.117094</td>\n",
       "      <td>0.041979</td>\n",
       "      <td>0.047137</td>\n",
       "      <td>0.065039</td>\n",
       "      <td>0.049904</td>\n",
       "      <td>0.045960</td>\n",
       "      <td>0.054702</td>\n",
       "      <td>0.174843</td>\n",
       "      <td>0.034666</td>\n",
       "      <td>...</td>\n",
       "      <td>0.000213</td>\n",
       "      <td>0.000181</td>\n",
       "      <td>0.000137</td>\n",
       "      <td>0.000122</td>\n",
       "      <td>0.000111</td>\n",
       "      <td>0.000164</td>\n",
       "      <td>0.000185</td>\n",
       "      <td>0.000101</td>\n",
       "      <td>0.000169</td>\n",
       "      <td>bedroom</td>\n",
       "    </tr>\n",
       "    <tr>\n",
       "      <th>1</th>\n",
       "      <td>0.228444</td>\n",
       "      <td>0.020994</td>\n",
       "      <td>0.006660</td>\n",
       "      <td>0.004593</td>\n",
       "      <td>0.013661</td>\n",
       "      <td>0.007352</td>\n",
       "      <td>0.013978</td>\n",
       "      <td>0.024262</td>\n",
       "      <td>0.194555</td>\n",
       "      <td>0.014712</td>\n",
       "      <td>...</td>\n",
       "      <td>0.000133</td>\n",
       "      <td>0.000094</td>\n",
       "      <td>0.000093</td>\n",
       "      <td>0.000106</td>\n",
       "      <td>0.000078</td>\n",
       "      <td>0.000123</td>\n",
       "      <td>0.000085</td>\n",
       "      <td>0.000107</td>\n",
       "      <td>0.000096</td>\n",
       "      <td>bedroom</td>\n",
       "    </tr>\n",
       "    <tr>\n",
       "      <th>2</th>\n",
       "      <td>0.218880</td>\n",
       "      <td>0.036662</td>\n",
       "      <td>0.012549</td>\n",
       "      <td>0.009126</td>\n",
       "      <td>0.015933</td>\n",
       "      <td>0.008907</td>\n",
       "      <td>0.011023</td>\n",
       "      <td>0.034341</td>\n",
       "      <td>0.215594</td>\n",
       "      <td>0.033101</td>\n",
       "      <td>...</td>\n",
       "      <td>0.000322</td>\n",
       "      <td>0.000235</td>\n",
       "      <td>0.000140</td>\n",
       "      <td>0.000207</td>\n",
       "      <td>0.000210</td>\n",
       "      <td>0.000297</td>\n",
       "      <td>0.000241</td>\n",
       "      <td>0.000265</td>\n",
       "      <td>0.000264</td>\n",
       "      <td>bedroom</td>\n",
       "    </tr>\n",
       "    <tr>\n",
       "      <th>3</th>\n",
       "      <td>0.192970</td>\n",
       "      <td>0.004613</td>\n",
       "      <td>0.000687</td>\n",
       "      <td>0.001446</td>\n",
       "      <td>0.003915</td>\n",
       "      <td>0.000537</td>\n",
       "      <td>0.001579</td>\n",
       "      <td>0.003236</td>\n",
       "      <td>0.205453</td>\n",
       "      <td>0.017466</td>\n",
       "      <td>...</td>\n",
       "      <td>0.000261</td>\n",
       "      <td>0.000134</td>\n",
       "      <td>0.000135</td>\n",
       "      <td>0.000160</td>\n",
       "      <td>0.000155</td>\n",
       "      <td>0.000165</td>\n",
       "      <td>0.000117</td>\n",
       "      <td>0.000130</td>\n",
       "      <td>0.000197</td>\n",
       "      <td>bedroom</td>\n",
       "    </tr>\n",
       "    <tr>\n",
       "      <th>4</th>\n",
       "      <td>0.150796</td>\n",
       "      <td>0.010851</td>\n",
       "      <td>0.004438</td>\n",
       "      <td>0.006616</td>\n",
       "      <td>0.014094</td>\n",
       "      <td>0.003776</td>\n",
       "      <td>0.004975</td>\n",
       "      <td>0.015754</td>\n",
       "      <td>0.109821</td>\n",
       "      <td>0.019198</td>\n",
       "      <td>...</td>\n",
       "      <td>0.000051</td>\n",
       "      <td>0.000042</td>\n",
       "      <td>0.000036</td>\n",
       "      <td>0.000043</td>\n",
       "      <td>0.000045</td>\n",
       "      <td>0.000039</td>\n",
       "      <td>0.000031</td>\n",
       "      <td>0.000027</td>\n",
       "      <td>0.000031</td>\n",
       "      <td>bedroom</td>\n",
       "    </tr>\n",
       "  </tbody>\n",
       "</table>\n",
       "<p>5 rows × 901 columns</p>\n",
       "</div>"
      ],
      "text/plain": [
       "          0         1         2         3         4         5         6  \\\n",
       "0  0.233947  0.117094  0.041979  0.047137  0.065039  0.049904  0.045960   \n",
       "1  0.228444  0.020994  0.006660  0.004593  0.013661  0.007352  0.013978   \n",
       "2  0.218880  0.036662  0.012549  0.009126  0.015933  0.008907  0.011023   \n",
       "3  0.192970  0.004613  0.000687  0.001446  0.003915  0.000537  0.001579   \n",
       "4  0.150796  0.010851  0.004438  0.006616  0.014094  0.003776  0.004975   \n",
       "\n",
       "          7         8         9  ...       891       892       893       894  \\\n",
       "0  0.054702  0.174843  0.034666  ...  0.000213  0.000181  0.000137  0.000122   \n",
       "1  0.024262  0.194555  0.014712  ...  0.000133  0.000094  0.000093  0.000106   \n",
       "2  0.034341  0.215594  0.033101  ...  0.000322  0.000235  0.000140  0.000207   \n",
       "3  0.003236  0.205453  0.017466  ...  0.000261  0.000134  0.000135  0.000160   \n",
       "4  0.015754  0.109821  0.019198  ...  0.000051  0.000042  0.000036  0.000043   \n",
       "\n",
       "        895       896       897       898       899    label  \n",
       "0  0.000111  0.000164  0.000185  0.000101  0.000169  bedroom  \n",
       "1  0.000078  0.000123  0.000085  0.000107  0.000096  bedroom  \n",
       "2  0.000210  0.000297  0.000241  0.000265  0.000264  bedroom  \n",
       "3  0.000155  0.000165  0.000117  0.000130  0.000197  bedroom  \n",
       "4  0.000045  0.000039  0.000031  0.000027  0.000031  bedroom  \n",
       "\n",
       "[5 rows x 901 columns]"
      ]
     },
     "execution_count": 35,
     "metadata": {},
     "output_type": "execute_result"
    }
   ],
   "source": [
    "train_df.head()"
   ]
  },
  {
   "cell_type": "code",
   "execution_count": 36,
   "id": "b9d2c1fe",
   "metadata": {},
   "outputs": [
    {
     "data": {
      "text/plain": [
       "(1500, 901)"
      ]
     },
     "execution_count": 36,
     "metadata": {},
     "output_type": "execute_result"
    }
   ],
   "source": [
    "train_df.shape"
   ]
  },
  {
   "cell_type": "code",
   "execution_count": 37,
   "id": "114c6638",
   "metadata": {},
   "outputs": [
    {
     "data": {
      "text/plain": [
       "(2985, 901)"
      ]
     },
     "execution_count": 37,
     "metadata": {},
     "output_type": "execute_result"
    }
   ],
   "source": [
    "test_df.shape"
   ]
  },
  {
   "cell_type": "markdown",
   "id": "bf4f0811",
   "metadata": {},
   "source": [
    "# Cream els conjunts de test i d'entrenament"
   ]
  },
  {
   "cell_type": "code",
   "execution_count": 38,
   "id": "afeeae70",
   "metadata": {},
   "outputs": [],
   "source": [
    "X_train = train_df.drop('label', axis=1)\n",
    "y_train = train_df['label']\n",
    "\n",
    "X_test = test_df.drop('label', axis=1)\n",
    "y_test = test_df['label']"
   ]
  },
  {
   "cell_type": "markdown",
   "id": "f1f6e1bc",
   "metadata": {},
   "source": [
    "# Entrenam el model"
   ]
  },
  {
   "cell_type": "code",
   "execution_count": 39,
   "id": "b2c89e70",
   "metadata": {},
   "outputs": [
    {
     "name": "stdout",
     "output_type": "stream",
     "text": [
      "fit time :  0.3573274612426758  seconds\n"
     ]
    }
   ],
   "source": [
    "svm = SVC(C=1.0, kernel='poly', random_state=42)\n",
    "start_time = time.time()\n",
    "svm.fit(X_train, y_train)\n",
    "print(\"fit time : \", time.time() - start_time, \" seconds\")"
   ]
  },
  {
   "cell_type": "markdown",
   "id": "45917a64",
   "metadata": {},
   "source": [
    "# Donam una predicció"
   ]
  },
  {
   "cell_type": "code",
   "execution_count": 40,
   "id": "5edfd4d5",
   "metadata": {},
   "outputs": [
    {
     "name": "stdout",
     "output_type": "stream",
     "text": [
      "La precisició es de: 0.5122278056951424\n"
     ]
    }
   ],
   "source": [
    "y_predicted = svm.predict(X_test)\n",
    "\n",
    "print(f\"La precisició es de: {accuracy_score(y_test, y_predicted)}\")"
   ]
  }
 ],
 "metadata": {
  "kernelspec": {
   "display_name": "Python 3 (ipykernel)",
   "language": "python",
   "name": "python3"
  },
  "language_info": {
   "codemirror_mode": {
    "name": "ipython",
    "version": 3
   },
   "file_extension": ".py",
   "mimetype": "text/x-python",
   "name": "python",
   "nbconvert_exporter": "python",
   "pygments_lexer": "ipython3",
   "version": "3.9.12"
  }
 },
 "nbformat": 4,
 "nbformat_minor": 5
}
