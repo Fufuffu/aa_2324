{
 "cells": [
  {
   "cell_type": "markdown",
   "id": "f4dc0511",
   "metadata": {},
   "source": [
    "# Preparam el notebook"
   ]
  },
  {
   "cell_type": "code",
   "execution_count": 7,
   "id": "3234b467",
   "metadata": {},
   "outputs": [],
   "source": [
    "import os\n",
    "import time\n",
    "import itertools\n",
    "\n",
    "import pandas as pd\n",
    "import numpy as np\n",
    "import seaborn as sns\n",
    "import matplotlib.pyplot as plt\n",
    "\n",
    "from sklearn.feature_extraction import image\n",
    "from sklearn.metrics import accuracy_score, classification_report\n",
    "from sklearn.svm import SVC\n",
    "from sklearn.model_selection import RepeatedStratifiedKFold\n",
    "from sklearn.experimental import enable_halving_search_cv\n",
    "from sklearn.model_selection import HalvingGridSearchCV\n",
    "\n",
    "from skimage.feature import hog\n",
    "from skimage import io, feature, filters\n",
    "from skimage.transform import rotate, resize\n",
    "from skimage.util import random_noise\n",
    "from scipy import ndimage"
   ]
  },
  {
   "cell_type": "markdown",
   "id": "84b3dbba",
   "metadata": {},
   "source": [
    "# Llegim totes les imatges del dataset"
   ]
  },
  {
   "cell_type": "code",
   "execution_count": 2,
   "id": "0df0e040",
   "metadata": {},
   "outputs": [],
   "source": [
    "def get_image_files_by_folder(root_folder, image_extensions=('jpg', 'jpeg', 'png', 'gif', 'bmp')):\n",
    "    image_files_by_folder = {}\n",
    "\n",
    "    # Walk through the root folder and its subdirectories\n",
    "    for folder_path, _, files in os.walk(root_folder):\n",
    "        folder_name = os.path.basename(folder_path)\n",
    "        image_files = []\n",
    "\n",
    "        for file in files:\n",
    "            file_extension = file.lower().split('.')[-1]\n",
    "            if file_extension in image_extensions:\n",
    "                image_files.append(os.path.join(folder_path, file))\n",
    "\n",
    "        if image_files:\n",
    "            image_files_by_folder[folder_name] = image_files\n",
    "\n",
    "    return image_files_by_folder"
   ]
  },
  {
   "cell_type": "code",
   "execution_count": 3,
   "id": "3baf2440",
   "metadata": {},
   "outputs": [
    {
     "data": {
      "text/plain": [
       "dict_keys(['bedroom', 'coast', 'forest', 'highway', 'industrial', 'insidecity', 'kitchen', 'livingroom', 'mountain', 'office', 'opencountry', 'store', 'street', 'suburb', 'tallbuilding'])"
      ]
     },
     "execution_count": 3,
     "metadata": {},
     "output_type": "execute_result"
    }
   ],
   "source": [
    "train_dataset_path = \"data/train\"\n",
    "images_to_load_train = get_image_files_by_folder(train_dataset_path)\n",
    "images_to_load_train.keys()"
   ]
  },
  {
   "cell_type": "code",
   "execution_count": 4,
   "id": "180f75ec",
   "metadata": {},
   "outputs": [
    {
     "data": {
      "text/plain": [
       "dict_keys(['bedroom', 'coast', 'forest', 'highway', 'industrial', 'insidecity', 'kitchen', 'livingroom', 'mountain', 'office', 'opencountry', 'store', 'street', 'suburb', 'tallbuilding'])"
      ]
     },
     "execution_count": 4,
     "metadata": {},
     "output_type": "execute_result"
    }
   ],
   "source": [
    "test_dataset_path = \"data/test\"\n",
    "images_to_load_test = get_image_files_by_folder(test_dataset_path)\n",
    "images_to_load_test.keys()"
   ]
  },
  {
   "cell_type": "markdown",
   "id": "378cecbb",
   "metadata": {},
   "source": [
    "# Cream el dataframe"
   ]
  },
  {
   "cell_type": "code",
   "execution_count": 11,
   "id": "1b211f33",
   "metadata": {},
   "outputs": [],
   "source": [
    "def read_and_flatten_images(image_list, augment_data):\n",
    "    start_time = time.time()\n",
    "    image_data = []\n",
    "    \n",
    "    for image_path in image_list:\n",
    "        img = io.imread(image_path, as_gray=True)\n",
    "        img = resize(img, (200, 200))\n",
    "        if augment_data:\n",
    "            flipped_img = img[:, ::-1]\n",
    "            rotated_5 = rotate(img, 5)\n",
    "            rotated_neg_5 = rotate(img, -5)\n",
    "            images = [img, flipped_img, rotated_5, rotated_neg_5]\n",
    "        else:\n",
    "            images = [img]\n",
    "\n",
    "        for image_to_process in images:\n",
    "            hog_vectors = hog(image_to_process, orientations=9, pixels_per_cell=(20, 20),\n",
    "                              cells_per_block=(10, 10), channel_axis=None, transform_sqrt=True)\n",
    "            # TODO: Create filter bank? https://github.com/williamcfrancis/Gabor-Filters-and-SVM-on-MNIST/blob/main/Gabor_Filters_SVM_MNIST.ipynb\n",
    "            freq, theta, bandwidth = 0.1, np.pi/4, 1\n",
    "            real, _ = filters.gabor(image_to_process, frequency=freq, theta=theta, bandwidth=bandwidth)\n",
    "\n",
    "            image_data.append(np.concatenate((hog_vectors, real.flatten())))\n",
    "    \n",
    "    print(\"Read + HOG + Data augmentation time + GABOR:\", time.time() - start_time, \"seconds\")\n",
    "    return image_data\n",
    "\n",
    "def create_dataframe_from_categories(images_to_load, augment_data=True):\n",
    "    df = pd.DataFrame()\n",
    "    for label, image_list in images_to_load.items():\n",
    "        image_data = read_and_flatten_images(images_to_load[label], augment_data)\n",
    "        next_part = pd.DataFrame(image_data)\n",
    "        next_part['label'] = label\n",
    "        df = pd.concat([df, next_part], ignore_index=True)\n",
    "    return df"
   ]
  },
  {
   "cell_type": "code",
   "execution_count": 12,
   "id": "ba3cec38",
   "metadata": {},
   "outputs": [
    {
     "name": "stdout",
     "output_type": "stream",
     "text": [
      "Read + HOG + Data augmentation time + GABOR: 16.134086847305298 seconds\n",
      "Read + HOG + Data augmentation time + GABOR: 16.216979265213013 seconds\n",
      "Read + HOG + Data augmentation time + GABOR: 16.798370122909546 seconds\n",
      "Read + HOG + Data augmentation time + GABOR: 16.997578382492065 seconds\n",
      "Read + HOG + Data augmentation time + GABOR: 17.107712984085083 seconds\n",
      "Read + HOG + Data augmentation time + GABOR: 16.98561191558838 seconds\n",
      "Read + HOG + Data augmentation time + GABOR: 16.574727296829224 seconds\n",
      "Read + HOG + Data augmentation time + GABOR: 16.388156414031982 seconds\n",
      "Read + HOG + Data augmentation time + GABOR: 16.365331411361694 seconds\n",
      "Read + HOG + Data augmentation time + GABOR: 16.317786931991577 seconds\n",
      "Read + HOG + Data augmentation time + GABOR: 16.33007264137268 seconds\n",
      "Read + HOG + Data augmentation time + GABOR: 16.398698329925537 seconds\n",
      "Read + HOG + Data augmentation time + GABOR: 16.38350820541382 seconds\n",
      "Read + HOG + Data augmentation time + GABOR: 16.356008052825928 seconds\n",
      "Read + HOG + Data augmentation time + GABOR: 16.375990390777588 seconds\n",
      "Read + HOG + Data augmentation time + GABOR: 4.869407892227173 seconds\n",
      "Read + HOG + Data augmentation time + GABOR: 11.240658044815063 seconds\n",
      "Read + HOG + Data augmentation time + GABOR: 9.660138368606567 seconds\n",
      "Read + HOG + Data augmentation time + GABOR: 6.63139009475708 seconds\n",
      "Read + HOG + Data augmentation time + GABOR: 8.844748497009277 seconds\n",
      "Read + HOG + Data augmentation time + GABOR: 8.65339708328247 seconds\n",
      "Read + HOG + Data augmentation time + GABOR: 4.592775821685791 seconds\n",
      "Read + HOG + Data augmentation time + GABOR: 7.852384328842163 seconds\n",
      "Read + HOG + Data augmentation time + GABOR: 11.460356950759888 seconds\n",
      "Read + HOG + Data augmentation time + GABOR: 4.758875370025635 seconds\n",
      "Read + HOG + Data augmentation time + GABOR: 12.87148642539978 seconds\n",
      "Read + HOG + Data augmentation time + GABOR: 9.01205563545227 seconds\n",
      "Read + HOG + Data augmentation time + GABOR: 7.977522611618042 seconds\n",
      "Read + HOG + Data augmentation time + GABOR: 5.842696189880371 seconds\n",
      "Read + HOG + Data augmentation time + GABOR: 10.70620059967041 seconds\n"
     ]
    }
   ],
   "source": [
    "train_df = create_dataframe_from_categories(images_to_load_train)\n",
    "test_df = create_dataframe_from_categories(images_to_load_test, augment_data=False)"
   ]
  },
  {
   "cell_type": "code",
   "execution_count": 13,
   "id": "91ec8e94",
   "metadata": {},
   "outputs": [
    {
     "data": {
      "text/html": [
       "<div>\n",
       "<style scoped>\n",
       "    .dataframe tbody tr th:only-of-type {\n",
       "        vertical-align: middle;\n",
       "    }\n",
       "\n",
       "    .dataframe tbody tr th {\n",
       "        vertical-align: top;\n",
       "    }\n",
       "\n",
       "    .dataframe thead th {\n",
       "        text-align: right;\n",
       "    }\n",
       "</style>\n",
       "<table border=\"1\" class=\"dataframe\">\n",
       "  <thead>\n",
       "    <tr style=\"text-align: right;\">\n",
       "      <th></th>\n",
       "      <th>0</th>\n",
       "      <th>1</th>\n",
       "      <th>2</th>\n",
       "      <th>3</th>\n",
       "      <th>4</th>\n",
       "      <th>5</th>\n",
       "      <th>6</th>\n",
       "      <th>7</th>\n",
       "      <th>8</th>\n",
       "      <th>9</th>\n",
       "      <th>...</th>\n",
       "      <th>40891</th>\n",
       "      <th>40892</th>\n",
       "      <th>40893</th>\n",
       "      <th>40894</th>\n",
       "      <th>40895</th>\n",
       "      <th>40896</th>\n",
       "      <th>40897</th>\n",
       "      <th>40898</th>\n",
       "      <th>40899</th>\n",
       "      <th>label</th>\n",
       "    </tr>\n",
       "  </thead>\n",
       "  <tbody>\n",
       "    <tr>\n",
       "      <th>0</th>\n",
       "      <td>0.008185</td>\n",
       "      <td>0.002439</td>\n",
       "      <td>0.002141</td>\n",
       "      <td>0.001423</td>\n",
       "      <td>0.025780</td>\n",
       "      <td>0.068306</td>\n",
       "      <td>0.002338</td>\n",
       "      <td>0.002355</td>\n",
       "      <td>0.005720</td>\n",
       "      <td>0.010730</td>\n",
       "      <td>...</td>\n",
       "      <td>0.000578</td>\n",
       "      <td>0.000730</td>\n",
       "      <td>0.000873</td>\n",
       "      <td>0.000898</td>\n",
       "      <td>0.000848</td>\n",
       "      <td>0.000732</td>\n",
       "      <td>0.000567</td>\n",
       "      <td>0.000464</td>\n",
       "      <td>0.000404</td>\n",
       "      <td>bedroom</td>\n",
       "    </tr>\n",
       "    <tr>\n",
       "      <th>1</th>\n",
       "      <td>0.008833</td>\n",
       "      <td>0.017317</td>\n",
       "      <td>0.004386</td>\n",
       "      <td>0.001850</td>\n",
       "      <td>0.005067</td>\n",
       "      <td>0.001878</td>\n",
       "      <td>0.001946</td>\n",
       "      <td>0.003284</td>\n",
       "      <td>0.004102</td>\n",
       "      <td>0.031619</td>\n",
       "      <td>...</td>\n",
       "      <td>-0.001853</td>\n",
       "      <td>-0.001520</td>\n",
       "      <td>-0.000995</td>\n",
       "      <td>-0.000464</td>\n",
       "      <td>0.000027</td>\n",
       "      <td>0.000302</td>\n",
       "      <td>0.000479</td>\n",
       "      <td>0.000513</td>\n",
       "      <td>0.000496</td>\n",
       "      <td>bedroom</td>\n",
       "    </tr>\n",
       "    <tr>\n",
       "      <th>2</th>\n",
       "      <td>0.002579</td>\n",
       "      <td>0.000566</td>\n",
       "      <td>0.001385</td>\n",
       "      <td>0.035966</td>\n",
       "      <td>0.183858</td>\n",
       "      <td>0.043381</td>\n",
       "      <td>0.001919</td>\n",
       "      <td>0.002758</td>\n",
       "      <td>0.003688</td>\n",
       "      <td>0.003583</td>\n",
       "      <td>...</td>\n",
       "      <td>0.000021</td>\n",
       "      <td>0.000041</td>\n",
       "      <td>0.000102</td>\n",
       "      <td>0.000227</td>\n",
       "      <td>0.000407</td>\n",
       "      <td>0.000618</td>\n",
       "      <td>0.000827</td>\n",
       "      <td>0.000989</td>\n",
       "      <td>0.001078</td>\n",
       "      <td>bedroom</td>\n",
       "    </tr>\n",
       "    <tr>\n",
       "      <th>3</th>\n",
       "      <td>0.204673</td>\n",
       "      <td>0.006517</td>\n",
       "      <td>0.000000</td>\n",
       "      <td>0.000042</td>\n",
       "      <td>0.000014</td>\n",
       "      <td>0.000088</td>\n",
       "      <td>0.000036</td>\n",
       "      <td>0.000030</td>\n",
       "      <td>0.000021</td>\n",
       "      <td>0.007952</td>\n",
       "      <td>...</td>\n",
       "      <td>-0.011975</td>\n",
       "      <td>-0.009911</td>\n",
       "      <td>-0.006280</td>\n",
       "      <td>-0.002185</td>\n",
       "      <td>0.001247</td>\n",
       "      <td>0.003185</td>\n",
       "      <td>0.003890</td>\n",
       "      <td>0.003835</td>\n",
       "      <td>0.003695</td>\n",
       "      <td>bedroom</td>\n",
       "    </tr>\n",
       "    <tr>\n",
       "      <th>4</th>\n",
       "      <td>0.030251</td>\n",
       "      <td>0.001918</td>\n",
       "      <td>0.000757</td>\n",
       "      <td>0.000693</td>\n",
       "      <td>0.004884</td>\n",
       "      <td>0.003965</td>\n",
       "      <td>0.001368</td>\n",
       "      <td>0.002498</td>\n",
       "      <td>0.023177</td>\n",
       "      <td>0.035379</td>\n",
       "      <td>...</td>\n",
       "      <td>0.000788</td>\n",
       "      <td>0.000693</td>\n",
       "      <td>0.000508</td>\n",
       "      <td>0.000269</td>\n",
       "      <td>-0.000003</td>\n",
       "      <td>-0.000264</td>\n",
       "      <td>-0.000476</td>\n",
       "      <td>-0.000640</td>\n",
       "      <td>-0.000753</td>\n",
       "      <td>bedroom</td>\n",
       "    </tr>\n",
       "  </tbody>\n",
       "</table>\n",
       "<p>5 rows × 40901 columns</p>\n",
       "</div>"
      ],
      "text/plain": [
       "          0         1         2         3         4         5         6  \\\n",
       "0  0.008185  0.002439  0.002141  0.001423  0.025780  0.068306  0.002338   \n",
       "1  0.008833  0.017317  0.004386  0.001850  0.005067  0.001878  0.001946   \n",
       "2  0.002579  0.000566  0.001385  0.035966  0.183858  0.043381  0.001919   \n",
       "3  0.204673  0.006517  0.000000  0.000042  0.000014  0.000088  0.000036   \n",
       "4  0.030251  0.001918  0.000757  0.000693  0.004884  0.003965  0.001368   \n",
       "\n",
       "          7         8         9  ...     40891     40892     40893     40894  \\\n",
       "0  0.002355  0.005720  0.010730  ...  0.000578  0.000730  0.000873  0.000898   \n",
       "1  0.003284  0.004102  0.031619  ... -0.001853 -0.001520 -0.000995 -0.000464   \n",
       "2  0.002758  0.003688  0.003583  ...  0.000021  0.000041  0.000102  0.000227   \n",
       "3  0.000030  0.000021  0.007952  ... -0.011975 -0.009911 -0.006280 -0.002185   \n",
       "4  0.002498  0.023177  0.035379  ...  0.000788  0.000693  0.000508  0.000269   \n",
       "\n",
       "      40895     40896     40897     40898     40899    label  \n",
       "0  0.000848  0.000732  0.000567  0.000464  0.000404  bedroom  \n",
       "1  0.000027  0.000302  0.000479  0.000513  0.000496  bedroom  \n",
       "2  0.000407  0.000618  0.000827  0.000989  0.001078  bedroom  \n",
       "3  0.001247  0.003185  0.003890  0.003835  0.003695  bedroom  \n",
       "4 -0.000003 -0.000264 -0.000476 -0.000640 -0.000753  bedroom  \n",
       "\n",
       "[5 rows x 40901 columns]"
      ]
     },
     "execution_count": 13,
     "metadata": {},
     "output_type": "execute_result"
    }
   ],
   "source": [
    "train_df.head()"
   ]
  },
  {
   "cell_type": "code",
   "execution_count": 14,
   "id": "21762fce",
   "metadata": {},
   "outputs": [
    {
     "data": {
      "text/plain": [
       "(6000, 40901)"
      ]
     },
     "execution_count": 14,
     "metadata": {},
     "output_type": "execute_result"
    }
   ],
   "source": [
    "train_df.shape"
   ]
  },
  {
   "cell_type": "code",
   "execution_count": 15,
   "id": "ccbc5620",
   "metadata": {},
   "outputs": [
    {
     "data": {
      "text/plain": [
       "(2985, 40901)"
      ]
     },
     "execution_count": 15,
     "metadata": {},
     "output_type": "execute_result"
    }
   ],
   "source": [
    "test_df.shape"
   ]
  },
  {
   "cell_type": "markdown",
   "id": "f597a98b",
   "metadata": {},
   "source": [
    "# Cream els conjunts de test i d'entrenament"
   ]
  },
  {
   "cell_type": "code",
   "execution_count": 16,
   "id": "33c69420",
   "metadata": {},
   "outputs": [],
   "source": [
    "X_train = train_df.drop('label', axis=1)\n",
    "y_train = train_df['label']\n",
    "\n",
    "X_test = test_df.drop('label', axis=1)\n",
    "y_test = test_df['label']"
   ]
  },
  {
   "cell_type": "markdown",
   "id": "26406095",
   "metadata": {},
   "source": [
    "# Entrenam el model"
   ]
  },
  {
   "cell_type": "code",
   "execution_count": 19,
   "id": "3e0369f5",
   "metadata": {},
   "outputs": [
    {
     "name": "stdout",
     "output_type": "stream",
     "text": [
      "fit time: 741.6999897956848 seconds\n"
     ]
    }
   ],
   "source": [
    "svm = SVC(C=1, kernel='poly', random_state=33)\n",
    "start_time = time.time()\n",
    "svm.fit(X_train, y_train)\n",
    "print(\"fit time:\", time.time() - start_time, \"seconds\")"
   ]
  },
  {
   "cell_type": "markdown",
   "id": "016da1ff",
   "metadata": {},
   "source": [
    "# Donam una predicció"
   ]
  },
  {
   "cell_type": "code",
   "execution_count": 20,
   "id": "a9c1886a",
   "metadata": {},
   "outputs": [
    {
     "name": "stdout",
     "output_type": "stream",
     "text": [
      "La precisició es de: 0.36348408710217756\n"
     ]
    }
   ],
   "source": [
    "y_predicted = svm.predict(X_test)\n",
    "\n",
    "print(f\"La precisició es de: {accuracy_score(y_test, y_predicted)}\")"
   ]
  }
 ],
 "metadata": {
  "kernelspec": {
   "display_name": "Python 3 (ipykernel)",
   "language": "python",
   "name": "python3"
  },
  "language_info": {
   "codemirror_mode": {
    "name": "ipython",
    "version": 3
   },
   "file_extension": ".py",
   "mimetype": "text/x-python",
   "name": "python",
   "nbconvert_exporter": "python",
   "pygments_lexer": "ipython3",
   "version": "3.9.12"
  }
 },
 "nbformat": 4,
 "nbformat_minor": 5
}
