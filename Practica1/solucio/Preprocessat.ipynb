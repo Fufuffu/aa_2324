{
 "cells": [
  {
   "cell_type": "code",
   "execution_count": 2,
   "metadata": {},
   "outputs": [
    {
     "name": "stdout",
     "output_type": "stream",
     "text": [
      "Defaulting to user installation because normal site-packages is not writeable\n",
      "Requirement already satisfied: pillow in c:\\programdata\\anaconda3\\lib\\site-packages (9.0.1)\n"
     ]
    }
   ],
   "source": [
    "import sys\n",
    "!{sys.executable} -m pip install pillow"
   ]
  },
  {
   "cell_type": "markdown",
   "metadata": {},
   "source": [
    "# Llegim totes les imatges del dataset"
   ]
  },
  {
   "cell_type": "code",
   "execution_count": 3,
   "metadata": {},
   "outputs": [],
   "source": [
    "train_dataset_path = \"../dat/a2/data/train\"\n",
    "test_dataset_path = \"../dat/a2/data/test\""
   ]
  },
  {
   "cell_type": "code",
   "execution_count": 4,
   "metadata": {},
   "outputs": [],
   "source": [
    "import os\n",
    "\n",
    "def get_image_files_by_folder(root_folder, image_extensions=('jpg', 'jpeg', 'png', 'gif', 'bmp')):\n",
    "    image_files_by_folder = {}\n",
    "\n",
    "    # Walk through the root folder and its subdirectories\n",
    "    for folder_path, _, files in os.walk(root_folder):\n",
    "        folder_name = os.path.basename(folder_path)\n",
    "        image_files = []\n",
    "\n",
    "        for file in files:\n",
    "            file_extension = file.lower().split('.')[-1]\n",
    "            if file_extension in image_extensions:\n",
    "                image_files.append(file)\n",
    "\n",
    "        if image_files:\n",
    "            image_files_by_folder[folder_name] = image_files\n",
    "\n",
    "    return image_files_by_folder"
   ]
  },
  {
   "cell_type": "code",
   "execution_count": 6,
   "metadata": {},
   "outputs": [],
   "source": [
    "train_images = get_image_files_by_folder(train_dataset_path)\n",
    "test_images = get_image_files_by_folder(test_dataset_path)"
   ]
  },
  {
   "cell_type": "code",
   "execution_count": 7,
   "metadata": {},
   "outputs": [
    {
     "data": {
      "text/plain": [
       "dict_keys(['bedroom', 'Coast', 'Forest', 'Highway', 'industrial', 'Insidecity', 'kitchen', 'livingroom', 'Mountain', 'Office', 'OpenCountry', 'store', 'Street', 'Suburb', 'TallBuilding'])"
      ]
     },
     "execution_count": 7,
     "metadata": {},
     "output_type": "execute_result"
    }
   ],
   "source": [
    "train_images.keys()"
   ]
  },
  {
   "cell_type": "code",
   "execution_count": 8,
   "metadata": {},
   "outputs": [
    {
     "data": {
      "text/plain": [
       "dict_keys(['bedroom', 'coast', 'forest', 'highway', 'industrial', 'insidecity', 'kitchen', 'livingRoom', 'livingRoom (Case Conflict)', 'mountain', 'office', 'opencountry', 'store', 'street', 'suburb', 'tallbuilding'])"
      ]
     },
     "execution_count": 8,
     "metadata": {},
     "output_type": "execute_result"
    }
   ],
   "source": [
    "test_images.keys()"
   ]
  },
  {
   "cell_type": "markdown",
   "metadata": {},
   "source": [
    "# Reescalam totes les imatges a un tamany igual"
   ]
  },
  {
   "cell_type": "code",
   "execution_count": 9,
   "metadata": {},
   "outputs": [],
   "source": [
    "from PIL import Image\n",
    "import os\n",
    "\n",
    "def resize_images_in_folder(input_folder, output_folder, size=(200, 200)):\n",
    "    # Create the output folder if it doesn't exist\n",
    "    if not os.path.exists(output_folder):\n",
    "        os.makedirs(output_folder)\n",
    "\n",
    "    # List all files in the input folder\n",
    "    files = os.listdir(input_folder)\n",
    "\n",
    "    for file in files:\n",
    "        input_path = os.path.join(input_folder, file)\n",
    "        output_path = os.path.join(output_folder, file)\n",
    "\n",
    "        try:\n",
    "            # Open the image\n",
    "            img = Image.open(input_path)\n",
    "\n",
    "            # Resize the image\n",
    "            img = img.resize(size, resample=Image.LANCZOS)\n",
    "\n",
    "            # Save the resized image to the output folder\n",
    "            img.save(output_path)\n",
    "\n",
    "        except Exception as e:\n",
    "            print(f\"Error processing {input_path}: {str(e)}\")"
   ]
  },
  {
   "cell_type": "code",
   "execution_count": 11,
   "metadata": {},
   "outputs": [
    {
     "name": "stdout",
     "output_type": "stream",
     "text": [
      "Done for directory: bedroom\n",
      "Done for directory: Coast\n",
      "Done for directory: Forest\n",
      "Done for directory: Highway\n",
      "Done for directory: industrial\n",
      "Done for directory: Insidecity\n",
      "Done for directory: kitchen\n",
      "Done for directory: livingroom\n",
      "Done for directory: Mountain\n",
      "Done for directory: Office\n",
      "Done for directory: OpenCountry\n",
      "Done for directory: store\n",
      "Done for directory: Street\n",
      "Done for directory: Suburb\n",
      "Done for directory: TallBuilding\n"
     ]
    }
   ],
   "source": [
    "train_output_base_path = \"data/train\"\n",
    "\n",
    "files = os.listdir(train_dataset_path)\n",
    "\n",
    "for file in files:\n",
    "    current_input_path = os.path.join(train_dataset_path, file)\n",
    "    current_output_path = os.path.join(train_output_base_path, file)\n",
    "    \n",
    "    resize_images_in_folder(current_input_path, current_output_path)\n",
    "    print(f\"Done for directory: {file}\")"
   ]
  },
  {
   "cell_type": "code",
   "execution_count": 12,
   "metadata": {},
   "outputs": [
    {
     "name": "stdout",
     "output_type": "stream",
     "text": [
      "Done for directory: bedroom\n",
      "Done for directory: coast\n",
      "Done for directory: forest\n",
      "Done for directory: highway\n",
      "Done for directory: industrial\n",
      "Done for directory: insidecity\n",
      "Done for directory: kitchen\n",
      "Done for directory: livingRoom\n",
      "Done for directory: livingRoom (Case Conflict)\n",
      "Done for directory: mountain\n",
      "Done for directory: office\n",
      "Done for directory: opencountry\n",
      "Done for directory: store\n",
      "Done for directory: street\n",
      "Done for directory: suburb\n",
      "Done for directory: tallbuilding\n"
     ]
    }
   ],
   "source": [
    "test_output_base_path = \"data/test\"\n",
    "\n",
    "files = os.listdir(test_dataset_path)\n",
    "\n",
    "for file in files:\n",
    "    current_input_path = os.path.join(test_dataset_path, file)\n",
    "    current_output_path = os.path.join(test_output_base_path, file)\n",
    "    \n",
    "    resize_images_in_folder(current_input_path, current_output_path)\n",
    "    print(f\"Done for directory: {file}\")"
   ]
  }
 ],
 "metadata": {
  "kernelspec": {
   "display_name": "Python 3 (ipykernel)",
   "language": "python",
   "name": "python3"
  },
  "language_info": {
   "codemirror_mode": {
    "name": "ipython",
    "version": 3
   },
   "file_extension": ".py",
   "mimetype": "text/x-python",
   "name": "python",
   "nbconvert_exporter": "python",
   "pygments_lexer": "ipython3",
   "version": "3.9.12"
  }
 },
 "nbformat": 4,
 "nbformat_minor": 2
}
